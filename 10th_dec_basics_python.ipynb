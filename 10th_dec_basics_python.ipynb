{
 "cells": [
  {
   "cell_type": "code",
   "execution_count": null,
   "id": "2231816e-22b3-47b9-8f6d-8c3f9922aa9a",
   "metadata": {},
   "outputs": [],
   "source": [
    "##1. Write a program to reverse a string."
   ]
  },
  {
   "cell_type": "code",
   "execution_count": null,
   "id": "68ae86f4-bac5-461f-a185-7cf1ceef39ef",
   "metadata": {},
   "outputs": [],
   "source": [
    "#user input"
   ]
  },
  {
   "cell_type": "code",
   "execution_count": 1,
   "id": "9474e4ac-f5ed-407b-b011-7a15e8fabfbf",
   "metadata": {},
   "outputs": [
    {
     "name": "stdin",
     "output_type": "stream",
     "text": [
      "enter a string: python\n"
     ]
    }
   ],
   "source": [
    "input_string = input(\"enter a string:\")"
   ]
  },
  {
   "cell_type": "code",
   "execution_count": null,
   "id": "a69e4b22-bc41-46d4-bf6b-d280e99e8cbc",
   "metadata": {},
   "outputs": [],
   "source": [
    "#reverse string using slicing concept"
   ]
  },
  {
   "cell_type": "code",
   "execution_count": 2,
   "id": "e4882970-cec7-41f6-bf89-8a79ea124627",
   "metadata": {},
   "outputs": [],
   "source": [
    "reversed_string = input_string[::-1]"
   ]
  },
  {
   "cell_type": "code",
   "execution_count": null,
   "id": "c0122a5c-1b39-4309-b5c4-50976837d3bc",
   "metadata": {},
   "outputs": [],
   "source": [
    "#print the result"
   ]
  },
  {
   "cell_type": "code",
   "execution_count": 3,
   "id": "080e83f7-c387-4cf8-b068-beeb771e2b6d",
   "metadata": {},
   "outputs": [
    {
     "name": "stdout",
     "output_type": "stream",
     "text": [
      "reversed_string nohtyp\n"
     ]
    }
   ],
   "source": [
    "print(\"reversed_string\" ,reversed_string)"
   ]
  },
  {
   "cell_type": "code",
   "execution_count": null,
   "id": "5263f770-1b41-4eb9-86ca-91c056980b9f",
   "metadata": {},
   "outputs": [],
   "source": []
  },
  {
   "cell_type": "code",
   "execution_count": 4,
   "id": "83198ec2-23ff-47fb-988b-8443135c90af",
   "metadata": {},
   "outputs": [],
   "source": [
    "##2. Check if a string is a palindrome.                                                                            "
   ]
  },
  {
   "cell_type": "code",
   "execution_count": null,
   "id": "f63ec133-e8ea-44e8-9910-a9327084d578",
   "metadata": {},
   "outputs": [],
   "source": [
    "# Define a function named is_palindrome that takes an input string."
   ]
  },
  {
   "cell_type": "code",
   "execution_count": null,
   "id": "323b4f7d-0277-4673-b224-8401cf87cbd9",
   "metadata": {
    "jupyter": {
     "source_hidden": true
    },
    "tags": []
   },
   "outputs": [],
   "source": [
    "def is_palindrome(input_string):"
   ]
  },
  {
   "cell_type": "code",
   "execution_count": null,
   "id": "80477e52-a17b-4a90-9b22-50483c7063fc",
   "metadata": {},
   "outputs": [],
   "source": [
    " # Remove spaces from the input string and convert it to lowercase."
   ]
  },
  {
   "cell_type": "code",
   "execution_count": 28,
   "id": "866d0000-8d63-426f-8889-0f3ac66d8531",
   "metadata": {},
   "outputs": [],
   "source": [
    "input_string = input_string.replace (\" \" ,\" \").lower()"
   ]
  },
  {
   "cell_type": "code",
   "execution_count": null,
   "id": "29790824-f518-4248-b3c0-74b7052b288b",
   "metadata": {},
   "outputs": [],
   "source": [
    "return input_string == input_string[::-1]"
   ]
  },
  {
   "cell_type": "code",
   "execution_count": 33,
   "id": "0eff7324-2080-4cc9-90be-dd241e2ea4b8",
   "metadata": {},
   "outputs": [
    {
     "name": "stdin",
     "output_type": "stream",
     "text": [
      "enter a string: data science\n"
     ]
    }
   ],
   "source": [
    "user_input = input(\"enter a string:\")"
   ]
  },
  {
   "cell_type": "code",
   "execution_count": null,
   "id": "88ad7c1c-3e46-4610-8ad0-36d0ca5f7ff9",
   "metadata": {},
   "outputs": [],
   "source": [
    "# If the result is True, print that the input string is a palindrome.Otherwise, print that it's not a palindrome."
   ]
  },
  {
   "cell_type": "code",
   "execution_count": null,
   "id": "b3c84d2c-4d8e-4d0f-b410-faf06a1458ab",
   "metadata": {},
   "outputs": [],
   "source": [
    "if is_palindrome(user_input):"
   ]
  },
  {
   "cell_type": "code",
   "execution_count": null,
   "id": "ddc70674-d222-46b8-9129-6a4607cd816c",
   "metadata": {},
   "outputs": [],
   "source": [
    " print(\"The input string is a palindrome.\")"
   ]
  },
  {
   "cell_type": "code",
   "execution_count": null,
   "id": "028fc74b-17c6-441d-87e6-ae00e089739f",
   "metadata": {},
   "outputs": [],
   "source": [
    "else:"
   ]
  },
  {
   "cell_type": "code",
   "execution_count": 38,
   "id": "6e3d4867-2a24-4828-9e0e-aac8e7187681",
   "metadata": {},
   "outputs": [
    {
     "name": "stdout",
     "output_type": "stream",
     "text": [
      "The input string is not a palindrome.\n"
     ]
    }
   ],
   "source": [
    " print(\"The input string is not a palindrome.\")"
   ]
  },
  {
   "cell_type": "code",
   "execution_count": null,
   "id": "1bb3376e-fd95-487f-9b2e-c1aa64bb69ba",
   "metadata": {},
   "outputs": [],
   "source": []
  },
  {
   "cell_type": "code",
   "execution_count": null,
   "id": "d397e3d3-c6fa-45a7-890a-5275de1bb629",
   "metadata": {},
   "outputs": [],
   "source": [
    "##3. Convert a string to uppercase."
   ]
  },
  {
   "cell_type": "code",
   "execution_count": null,
   "id": "958b81f7-5c5d-4be6-bd05-a5173b94768f",
   "metadata": {},
   "outputs": [],
   "source": [
    "#user input"
   ]
  },
  {
   "cell_type": "code",
   "execution_count": 52,
   "id": "51484013-1852-43c2-ab01-94f652cc1bc6",
   "metadata": {},
   "outputs": [
    {
     "name": "stdin",
     "output_type": "stream",
     "text": [
      "enter a string: python\n"
     ]
    }
   ],
   "source": [
    "input_string = input(\"enter a string:\")"
   ]
  },
  {
   "cell_type": "code",
   "execution_count": null,
   "id": "6b70f1ba-ce7b-408c-a111-40c2197b1965",
   "metadata": {},
   "outputs": [],
   "source": [
    "#convert the string to uppercase"
   ]
  },
  {
   "cell_type": "code",
   "execution_count": 56,
   "id": "9fed3a97-9adf-4346-9fdc-3f644658dbe9",
   "metadata": {},
   "outputs": [],
   "source": [
    "uppercase_string = input_string.upper()"
   ]
  },
  {
   "cell_type": "code",
   "execution_count": 60,
   "id": "20146c31-6597-46c4-b521-f72d2fdcb3c5",
   "metadata": {},
   "outputs": [
    {
     "name": "stdout",
     "output_type": "stream",
     "text": [
      "PYTHON\n"
     ]
    }
   ],
   "source": [
    "print(input_string.upper())"
   ]
  },
  {
   "cell_type": "code",
   "execution_count": null,
   "id": "19ec1c01-3dbd-4eb4-ba87-fc67f8dd4c06",
   "metadata": {},
   "outputs": [],
   "source": []
  },
  {
   "cell_type": "code",
   "execution_count": 61,
   "id": "b3253a39-3d52-45c2-baa3-4313c587d3f3",
   "metadata": {},
   "outputs": [],
   "source": [
    "##4. Convert a string to lowercase."
   ]
  },
  {
   "cell_type": "code",
   "execution_count": null,
   "id": "97fc42cd-a091-42f5-b4e1-43ef3f9b7eeb",
   "metadata": {},
   "outputs": [],
   "source": [
    "#user input"
   ]
  },
  {
   "cell_type": "code",
   "execution_count": 64,
   "id": "9abc9e98-035e-4cca-80f6-226e0b3abb94",
   "metadata": {},
   "outputs": [
    {
     "name": "stdin",
     "output_type": "stream",
     "text": [
      "enter a string: PYTHON\n"
     ]
    }
   ],
   "source": [
    "input_string = input(\"enter a string:\")"
   ]
  },
  {
   "cell_type": "code",
   "execution_count": null,
   "id": "d96fadde-8f95-4800-bb76-dfb2ea4c2c60",
   "metadata": {},
   "outputs": [],
   "source": [
    "#convert the string to lowercase."
   ]
  },
  {
   "cell_type": "code",
   "execution_count": 63,
   "id": "64d4f700-e743-45c6-bdc8-ab9ee19afde7",
   "metadata": {},
   "outputs": [],
   "source": [
    "lowercase_string = input_string.lower()"
   ]
  },
  {
   "cell_type": "code",
   "execution_count": 65,
   "id": "c22cf748-e619-4a36-bdc2-bcbc1486533d",
   "metadata": {},
   "outputs": [
    {
     "name": "stdout",
     "output_type": "stream",
     "text": [
      "python\n"
     ]
    }
   ],
   "source": [
    "print(input_string.lower())"
   ]
  },
  {
   "cell_type": "code",
   "execution_count": null,
   "id": "cd7ac148-8a3d-43b6-9f84-1a8e1ded67ec",
   "metadata": {},
   "outputs": [],
   "source": [
    "##5.Count the number of vowels in a string."
   ]
  },
  {
   "cell_type": "code",
   "execution_count": 33,
   "id": "1841ed1c-3045-4b0b-8e64-2ce33a137b8c",
   "metadata": {},
   "outputs": [
    {
     "name": "stdout",
     "output_type": "stream",
     "text": [
      "Number of vowels: 3\n"
     ]
    }
   ],
   "source": [
    "def count_vowels(string):\n",
    "    vowels = \"aeiouAEIOU\"\n",
    "    count = 0\n",
    "\n",
    "    for char in string:\n",
    "        if char in vowels:\n",
    "            count += 1\n",
    "\n",
    "    return count\n",
    "\n",
    "# Example usage:\n",
    "my_string = \"Hello, World!\"\n",
    "vowel_count = count_vowels(my_string)\n",
    "\n",
    "print(\"Number of vowels:\", vowel_count)\n"
   ]
  },
  {
   "cell_type": "code",
   "execution_count": null,
   "id": "4235e7c3-1b46-4525-9378-18fb55116208",
   "metadata": {},
   "outputs": [],
   "source": [
    "##6.Count the number of consonants in a string."
   ]
  },
  {
   "cell_type": "code",
   "execution_count": 34,
   "id": "048bb7b9-287d-4592-af04-6445662780d7",
   "metadata": {},
   "outputs": [
    {
     "name": "stdout",
     "output_type": "stream",
     "text": [
      "Number of consonants: 7\n"
     ]
    }
   ],
   "source": [
    "def count_consonants(string):\n",
    "    consonants = \"bcdfghjklmnpqrstvwxyzBCDFGHJKLMNPQRSTVWXYZ\"\n",
    "    count = 0\n",
    "\n",
    "    for char in string:\n",
    "        if char in consonants:\n",
    "            count += 1\n",
    "\n",
    "    return count\n",
    "\n",
    "# Example usage:\n",
    "my_string = \"Hello, World!\"\n",
    "consonant_count = count_consonants(my_string)\n",
    "\n",
    "print(\"Number of consonants:\", consonant_count)\n"
   ]
  },
  {
   "cell_type": "code",
   "execution_count": null,
   "id": "dd9e1c8b-8d81-447e-9786-d7d44f6d93ef",
   "metadata": {},
   "outputs": [],
   "source": []
  },
  {
   "cell_type": "code",
   "execution_count": 16,
   "id": "19164acb-5cdc-4091-845a-33b8a8bbb2b7",
   "metadata": {},
   "outputs": [],
   "source": [
    "##7. Remove all whitespaces from a string."
   ]
  },
  {
   "cell_type": "code",
   "execution_count": 21,
   "id": "17b5b053-8541-4ac6-a5cc-8d3b9d63ef3b",
   "metadata": {},
   "outputs": [],
   "source": [
    "original_string=\"python, program\""
   ]
  },
  {
   "cell_type": "code",
   "execution_count": 18,
   "id": "12c82023-011f-4142-8157-974fca679023",
   "metadata": {},
   "outputs": [],
   "source": [
    "no_whitespace_string = original_string.replace(\" \",\" \")"
   ]
  },
  {
   "cell_type": "code",
   "execution_count": 22,
   "id": "6a9e54a7-f22f-4752-b474-de6ce17a436f",
   "metadata": {},
   "outputs": [
    {
     "name": "stdout",
     "output_type": "stream",
     "text": [
      "python program\n"
     ]
    }
   ],
   "source": [
    "print(no_whitespace_string)"
   ]
  },
  {
   "cell_type": "code",
   "execution_count": 1,
   "id": "0130962b-2c35-412e-be30-0491d21e02e1",
   "metadata": {},
   "outputs": [],
   "source": [
    "##8Find the length of a string without using the `len()` function."
   ]
  },
  {
   "cell_type": "code",
   "execution_count": 10,
   "id": "0aa561da-0c64-4528-9e4a-1678865365d1",
   "metadata": {},
   "outputs": [],
   "source": [
    "def calculate_string_length(input_string):\n",
    "    count=0\n",
    "    for char in input_string:\n",
    "        count+=1\n",
    "    return count\n",
    "    "
   ]
  },
  {
   "cell_type": "code",
   "execution_count": 13,
   "id": "c4c20779-61b7-4930-9064-56dc93555ce7",
   "metadata": {},
   "outputs": [
    {
     "data": {
      "text/plain": [
       "5"
      ]
     },
     "execution_count": 13,
     "metadata": {},
     "output_type": "execute_result"
    }
   ],
   "source": [
    "calculate_string_length(\"hello\")"
   ]
  },
  {
   "cell_type": "code",
   "execution_count": 14,
   "id": "387a6873-f369-4c4d-8932-53da2205701a",
   "metadata": {},
   "outputs": [],
   "source": [
    "##9. Check if a string contains a specific word."
   ]
  },
  {
   "cell_type": "code",
   "execution_count": 23,
   "id": "fd0eff61-503e-4d79-b6e0-9f921e915506",
   "metadata": {},
   "outputs": [
    {
     "name": "stdout",
     "output_type": "stream",
     "text": [
      "the string does not contain the word 'java'.\n"
     ]
    }
   ],
   "source": [
    "my_string = \"I love python\"\n",
    "specific_word=\"java\"\n",
    "\n",
    "if my_string.find(specific_word)!=-1:\n",
    "    print(f\"the string  contain the word '{specific_word}'.\")\n",
    "else:\n",
    "    print(f\"the string does not contain the word '{specific_word}'.\")\n",
    "    "
   ]
  },
  {
   "cell_type": "code",
   "execution_count": 24,
   "id": "b9d13d72-e5b1-44b5-b686-0a96cacccd53",
   "metadata": {},
   "outputs": [],
   "source": [
    "##10.Replace a word in a string with another word."
   ]
  },
  {
   "cell_type": "code",
   "execution_count": 34,
   "id": "0545ade1-5622-40c9-9d34-8d8f28dac92f",
   "metadata": {},
   "outputs": [
    {
     "name": "stdout",
     "output_type": "stream",
     "text": [
      "helllo world\n"
     ]
    }
   ],
   "source": [
    "original_string=\"helllo world\"\n",
    "new_string = original_string.replace(\"Hello\" ,\" hi\")\n",
    "print(new_string)"
   ]
  },
  {
   "cell_type": "code",
   "execution_count": 35,
   "id": "a462f054-27af-4631-82fe-8c8060fc50a9",
   "metadata": {},
   "outputs": [],
   "source": [
    "##11. Count the occurrences of a word in a string."
   ]
  },
  {
   "cell_type": "code",
   "execution_count": 36,
   "id": "322c61df-9ea5-4e82-9992-5aea6b045623",
   "metadata": {},
   "outputs": [],
   "source": [
    "text = \"This is a sample sentence. This sentence is just a sample.\""
   ]
  },
  {
   "cell_type": "code",
   "execution_count": 37,
   "id": "00ef9c2e-58ef-4b10-88a7-a73f0741ab94",
   "metadata": {},
   "outputs": [],
   "source": [
    "word_to_count = \"sample\""
   ]
  },
  {
   "cell_type": "code",
   "execution_count": null,
   "id": "a143119a-9d70-43c9-87b9-12f63bd10eb5",
   "metadata": {},
   "outputs": [],
   "source": [
    "# Use the count() method to count occurrences"
   ]
  },
  {
   "cell_type": "code",
   "execution_count": 38,
   "id": "73bd63a6-92b6-4ae7-a272-c38161b83fbd",
   "metadata": {},
   "outputs": [],
   "source": [
    "count=text.count(word_to_count)"
   ]
  },
  {
   "cell_type": "code",
   "execution_count": null,
   "id": "e7e01d01-4d87-4bb5-b290-98b8a8d72652",
   "metadata": {},
   "outputs": [],
   "source": [
    "# Print the result"
   ]
  },
  {
   "cell_type": "code",
   "execution_count": 40,
   "id": "28c38d13-f7bc-4ca8-ad86-526250cf14f3",
   "metadata": {},
   "outputs": [
    {
     "name": "stdout",
     "output_type": "stream",
     "text": [
      "The word 'sample' appears 2 times in the text.\n"
     ]
    }
   ],
   "source": [
    "print(f\"The word '{word_to_count}' appears {count} times in the text.\")"
   ]
  },
  {
   "cell_type": "code",
   "execution_count": 41,
   "id": "beac0994-73e6-4030-8f74-2ca708daec9f",
   "metadata": {},
   "outputs": [],
   "source": [
    "##12. Find the first occurrence of a word in a string."
   ]
  },
  {
   "cell_type": "code",
   "execution_count": 4,
   "id": "675d6c3c-d644-4a7d-8a26-c345bf4f8df1",
   "metadata": {},
   "outputs": [
    {
     "name": "stdout",
     "output_type": "stream",
     "text": [
      "The word 'sample' first appears at position 10.\n"
     ]
    }
   ],
   "source": [
    "text = \"This is a sample sentence. This sentence is just a sample.\"\n",
    "word_to_find = \"sample\"\n",
    "position = text.find(word_to_find)\n",
    "\n",
    "##check if the word was found\n",
    "if position !=-1:\n",
    "    print(f\"The word '{word_to_find}' first appears at position {position}.\")\n",
    "else:\n",
    "      print(f\"The word '{word_to_find}' was not found in the text.\")\n",
    "        "
   ]
  },
  {
   "cell_type": "code",
   "execution_count": null,
   "id": "5771d7b1-bbba-465b-999f-da63e24b87b0",
   "metadata": {},
   "outputs": [],
   "source": [
    "##13Find the last occurrence of a word in a string."
   ]
  },
  {
   "cell_type": "code",
   "execution_count": 5,
   "id": "841cc0a3-8553-4ce7-937f-9ef5452aeba0",
   "metadata": {},
   "outputs": [
    {
     "name": "stdout",
     "output_type": "stream",
     "text": [
      "The last occurrence of 'sentence' is at index 62.\n"
     ]
    }
   ],
   "source": [
    "def find_last_occurrence(string, word):\n",
    "    last_index = string.rfind(word)\n",
    "    return last_index\n",
    "\n",
    "\n",
    "input_string = \"This is an example sentence. This sentence contains the word 'sentence'.\"\n",
    "search_word = \"sentence\"\n",
    "\n",
    "last_occurrence = find_last_occurrence(input_string, search_word)\n",
    "if last_occurrence != -1:\n",
    "    print(f\"The last occurrence of '{search_word}' is at index {last_occurrence}.\")\n",
    "else:\n",
    "    print(f\"'{search_word}' was not found in the string.\")"
   ]
  },
  {
   "cell_type": "code",
   "execution_count": 8,
   "id": "1e4f55fb-1e59-421a-98f2-a03df46b6dbb",
   "metadata": {},
   "outputs": [],
   "source": [
    "##14Split a string into a list of words."
   ]
  },
  {
   "cell_type": "code",
   "execution_count": 13,
   "id": "5f78cf75-e1eb-40ff-9323-ee1e4a7dd687",
   "metadata": {},
   "outputs": [
    {
     "name": "stdout",
     "output_type": "stream",
     "text": [
      "['my', 'name', 'is', 'deepika']\n"
     ]
    }
   ],
   "source": [
    "# Using the split() function with a custom separator\n",
    "input_string = \"my,name,is,deepika\"\n",
    "\n",
    "# Split the string by commas\n",
    "word_list = input_string.split(',')\n",
    "\n",
    "# Print the list of words\n",
    "print(word_list)"
   ]
  },
  {
   "cell_type": "code",
   "execution_count": null,
   "id": "c8a7f58a-6138-416a-aa02-85f0d36737a9",
   "metadata": {},
   "outputs": [],
   "source": [
    "##15Join a list of words into a string."
   ]
  },
  {
   "cell_type": "code",
   "execution_count": 16,
   "id": "eedd2775-fc95-43cb-982e-8b94c231a5b6",
   "metadata": {},
   "outputs": [
    {
     "name": "stdout",
     "output_type": "stream",
     "text": [
      "my name is Deepika\n"
     ]
    }
   ],
   "source": [
    "\n",
    "word_list = [\"my\", \"name\", \"is\", \"Deepika\"]\n",
    "\n",
    "# Join the list of words into a string using a space as the separator\n",
    "resulting_string = \" \".join(word_list)\n",
    "\n",
    "# Print the resulting string\n",
    "print(resulting_string)"
   ]
  },
  {
   "cell_type": "code",
   "execution_count": null,
   "id": "b1f90e45-634f-4116-be93-c5ef35370df9",
   "metadata": {},
   "outputs": [],
   "source": [
    "##16 Convert a string where words are separated by spaces to one where wordsare separated by underscores."
   ]
  },
  {
   "cell_type": "code",
   "execution_count": 17,
   "id": "cbe8a31c-759e-4f9a-bcd7-d99787a7a352",
   "metadata": {},
   "outputs": [
    {
     "name": "stdout",
     "output_type": "stream",
     "text": [
      "I_love_python\n"
     ]
    }
   ],
   "source": [
    "# Input string \n",
    "input_string = \"I love python\"\n",
    "\n",
    "# Replace spaces with underscores\n",
    "output_string = input_string.replace(\" \", \"_\")\n",
    "\n",
    "# Print the modified string\n",
    "print(output_string)"
   ]
  },
  {
   "cell_type": "code",
   "execution_count": 18,
   "id": "c697a30f-72b0-4d7a-ac60-6d11fdddde99",
   "metadata": {},
   "outputs": [],
   "source": [
    "##17Check if a string starts with a specific word or phrase."
   ]
  },
  {
   "cell_type": "code",
   "execution_count": 19,
   "id": "bdbc9795-0960-42a5-96fe-d02d7ccfa7d0",
   "metadata": {},
   "outputs": [],
   "source": [
    "input_string=\"hello,world\""
   ]
  },
  {
   "cell_type": "code",
   "execution_count": 20,
   "id": "fb954eaa-d02f-4a1a-943a-da0d73f51d97",
   "metadata": {},
   "outputs": [],
   "source": [
    "start_word =\"hello\""
   ]
  },
  {
   "cell_type": "code",
   "execution_count": 23,
   "id": "605176cd-7465-486c-8f81-30a50da2a1c5",
   "metadata": {},
   "outputs": [
    {
     "name": "stdout",
     "output_type": "stream",
     "text": [
      "The string starts with 'hello'.\n"
     ]
    }
   ],
   "source": [
    "if input_string.startswith(start_word):\n",
    "    print(f\"The string starts with '{start_word}'.\")\n",
    "else:\n",
    "    print(f\"The string does not start with '{start_word}'.\")"
   ]
  },
  {
   "cell_type": "code",
   "execution_count": 24,
   "id": "7dfd05ec-3464-499f-85cd-8d91af95a0de",
   "metadata": {},
   "outputs": [],
   "source": [
    "##18Check if a string ends with a specific word or phrase."
   ]
  },
  {
   "cell_type": "code",
   "execution_count": 30,
   "id": "c65d720a-9a01-4926-982d-7ef37fbca082",
   "metadata": {},
   "outputs": [
    {
     "name": "stdout",
     "output_type": "stream",
     "text": [
      "The string end with 'world'.\n"
     ]
    }
   ],
   "source": [
    "input_string=\"hello,world\"\n",
    "end_word =\"world\"\n",
    "if input_string.endswith(end_word):\n",
    "    print(f\"The string end with '{end_word}'.\")\n",
    "else:\n",
    "    print(f\"The string does not end with '{end_word}'.\")\n"
   ]
  },
  {
   "cell_type": "code",
   "execution_count": 31,
   "id": "3af603a8-3273-441d-aaef-5560b72c347a",
   "metadata": {},
   "outputs": [],
   "source": [
    "##19Convert a string to title case (e.g., \"hello world\" to \"Hello World\")."
   ]
  },
  {
   "cell_type": "code",
   "execution_count": 33,
   "id": "e8c77363-0540-4957-a75a-82e1511c8d4e",
   "metadata": {},
   "outputs": [
    {
     "name": "stdout",
     "output_type": "stream",
     "text": [
      "Hello World\n"
     ]
    }
   ],
   "source": [
    "input_string = \"hello world\"\n",
    "\n",
    "# Convert the string to title case\n",
    "title_case_string = input_string.title()\n",
    "\n",
    "# Print the converted string\n",
    "print(title_case_string)\n"
   ]
  },
  {
   "cell_type": "code",
   "execution_count": 34,
   "id": "e4f0198d-5531-4ea7-9cee-494826788ea2",
   "metadata": {},
   "outputs": [],
   "source": [
    "##20Find the longest word in a string."
   ]
  },
  {
   "cell_type": "code",
   "execution_count": 35,
   "id": "0c0a9639-6609-432e-a132-3c3b21a8bf10",
   "metadata": {},
   "outputs": [],
   "source": [
    "input_string= \"iam starving \""
   ]
  },
  {
   "cell_type": "code",
   "execution_count": 36,
   "id": "9b817394-2354-49cb-af6f-bf03092ea223",
   "metadata": {},
   "outputs": [],
   "source": [
    "longest_word = max(input_string.split(), key=len)\n"
   ]
  },
  {
   "cell_type": "code",
   "execution_count": 38,
   "id": "fe3c9b87-c702-4e38-b6c2-4ce09b9a4da1",
   "metadata": {},
   "outputs": [
    {
     "name": "stdout",
     "output_type": "stream",
     "text": [
      "Longest word: starving\n"
     ]
    }
   ],
   "source": [
    "print(\"Longest word:\", longest_word)"
   ]
  },
  {
   "cell_type": "code",
   "execution_count": 39,
   "id": "ae14b0aa-d568-4f99-a776-3e374f62a166",
   "metadata": {},
   "outputs": [],
   "source": [
    "##21. Find the shortest word in a string."
   ]
  },
  {
   "cell_type": "code",
   "execution_count": 40,
   "id": "60125b58-5c84-4909-ab05-de0a86e04fb3",
   "metadata": {},
   "outputs": [],
   "source": [
    "input_string =\"iam straving\""
   ]
  },
  {
   "cell_type": "code",
   "execution_count": 41,
   "id": "578e04c4-512e-43f7-8a4e-08a0b9bb5751",
   "metadata": {},
   "outputs": [],
   "source": [
    "smallest_word =min(input_string.split(), key=len)"
   ]
  },
  {
   "cell_type": "code",
   "execution_count": 43,
   "id": "27a0ca59-7ee6-44d9-9ade-73eff48e66d4",
   "metadata": {},
   "outputs": [
    {
     "name": "stdout",
     "output_type": "stream",
     "text": [
      "smallest word iam\n"
     ]
    }
   ],
   "source": [
    "print(\"smallest word\", smallest_word)"
   ]
  },
  {
   "cell_type": "code",
   "execution_count": 44,
   "id": "25e48f62-6e57-4930-b0cf-081fdf11839f",
   "metadata": {},
   "outputs": [],
   "source": [
    "##22.Reverse the order of words in a string."
   ]
  },
  {
   "cell_type": "code",
   "execution_count": 45,
   "id": "1e9888f2-878c-4ccf-8734-97278fc218ad",
   "metadata": {},
   "outputs": [],
   "source": [
    "input_string =\"i love python\""
   ]
  },
  {
   "cell_type": "code",
   "execution_count": null,
   "id": "b8282037-3cae-497b-bfbb-7367e57e7f86",
   "metadata": {},
   "outputs": [],
   "source": [
    "##use slicing to reverse the string"
   ]
  },
  {
   "cell_type": "code",
   "execution_count": 58,
   "id": "75f816ee-cd85-4681-8f32-ef6d96e9c1a0",
   "metadata": {},
   "outputs": [],
   "source": [
    "reversed_string = input_string[::-1]"
   ]
  },
  {
   "cell_type": "code",
   "execution_count": 59,
   "id": "b450d23b-d6c5-4c32-b26f-5e64c6d16547",
   "metadata": {},
   "outputs": [
    {
     "name": "stdout",
     "output_type": "stream",
     "text": [
      "nohtyp evol i\n"
     ]
    }
   ],
   "source": [
    "print(reversed_string)"
   ]
  },
  {
   "cell_type": "code",
   "execution_count": null,
   "id": "0abeccac-cd24-4061-adeb-782f1600fe42",
   "metadata": {},
   "outputs": [],
   "source": [
    "##23.Check if a string is alphanumeric."
   ]
  },
  {
   "cell_type": "code",
   "execution_count": 36,
   "id": "448545be-7c52-4a93-a39c-0aa110a696c4",
   "metadata": {},
   "outputs": [
    {
     "name": "stdout",
     "output_type": "stream",
     "text": [
      "True\n",
      "False\n"
     ]
    }
   ],
   "source": [
    "def is_alphanumeric(s):\n",
    "    return s.isalnum()\n",
    "\n",
    "# Example usage:\n",
    "my_string1 = \"Hello123\"\n",
    "my_string2 = \"Hello, World!\"\n",
    "\n",
    "print(is_alphanumeric(my_string1))  # Output: True\n",
    "print(is_alphanumeric(my_string2))  # Output: False\n"
   ]
  },
  {
   "cell_type": "code",
   "execution_count": null,
   "id": "bc75497f-c8a9-4fb6-b065-f825ea11669c",
   "metadata": {},
   "outputs": [],
   "source": [
    "##24.Check if a string is alphanumeric."
   ]
  },
  {
   "cell_type": "code",
   "execution_count": 61,
   "id": "f1ff23cb-823e-4dcf-9998-15faca439d59",
   "metadata": {},
   "outputs": [
    {
     "name": "stdout",
     "output_type": "stream",
     "text": [
      "The string is alphanumeric.\n"
     ]
    }
   ],
   "source": [
    "input_string = \"Hello2023\"\n",
    "\n",
    "# Check if the string is alphanumeric\n",
    "if input_string.isalnum():\n",
    "    print(\"The string is alphanumeric.\")\n",
    "else:\n",
    "    print(\"The string is not alphanumeric.\")"
   ]
  },
  {
   "cell_type": "code",
   "execution_count": null,
   "id": "243801b4-e499-4eed-9882-89b308f59e43",
   "metadata": {},
   "outputs": [],
   "source": [
    "##25.Extract all digits from a string."
   ]
  },
  {
   "cell_type": "code",
   "execution_count": 63,
   "id": "72a0d6d6-846a-4c08-8cf5-6cb1c604ddd9",
   "metadata": {},
   "outputs": [
    {
     "name": "stdout",
     "output_type": "stream",
     "text": [
      "2023\n"
     ]
    }
   ],
   "source": [
    "import re\n",
    "\n",
    "# Input string\n",
    "input_string = \"Hello2023\"\n",
    "\n",
    "# Use regular expression to extract digits\n",
    "digits = re.findall(r'\\d+', input_string)\n",
    "\n",
    "# Convert the list of digits to a single string\n",
    "result = ''.join(digits)\n",
    "\n",
    "# Print the extracted digits\n",
    "print(result)"
   ]
  },
  {
   "cell_type": "code",
   "execution_count": null,
   "id": "887eee1d-fced-49d2-940e-cc01dc8469f4",
   "metadata": {},
   "outputs": [],
   "source": [
    "##26.Extract all alphabets from a string."
   ]
  },
  {
   "cell_type": "code",
   "execution_count": 65,
   "id": "a96590bd-739b-4d16-9acc-053821d87157",
   "metadata": {},
   "outputs": [
    {
     "name": "stdout",
     "output_type": "stream",
     "text": [
      "Hello\n"
     ]
    }
   ],
   "source": [
    "import re\n",
    "\n",
    "# Input string\n",
    "input_string = \"Hello2023\"\n",
    "\n",
    "# Use regular expression to extract digits\n",
    "alphabets = re.findall(r'[a-zA-Z]+', input_string)\n",
    "\n",
    "# Convert the list of digits to a single string\n",
    "result = ''.join(alphabets)\n",
    "\n",
    "# Print the extracted digits\n",
    "print(result)"
   ]
  },
  {
   "cell_type": "code",
   "execution_count": 66,
   "id": "a0ce25d0-8fe4-4472-a8c0-2d14e9388627",
   "metadata": {},
   "outputs": [],
   "source": [
    "##26Count the number of uppercase letters in a string."
   ]
  },
  {
   "cell_type": "code",
   "execution_count": 9,
   "id": "58d49e71-b55b-4043-94ac-3eb233842b53",
   "metadata": {},
   "outputs": [
    {
     "name": "stdout",
     "output_type": "stream",
     "text": [
      "number of uppercase letters: 0\n"
     ]
    }
   ],
   "source": [
    "def count_uppercase_letters(string):\n",
    "    count=0\n",
    "    for char in string:\n",
    "        if char.isupper():\n",
    "            count+=1\n",
    "    return count\n",
    "\n",
    "input_string =\"hello world\"\n",
    "uppercase_count=count_uppercase_letters(input_string)\n",
    "print(\"number of uppercase letters:\", uppercase_count)"
   ]
  },
  {
   "cell_type": "code",
   "execution_count": 10,
   "id": "dd61cec2-3755-42c9-8ebb-9d89bc5c0108",
   "metadata": {},
   "outputs": [],
   "source": [
    "##27count the number of lowercase letters in a string"
   ]
  },
  {
   "cell_type": "code",
   "execution_count": 17,
   "id": "8b75bcbf-93b8-4203-863c-32cef48302cd",
   "metadata": {},
   "outputs": [
    {
     "name": "stdout",
     "output_type": "stream",
     "text": [
      "number of lowercase letters: 8\n"
     ]
    }
   ],
   "source": [
    "def count_lowercase_letters(string):\n",
    "    count=0\n",
    "    for char in string:\n",
    "        if char.islower():\n",
    "            count+=1\n",
    "    return count\n",
    "\n",
    "input_string =\"Hello World\"\n",
    "lowercase_count=count_lowercase_letters(input_string)\n",
    "print(\"number of lowercase letters:\", lowercase_count)\n"
   ]
  },
  {
   "cell_type": "code",
   "execution_count": 1,
   "id": "9b8b424e-9311-41d4-9d03-feadcd903759",
   "metadata": {},
   "outputs": [],
   "source": [
    "##28. Swap the case of each character in a string."
   ]
  },
  {
   "cell_type": "code",
   "execution_count": null,
   "id": "b4c4acb1-fb62-47cc-9e1f-2a6d171d8044",
   "metadata": {},
   "outputs": [],
   "source": [
    "def swap_case(string):"
   ]
  },
  {
   "cell_type": "code",
   "execution_count": null,
   "id": "f8f578d7-29c6-4e78-9b37-af0510a952b5",
   "metadata": {},
   "outputs": [],
   "source": [
    " # Initialize an empty string to store the swapped characters"
   ]
  },
  {
   "cell_type": "code",
   "execution_count": null,
   "id": "6ca62813-857e-4679-b419-84be7c049f4f",
   "metadata": {},
   "outputs": [],
   "source": [
    " for char in string:"
   ]
  },
  {
   "cell_type": "code",
   "execution_count": null,
   "id": "10920dc3-9e38-4bcb-8fd1-1740caf82357",
   "metadata": {},
   "outputs": [],
   "source": [
    "# Check if the character is uppercase"
   ]
  },
  {
   "cell_type": "code",
   "execution_count": null,
   "id": "ea1f1b09-5c9d-446d-a1c9-dd0ec7674e08",
   "metadata": {},
   "outputs": [],
   "source": [
    "if char.isupper():"
   ]
  },
  {
   "cell_type": "code",
   "execution_count": null,
   "id": "6819921f-1419-4692-b95b-dd7388470241",
   "metadata": {},
   "outputs": [],
   "source": [
    " # If it's uppercase, convert it to lowercase and add it to the result string"
   ]
  },
  {
   "cell_type": "code",
   "execution_count": 8,
   "id": "b5d06aa6-9e1c-44ca-8940-53b8a8a7d5c2",
   "metadata": {},
   "outputs": [
    {
     "name": "stdout",
     "output_type": "stream",
     "text": [
      "Swapped string: hELLO wORLD\n"
     ]
    }
   ],
   "source": [
    "def swap_case(string):\n",
    "    # Initialize an empty string to store the swapped characters\n",
    "    swapped_string = \"\"\n",
    "\n",
    "    for char in string:\n",
    "        # Check if the character is uppercase\n",
    "        if char.isupper():\n",
    "            # If it's uppercase convert it to lowercase and add it to the result string\n",
    "            swapped_string += char.lower()\n",
    "        # Check if the character is lowercase\n",
    "        elif char.islower():\n",
    "              # If it's lowercase convert it to uppercase and add it to the result string\n",
    "            swapped_string += char.upper()\n",
    "        else:\n",
    "            # If it's neither uppercase nor lowercase\n",
    "            # keep it as it is and add it to the result string\n",
    "            swapped_string += char\n",
    "\n",
    "    # Return the final swapped string\n",
    "    return swapped_string\n",
    "\n",
    "input_string = \"Hello World\"\n",
    "swapped_result = swap_case(input_string)\n",
    "print(\"Swapped string:\", swapped_result)"
   ]
  },
  {
   "cell_type": "code",
   "execution_count": 1,
   "id": "19d9e1d9-ec15-492c-882f-338a2b791cb2",
   "metadata": {},
   "outputs": [],
   "source": [
    "##29Remove a specific word from a string."
   ]
  },
  {
   "cell_type": "code",
   "execution_count": 4,
   "id": "a7198a76-aaa5-4a38-ad7b-727516b74df4",
   "metadata": {},
   "outputs": [],
   "source": [
    "original_string=\"Remove a specific word from a string\""
   ]
  },
  {
   "cell_type": "code",
   "execution_count": 5,
   "id": "07914681-0fcb-4078-8998-5fe9a08ca638",
   "metadata": {},
   "outputs": [],
   "source": [
    "word_to_remove=\"word\"\n"
   ]
  },
  {
   "cell_type": "code",
   "execution_count": 9,
   "id": "8f3b9fe0-f8c0-4e32-85e8-00052da7684b",
   "metadata": {},
   "outputs": [],
   "source": [
    "new_string=original_string.replace(word_to_remove, \"\")"
   ]
  },
  {
   "cell_type": "code",
   "execution_count": 10,
   "id": "f1ae16a9-340a-4b92-976f-803d8c697d3a",
   "metadata": {},
   "outputs": [
    {
     "name": "stdout",
     "output_type": "stream",
     "text": [
      "Remove a specific  from a string\n"
     ]
    }
   ],
   "source": [
    "print(new_string)"
   ]
  },
  {
   "cell_type": "code",
   "execution_count": 11,
   "id": "9d112fdf-4b2a-4abb-9208-77f0df26c3b0",
   "metadata": {},
   "outputs": [],
   "source": [
    "##30Check if a string is a valid email address."
   ]
  },
  {
   "cell_type": "code",
   "execution_count": 27,
   "id": "d3aec41d-48a7-444b-b788-5bb78360b6ee",
   "metadata": {},
   "outputs": [
    {
     "name": "stdout",
     "output_type": "stream",
     "text": [
      "example@email.com is a valid email address.\n"
     ]
    }
   ],
   "source": [
    "import re\n",
    "\n",
    "def is_valid_email(email):\n",
    "    # Define a regular expression pattern for a valid email address\n",
    "    pattern = r'^[\\w\\.-]+@[\\w\\.-]+$'\n",
    "    \n",
    "    # Use the re.match() function to check if the email matches the pattern\n",
    "    if re.match(pattern, email):\n",
    "        return True\n",
    "    else:\n",
    "        return False\n",
    "\n",
    "# Test the function with an email address\n",
    "email_to_check = \"example@email.com\"\n",
    "if is_valid_email(email_to_check):\n",
    "    print(f\"{email_to_check} is a valid email address.\")\n",
    "else:\n",
    "    print(f\"{email_to_check} is not a valid email address.\")"
   ]
  },
  {
   "cell_type": "code",
   "execution_count": null,
   "id": "75e04b51-17a6-40ca-965d-702ec8832321",
   "metadata": {},
   "outputs": [],
   "source": [
    "##31Extract the username from an email address string."
   ]
  },
  {
   "cell_type": "code",
   "execution_count": 6,
   "id": "ea19235a-9d4e-4b4e-b222-609937aaa877",
   "metadata": {},
   "outputs": [
    {
     "name": "stdout",
     "output_type": "stream",
     "text": [
      "Username: example\n"
     ]
    }
   ],
   "source": [
    "# Email address\n",
    "email = \"example@email.com\"\n",
    "\n",
    "# Extract the username\n",
    "username = email.split(\"@\")[0]\n",
    "\n",
    "# Print the username\n",
    "print(\"Username:\", username)"
   ]
  },
  {
   "cell_type": "code",
   "execution_count": null,
   "id": "2629e8a0-4c32-4d34-a4c2-6180e85bc2c3",
   "metadata": {},
   "outputs": [],
   "source": [
    "##32Replace multiple spaces in a string with a single space."
   ]
  },
  {
   "cell_type": "code",
   "execution_count": 10,
   "id": "60dc54ee-b373-43a7-bbeb-fd4bc0a062b9",
   "metadata": {},
   "outputs": [
    {
     "name": "stdout",
     "output_type": "stream",
     "text": [
      "replace multiple spaces in a string with single space.\n"
     ]
    }
   ],
   "source": [
    "def replace_multiple_spaces_in_a_string(input_string):\n",
    "    # Split the input string by spaces and join it with a single space\n",
    "    return ' '.join(input_string.split())\n",
    "\n",
    "\n",
    "input_string = \"replace   multiple     spaces    in   a string  with single space.\"\n",
    "result = replace_multiple_spaces_in_a_string(input_string)\n",
    "print(result)"
   ]
  },
  {
   "cell_type": "code",
   "execution_count": null,
   "id": "37c579ee-8c92-4900-87b0-6ab8d90aed7f",
   "metadata": {},
   "outputs": [],
   "source": [
    "##33.Replace multiple spaces in a string with a single space."
   ]
  },
  {
   "cell_type": "code",
   "execution_count": 38,
   "id": "d1967c49-5a5d-477c-bedb-61ace50c2150",
   "metadata": {},
   "outputs": [
    {
     "name": "stdout",
     "output_type": "stream",
     "text": [
      "This is a string with multiple spaces.\n"
     ]
    }
   ],
   "source": [
    "import re\n",
    "\n",
    "def replace_multiple_spaces_with_single_space(s):\n",
    "    return re.sub(r'\\s+', ' ', s)\n",
    "\n",
    "# Example usage:\n",
    "original_string = \"This   is   a   string    with   multiple    spaces.\"\n",
    "\n",
    "result_string = replace_multiple_spaces_with_single_space(original_string)\n",
    "print(result_string)\n"
   ]
  },
  {
   "cell_type": "code",
   "execution_count": null,
   "id": "1292d8cd-df8e-42fe-9f3d-e930280d8804",
   "metadata": {},
   "outputs": [],
   "source": [
    "##34.Check if a string is a valid URL."
   ]
  },
  {
   "cell_type": "code",
   "execution_count": 39,
   "id": "59f7fe50-e605-4678-ba0d-0af6ab42ed69",
   "metadata": {},
   "outputs": [
    {
     "name": "stdout",
     "output_type": "stream",
     "text": [
      "True\n",
      "False\n"
     ]
    }
   ],
   "source": [
    "from urllib.parse import urlparse\n",
    "\n",
    "def is_valid_url(url):\n",
    "    try:\n",
    "        result = urlparse(url)\n",
    "        return all([result.scheme, result.netloc])\n",
    "    except ValueError:\n",
    "        return False\n",
    "\n",
    "# Example usage:\n",
    "url1 = \"https://www.example.com\"\n",
    "url2 = \"not_a_valid_url\"\n",
    "\n",
    "print(is_valid_url(url1))  # Output: True\n",
    "print(is_valid_url(url2))  # Output: False\n"
   ]
  },
  {
   "cell_type": "code",
   "execution_count": null,
   "id": "d6aa10ba-d586-4dab-b02c-ab590021fb5c",
   "metadata": {},
   "outputs": [],
   "source": [
    "##36.Find the frequency of each character in a string."
   ]
  },
  {
   "cell_type": "code",
   "execution_count": 41,
   "id": "f8d29850-42b5-4449-9c02-d77a735a6577",
   "metadata": {},
   "outputs": [
    {
     "name": "stdout",
     "output_type": "stream",
     "text": [
      "Character: h, Frequency: 1\n",
      "Character: e, Frequency: 1\n",
      "Character: l, Frequency: 3\n",
      "Character: o, Frequency: 2\n",
      "Character:  , Frequency: 1\n",
      "Character: w, Frequency: 1\n",
      "Character: r, Frequency: 1\n",
      "Character: d, Frequency: 1\n"
     ]
    }
   ],
   "source": [
    "def character_frequency(s):\n",
    "    frequency = {}\n",
    "    for char in s:\n",
    "        if char in frequency:\n",
    "            frequency[char] += 1\n",
    "        else:\n",
    "            frequency[char] = 1\n",
    "    return frequency\n",
    "\n",
    "# Example usage:\n",
    "my_string = \"hello world\"\n",
    "char_frequency = character_frequency(my_string)\n",
    "\n",
    "for char, count in char_frequency.items():\n",
    "    print(f\"Character: {char}, Frequency: {count}\")\n"
   ]
  },
  {
   "cell_type": "code",
   "execution_count": null,
   "id": "88811b52-87b4-4b26-aa1e-be164fb457a8",
   "metadata": {},
   "outputs": [],
   "source": [
    "##37. Remove all punctuation from a string."
   ]
  },
  {
   "cell_type": "code",
   "execution_count": 12,
   "id": "be19c58c-2a57-4e6d-ac8d-939ce62e978b",
   "metadata": {},
   "outputs": [
    {
     "name": "stdout",
     "output_type": "stream",
     "text": [
      "Hello World This is a python code\n"
     ]
    }
   ],
   "source": [
    "import string\n",
    "\n",
    "def remove_punctuation(input_string):\n",
    "    # Create a translation table to remove punctuation characters\n",
    "    translator = str.maketrans('', '', string.punctuation)\n",
    "\n",
    "    # Use translate method to remove punctuation\n",
    "    return input_string.translate(translator)\n",
    "\n",
    "\n",
    "input_string = \"Hello, World! This is a python code.\"\n",
    "result = remove_punctuation(input_string)\n",
    "print(result)"
   ]
  },
  {
   "cell_type": "code",
   "execution_count": null,
   "id": "4c9cfad0-90c6-4893-b2bd-0ffba97ecff3",
   "metadata": {},
   "outputs": [],
   "source": [
    "##38. Check if a string contains only digits."
   ]
  },
  {
   "cell_type": "code",
   "execution_count": 13,
   "id": "6b13db5b-da66-4796-b233-1c70a2b11e8e",
   "metadata": {},
   "outputs": [
    {
     "name": "stdout",
     "output_type": "stream",
     "text": [
      "True\n",
      "False\n"
     ]
    }
   ],
   "source": [
    "def contains_only_digits(input_string):\n",
    "    return input_string.isdigit()\n",
    "\n",
    "\n",
    "string1 = \"12345\"\n",
    "string2 = \"123abc\"\n",
    "\n",
    "print(contains_only_digits(string1))  # True\n",
    "print(contains_only_digits(string2))  # False"
   ]
  },
  {
   "cell_type": "code",
   "execution_count": null,
   "id": "ed9346d1-ea09-4e14-9511-0b54736c7e86",
   "metadata": {},
   "outputs": [],
   "source": [
    "##39Check if a string contains only alphabets."
   ]
  },
  {
   "cell_type": "code",
   "execution_count": 16,
   "id": "0f161867-329d-4eaa-96b1-58428229bf2c",
   "metadata": {},
   "outputs": [
    {
     "name": "stdout",
     "output_type": "stream",
     "text": [
      "True\n",
      "False\n"
     ]
    }
   ],
   "source": [
    "def contains_only_alphabets(input_string):\n",
    "    return input_string.isalpha()\n",
    "\n",
    "\n",
    "string1 = \"abc\"\n",
    "string2 = \"abc123\"\n",
    "\n",
    "print(contains_only_alphabets(string1))  # True\n",
    "print(contains_only_alphabets(string2))  # False"
   ]
  },
  {
   "cell_type": "code",
   "execution_count": null,
   "id": "cd9f5cad-155e-4aa2-a144-98c6db86aa00",
   "metadata": {},
   "outputs": [],
   "source": [
    "##40. Convert a string to a list of characters."
   ]
  },
  {
   "cell_type": "code",
   "execution_count": 17,
   "id": "0df66bfd-21ec-4f17-9c2e-b3898df56a39",
   "metadata": {},
   "outputs": [
    {
     "name": "stdout",
     "output_type": "stream",
     "text": [
      "['H', 'e', 'l', 'l', 'o', ',', ' ', 'W', 'o', 'r', 'l', 'd', '!']\n"
     ]
    }
   ],
   "source": [
    "input_string = \"Hello, World!\"\n",
    "char_list = list(input_string)\n",
    "print(char_list)"
   ]
  },
  {
   "cell_type": "code",
   "execution_count": null,
   "id": "45e5d473-5985-4421-8137-13191ff15004",
   "metadata": {},
   "outputs": [],
   "source": [
    "##41.Check if two strings are anagrams."
   ]
  },
  {
   "cell_type": "code",
   "execution_count": 42,
   "id": "3d401dbe-38fa-49d2-848d-b270fa292349",
   "metadata": {},
   "outputs": [
    {
     "name": "stdout",
     "output_type": "stream",
     "text": [
      "True\n",
      "False\n",
      "False\n"
     ]
    }
   ],
   "source": [
    "def are_anagrams(str1, str2):\n",
    "    # Remove spaces and convert to lowercase for case-insensitive comparison\n",
    "    str1 = str1.replace(\" \", \"\").lower()\n",
    "    str2 = str2.replace(\" \", \"\").lower()\n",
    "\n",
    "    # Check if the sorted versions of the strings are the same\n",
    "    return sorted(str1) == sorted(str2)\n",
    "\n",
    "# Example usage:\n",
    "string1 = \"listen\"\n",
    "string2 = \"silent\"\n",
    "string3 = \"hello\"\n",
    "string4 = \"world\"\n",
    "\n",
    "print(are_anagrams(string1, string2))  # Output: True\n",
    "print(are_anagrams(string1, string3))  # Output: False\n",
    "print(are_anagrams(string1, string4))  # Output: False\n"
   ]
  },
  {
   "cell_type": "code",
   "execution_count": null,
   "id": "fd15d220-2f24-48d5-98a5-e14a9cacb3c9",
   "metadata": {},
   "outputs": [],
   "source": [
    "##42.Encode a string using a Caesar cipher."
   ]
  },
  {
   "cell_type": "code",
   "execution_count": 43,
   "id": "d04e8bdd-a01b-4be1-b271-477024dbefeb",
   "metadata": {},
   "outputs": [
    {
     "name": "stdout",
     "output_type": "stream",
     "text": [
      "Original: Hello, World!\n",
      "Ciphered: Khoor, Zruog!\n"
     ]
    }
   ],
   "source": [
    "def caesar_cipher_encode(text, shift):\n",
    "    result = \"\"\n",
    "    for char in text:\n",
    "        if char.isalpha():\n",
    "            # Determine the case (uppercase or lowercase)\n",
    "            case = ord('A') if char.isupper() else ord('a')\n",
    "            # Perform the Caesar cipher shift\n",
    "            shifted_char = chr((ord(char) - case + shift) % 26 + case)\n",
    "            result += shifted_char\n",
    "        else:\n",
    "            # Preserve non-alphabetic characters\n",
    "            result += char\n",
    "    return result\n",
    "\n",
    "# Example usage:\n",
    "plaintext = \"Hello, World!\"\n",
    "shift_amount = 3\n",
    "\n",
    "ciphered_text = caesar_cipher_encode(plaintext, shift_amount)\n",
    "print(\"Original:\", plaintext)\n",
    "print(\"Ciphered:\", ciphered_text)\n"
   ]
  },
  {
   "cell_type": "code",
   "execution_count": null,
   "id": "5ec61c88-5ea7-47f5-965a-7e466017c882",
   "metadata": {},
   "outputs": [],
   "source": [
    "##43.Decode a Caesar cipher encoded string."
   ]
  },
  {
   "cell_type": "code",
   "execution_count": 44,
   "id": "1af13f11-925f-49da-8215-ab07782f332f",
   "metadata": {},
   "outputs": [
    {
     "name": "stdout",
     "output_type": "stream",
     "text": [
      "Original: Khoor, Zruog!\n",
      "Decoded: Hello, World!\n"
     ]
    }
   ],
   "source": [
    "def caesar_cipher_decode(ciphertext, shift):\n",
    "    return caesar_cipher_encode(ciphertext, -shift)\n",
    "\n",
    "# Example usage:\n",
    "ciphertext = \"Khoor, Zruog!\"\n",
    "shift_amount = 3\n",
    "\n",
    "decoded_text = caesar_cipher_decode(ciphertext, shift_amount)\n",
    "print(\"Original:\", ciphertext)\n",
    "print(\"Decoded:\", decoded_text)\n"
   ]
  },
  {
   "cell_type": "code",
   "execution_count": null,
   "id": "1689aee8-ac9d-421e-bb8f-dfb87994f4e1",
   "metadata": {},
   "outputs": [],
   "source": [
    "##44.Find the most frequent word in a string."
   ]
  },
  {
   "cell_type": "code",
   "execution_count": 19,
   "id": "be2bb02c-df6f-4e31-a82c-4ab84c34b522",
   "metadata": {},
   "outputs": [
    {
     "name": "stdout",
     "output_type": "stream",
     "text": [
      "Most frequent word: this\n",
      "Frequency: 2\n"
     ]
    }
   ],
   "source": [
    "from collections import Counter\n",
    "import re\n",
    "\n",
    "def most_frequent_word(input_string):\n",
    "    # Tokenize the string into words (split by spaces and remove punctuation)\n",
    "    words = re.findall(r'\\b\\w+\\b', input_string.lower())\n",
    "\n",
    "    # Count the frequency of each word using Counter\n",
    "    word_counts = Counter(words)\n",
    "\n",
    "    # Find the most common word\n",
    "    most_common_word, frequency = word_counts.most_common(1)[0]\n",
    "\n",
    "    return most_common_word, frequency\n",
    "\n",
    "\n",
    "input_string = \"Hiii Hello, world!\"\n",
    "most_common, frequency = most_frequent_word(input_string)\n",
    "print(\"Most frequent word:\", most_common)\n",
    "print(\"Frequency:\", frequency)"
   ]
  },
  {
   "cell_type": "code",
   "execution_count": null,
   "id": "dd640f24-de3d-4abf-87ed-af8319c9c966",
   "metadata": {},
   "outputs": [],
   "source": [
    "##45.Find all unique words in a string."
   ]
  },
  {
   "cell_type": "code",
   "execution_count": 20,
   "id": "a1a9933b-9a53-4d32-bd6f-0b1796ee887d",
   "metadata": {},
   "outputs": [
    {
     "name": "stdout",
     "output_type": "stream",
     "text": [
      "Unique words: ['hello', 'world', 'hii']\n"
     ]
    }
   ],
   "source": [
    "import re\n",
    "\n",
    "def unique_words(input_string):\n",
    "    # Tokenize the string into words (split by spaces and remove punctuation)\n",
    "    words = re.findall(r'\\b\\w+\\b', input_string.lower())\n",
    "\n",
    "    # Use a set to store unique words\n",
    "    unique_word_set = set(words)\n",
    "\n",
    "    return list(unique_word_set)\n",
    "\n",
    "# Example usage:\n",
    "input_string = \"Hii Hello, world!\"\n",
    "unique_word_list = unique_words(input_string)\n",
    "print(\"Unique words:\", unique_word_list)"
   ]
  },
  {
   "cell_type": "code",
   "execution_count": null,
   "id": "7abb19b3-5ace-4308-9c77-383b25ea36e6",
   "metadata": {},
   "outputs": [],
   "source": [
    "##46.Count the number of syllables in a string."
   ]
  },
  {
   "cell_type": "code",
   "execution_count": 45,
   "id": "8ed81023-b2e2-4706-afa3-61a69cb882c2",
   "metadata": {},
   "outputs": [
    {
     "name": "stdout",
     "output_type": "stream",
     "text": [
      "Syllable count: 10\n"
     ]
    }
   ],
   "source": [
    "def count_syllables(word):\n",
    "    vowels = \"aeiouyAEIOUY\"\n",
    "    count = 0\n",
    "    previous_char = \"\"\n",
    "\n",
    "    for char in word:\n",
    "        if char in vowels and previous_char not in vowels:\n",
    "            count += 1\n",
    "        previous_char = char\n",
    "\n",
    "    # Adjust count for words ending in 'e'\n",
    "    if word.endswith(('e', 'E')) and count > 1:\n",
    "        count -= 1\n",
    "\n",
    "    return max(1, count)  # At least one syllable\n",
    "\n",
    "def count_syllables_in_sentence(sentence):\n",
    "    words = sentence.split()\n",
    "    syllable_count = sum(count_syllables(word) for word in words)\n",
    "    return syllable_count\n",
    "\n",
    "# Example usage:\n",
    "my_sentence = \"Hello, World! This is an example sentence.\"\n",
    "syllable_count = count_syllables_in_sentence(my_sentence)\n",
    "\n",
    "print(\"Syllable count:\", syllable_count)\n"
   ]
  },
  {
   "cell_type": "code",
   "execution_count": null,
   "id": "2e3f1157-1c72-41f5-a98a-ff6a9915ec70",
   "metadata": {},
   "outputs": [],
   "source": [
    "##47. Check if a string contains any special characters."
   ]
  },
  {
   "cell_type": "code",
   "execution_count": 3,
   "id": "314c7f63-f943-4e9e-94c9-9dfaf2a3b3f1",
   "metadata": {},
   "outputs": [
    {
     "name": "stdout",
     "output_type": "stream",
     "text": [
      "False\n",
      "True\n"
     ]
    }
   ],
   "source": [
    "import re\n",
    "\n",
    "def contains_special_characters(input_string):\n",
    "    # Use a regular expression to check for special characters\n",
    "    return bool(re.search(r'[^A-Za-z0-9]', input_string))\n",
    "\n",
    "\n",
    "string1 = \"HelloWorld123\"\n",
    "string2 = \"Hello, World!\"\n",
    "\n",
    "print(contains_special_characters(string1))  # False (no special characters)\n",
    "print(contains_special_characters(string2))  # True (contains special characters)"
   ]
  },
  {
   "cell_type": "code",
   "execution_count": null,
   "id": "a45236af-2afa-4a18-b311-061a9e7d78e1",
   "metadata": {},
   "outputs": [],
   "source": []
  },
  {
   "cell_type": "code",
   "execution_count": 4,
   "id": "519087d7-43b8-4c9d-8bba-958345ab2c08",
   "metadata": {},
   "outputs": [
    {
     "name": "stdout",
     "output_type": "stream",
     "text": [
      "This is a sentence to test word removal.\n"
     ]
    }
   ],
   "source": [
    "def remove_nth_word(input_string, n):\n",
    "    # Split the string into words\n",
    "    words = input_string.split()\n",
    "\n",
    "    # Check if n is a valid index\n",
    "    if 0 <= n < len(words):\n",
    "        # Remove the nth word\n",
    "        del words[n]\n",
    "        # Reconstruct the string\n",
    "        result = ' '.join(words)\n",
    "        return result\n",
    "    else:\n",
    "        # If n is out of range, return the original string\n",
    "        return input_string\n",
    "\n",
    "# Example usage:\n",
    "input_string = \"This is a sample sentence to test word removal.\"\n",
    "n = 3  # Index of the word to remove (0-based)\n",
    "\n",
    "new_string = remove_nth_word(input_string, n)\n",
    "print(new_string)"
   ]
  },
  {
   "cell_type": "code",
   "execution_count": null,
   "id": "0906a1ab-b463-4c29-a904-b1c5266be29c",
   "metadata": {},
   "outputs": [],
   "source": [
    "##49. Insert a word at the nth position in a string."
   ]
  },
  {
   "cell_type": "code",
   "execution_count": 10,
   "id": "da1b03c1-18e4-43c0-bae7-6e2788be0f5d",
   "metadata": {},
   "outputs": [
    {
     "name": "stdout",
     "output_type": "stream",
     "text": [
      "Thinews code is python.\n"
     ]
    }
   ],
   "source": [
    "def insert_word_at_nth_position(original_string, word_to_insert, n):\n",
    "    # Check if n is out of bounds\n",
    "    if n < 0:\n",
    "        n = 0\n",
    "    elif n > len(original_string):\n",
    "        n = len(original_string)\n",
    "    \n",
    "    # Insert the word at the nth position\n",
    "    result = original_string[:n] + word_to_insert + original_string[n:]\n",
    "    \n",
    "    return result\n",
    "original_string = \"This code is python.\"\n",
    "word_to_insert = \"new\"\n",
    "n = 3\n",
    "\n",
    "result = insert_word_at_nth_position(original_string, word_to_insert, n)\n",
    "print(result)\n"
   ]
  },
  {
   "cell_type": "code",
   "execution_count": null,
   "id": "404fc66a-a7f1-4f08-959b-707711f3b1f7",
   "metadata": {},
   "outputs": [],
   "source": [
    "##50.Convert a CSV string to a list of lists."
   ]
  },
  {
   "cell_type": "code",
   "execution_count": 47,
   "id": "4f737fef-0a68-49a4-9fe1-544635fe424c",
   "metadata": {},
   "outputs": [
    {
     "name": "stdout",
     "output_type": "stream",
     "text": [
      "['Name', 'Age', 'Occupation']\n",
      "['Jo', '25', 'Engineer']\n",
      "['jii', '30', 'Doctor']\n"
     ]
    }
   ],
   "source": [
    "import csv\n",
    "from io import StringIO\n",
    "\n",
    "def csv_string_to_list(csv_string):\n",
    "    # Use StringIO to create a file-like object from the CSV string\n",
    "    csv_file = StringIO(csv_string)\n",
    "    \n",
    "    # Use csv.reader to read the CSV file\n",
    "    csv_reader = csv.reader(csv_file)\n",
    "    \n",
    "    # Convert the CSV reader to a list of lists\n",
    "    csv_list = [row for row in csv_reader]\n",
    "    \n",
    "    return csv_list\n",
    "\n",
    "# Example usage:\n",
    "csv_string = \"Name,Age,Occupation\\nJo,25,Engineer\\njii,30,Doctor\"\n",
    "csv_list = csv_string_to_list(csv_string)\n",
    "\n",
    "for row in csv_list:\n",
    "    print(row)\n"
   ]
  },
  {
   "cell_type": "code",
   "execution_count": null,
   "id": "15a33dce-9855-46aa-a759-c507b881cab8",
   "metadata": {},
   "outputs": [],
   "source": [
    "##1. Create a list with integers from 1 to 10."
   ]
  },
  {
   "cell_type": "code",
   "execution_count": 17,
   "id": "bb57ecb6-c6ab-4133-bcf1-d69838506612",
   "metadata": {},
   "outputs": [],
   "source": [
    "my_list = list(range(1, 11))"
   ]
  },
  {
   "cell_type": "code",
   "execution_count": null,
   "id": "01cdab84-84d5-4b9e-9700-a18f064462f2",
   "metadata": {},
   "outputs": [],
   "source": [
    "##2.Find the length of a list without using the `len()` function."
   ]
  },
  {
   "cell_type": "code",
   "execution_count": 19,
   "id": "0cc5bb7c-4caa-41a6-9adb-09f740578ece",
   "metadata": {},
   "outputs": [
    {
     "name": "stdout",
     "output_type": "stream",
     "text": [
      "The length of the list is: 5\n"
     ]
    }
   ],
   "source": [
    "my_list = [1, 2, 3, 4, 5]\n",
    "\n",
    "# Initialize a counter variable to keep track of the number of elements.\n",
    "count = 0\n",
    "\n",
    "# Iterate through the list and increment the counter for each element.\n",
    "for element in my_list:\n",
    "    count += 1\n",
    "\n",
    "# The value of 'count' now represents the length of the list.\n",
    "print(\"The length of the list is:\", count)\n"
   ]
  },
  {
   "cell_type": "code",
   "execution_count": null,
   "id": "6af4225f-d298-44ac-98b4-79b0064727f1",
   "metadata": {},
   "outputs": [],
   "source": [
    "##4. Insert an element at a specific index in a list."
   ]
  },
  {
   "cell_type": "code",
   "execution_count": 66,
   "id": "00cf6b0f-109b-4af8-95ad-381737bb2ad6",
   "metadata": {},
   "outputs": [
    {
     "name": "stdout",
     "output_type": "stream",
     "text": [
      "[1, 2, 6, 3, 4, 5]\n"
     ]
    }
   ],
   "source": [
    "my_list = [1, 2, 3, 4, 5]\n",
    "element_to_insert = 6\n",
    "index_to_insert_at = 2\n",
    "\n",
    "my_list.insert(index_to_insert_at, element_to_insert)\n",
    "print(my_list)\n"
   ]
  },
  {
   "cell_type": "code",
   "execution_count": null,
   "id": "03585373-7a5b-4d28-8869-8663442fca2b",
   "metadata": {},
   "outputs": [],
   "source": [
    "##5. Remove an element from a list by its value."
   ]
  },
  {
   "cell_type": "code",
   "execution_count": null,
   "id": "22cc1f57-1801-4390-87cb-f399c5292306",
   "metadata": {},
   "outputs": [],
   "source": []
  },
  {
   "cell_type": "code",
   "execution_count": 64,
   "id": "fd30666a-20ae-4d2c-8523-9a1700b9832a",
   "metadata": {},
   "outputs": [
    {
     "name": "stdout",
     "output_type": "stream",
     "text": [
      "[1, 2, 4, 5]\n"
     ]
    }
   ],
   "source": [
    "my_list = [1, 2, 3, 4, 5]\n",
    "value_to_remove = 3\n",
    "\n",
    "my_list.remove(value_to_remove)\n",
    "print(my_list)\n"
   ]
  },
  {
   "cell_type": "code",
   "execution_count": null,
   "id": "26712e47-76fb-4300-81d6-2157b200f46a",
   "metadata": {},
   "outputs": [],
   "source": [
    "##6.Remove an element from a list by its index."
   ]
  },
  {
   "cell_type": "code",
   "execution_count": 65,
   "id": "bfb98eed-5749-44fc-9b47-dc711b67b481",
   "metadata": {},
   "outputs": [
    {
     "name": "stdout",
     "output_type": "stream",
     "text": [
      "[1, 2, 4, 5]\n"
     ]
    }
   ],
   "source": [
    "my_list = [1, 2, 3, 4, 5]\n",
    "index_to_remove = 2\n",
    "\n",
    "removed_element = my_list.pop(index_to_remove)\n",
    "print(my_list)\n"
   ]
  },
  {
   "cell_type": "code",
   "execution_count": null,
   "id": "2cabe532-dc55-47a0-b906-010c103645b3",
   "metadata": {},
   "outputs": [],
   "source": [
    "##7.Check if an element exists in a list."
   ]
  },
  {
   "cell_type": "code",
   "execution_count": 27,
   "id": "90cc901a-4303-433d-bd25-85222f96b263",
   "metadata": {},
   "outputs": [
    {
     "name": "stdout",
     "output_type": "stream",
     "text": [
      "3 exists in the list.\n"
     ]
    }
   ],
   "source": [
    "my_list = [1, 2, 3, 4, 5]\n",
    "element_to_check = 3\n",
    "\n",
    "element_exists = False\n",
    "for item in my_list:\n",
    "    if item == element_to_check:\n",
    "        element_exists = True\n",
    "        break\n",
    "\n",
    "if element_exists:\n",
    "    print(f\"{element_to_check} exists in the list.\")\n",
    "else:\n",
    "    print(f\"{element_to_check} does not exist in the list.\")\n"
   ]
  },
  {
   "cell_type": "code",
   "execution_count": null,
   "id": "ac9fe504-f1d9-4926-9aae-906b9820574f",
   "metadata": {},
   "outputs": [],
   "source": [
    "##8.Find the index of the first occurrence of an element in a list."
   ]
  },
  {
   "cell_type": "code",
   "execution_count": 28,
   "id": "b79cac71-975e-4e58-929f-7ad04f05923d",
   "metadata": {},
   "outputs": [
    {
     "name": "stdout",
     "output_type": "stream",
     "text": [
      "The first occurrence of 3 is at index 2.\n"
     ]
    }
   ],
   "source": [
    "my_list = [1, 2, 3, 4, 5, 3]\n",
    "element_to_find = 3\n",
    "\n",
    "if element_to_find in my_list:\n",
    "    index = my_list.index(element_to_find)\n",
    "    print(f\"The first occurrence of {element_to_find} is at index {index}.\")\n",
    "else:\n",
    "    print(f\"{element_to_find} is not in the list.\")\n"
   ]
  },
  {
   "cell_type": "code",
   "execution_count": null,
   "id": "775c083d-6c51-4624-b605-3f1932e9aa30",
   "metadata": {},
   "outputs": [],
   "source": [
    "##9.Count the occurrences of an element in a list."
   ]
  },
  {
   "cell_type": "code",
   "execution_count": 30,
   "id": "5fd9fb04-acc4-4fa2-9aaa-ce0f2ea87d9e",
   "metadata": {},
   "outputs": [
    {
     "name": "stdout",
     "output_type": "stream",
     "text": [
      "The element 3 appears 3 times in the list.\n"
     ]
    }
   ],
   "source": [
    "my_list = [1, 2, 3, 4, 3, 5, 3]\n",
    "element_to_count = 3\n",
    "\n",
    "count = my_list.count(element_to_count)\n",
    "\n",
    "print(f\"The element {element_to_count} appears {count} times in the list.\")\n"
   ]
  },
  {
   "cell_type": "code",
   "execution_count": null,
   "id": "63834915-6f7c-4ec7-af1b-604b1c7d6207",
   "metadata": {},
   "outputs": [],
   "source": [
    "##10.Reverse the order of elements in a list."
   ]
  },
  {
   "cell_type": "code",
   "execution_count": 63,
   "id": "f080110d-1b6b-4cde-883c-1fa01ae98542",
   "metadata": {},
   "outputs": [
    {
     "name": "stdout",
     "output_type": "stream",
     "text": [
      "[5, 4, 3, 2, 1]\n"
     ]
    }
   ],
   "source": [
    "my_list = [1, 2, 3, 4, 5]\n",
    "my_list.reverse()\n",
    "print(my_list)\n"
   ]
  },
  {
   "cell_type": "code",
   "execution_count": null,
   "id": "a0ecf47e-57d1-443a-beba-79452f8e380a",
   "metadata": {},
   "outputs": [],
   "source": [
    "###11.Sort a list in ascending order."
   ]
  },
  {
   "cell_type": "code",
   "execution_count": 60,
   "id": "2521fe0d-114e-463e-a01d-4aed47dec9d8",
   "metadata": {},
   "outputs": [
    {
     "name": "stdout",
     "output_type": "stream",
     "text": [
      "[1, 2, 3, 5, 8]\n"
     ]
    }
   ],
   "source": [
    "my_list = [5, 2, 8, 1, 3]\n",
    "sorted_list = sorted(my_list)\n",
    "print(sorted_list)"
   ]
  },
  {
   "cell_type": "code",
   "execution_count": null,
   "id": "32950ff4-d0ed-4cfb-83b2-4aef6837aa2f",
   "metadata": {},
   "outputs": [],
   "source": [
    "###12.Sort a list in descending order."
   ]
  },
  {
   "cell_type": "code",
   "execution_count": 67,
   "id": "f2918ab9-bda5-422a-a95d-a2e3c501528c",
   "metadata": {},
   "outputs": [
    {
     "name": "stdout",
     "output_type": "stream",
     "text": [
      "[8, 5, 3, 2, 1]\n"
     ]
    }
   ],
   "source": [
    "my_list = [5, 2, 8, 1, 3]\n",
    "sorted_list = sorted(my_list, reverse=True)\n",
    "print(sorted_list)"
   ]
  },
  {
   "cell_type": "code",
   "execution_count": null,
   "id": "381bf1ec-25c5-4975-a2f7-3943aa891cf6",
   "metadata": {},
   "outputs": [],
   "source": [
    "##13.Create a list of odd numbers from 1 to 20."
   ]
  },
  {
   "cell_type": "code",
   "execution_count": 69,
   "id": "4ed336e7-e4bb-4f09-8416-6aa0bdc30b6b",
   "metadata": {},
   "outputs": [
    {
     "name": "stdout",
     "output_type": "stream",
     "text": [
      "[1, 3, 5, 7, 9, 11, 13, 15, 17, 19]\n"
     ]
    }
   ],
   "source": [
    "odd_numbers = [x for x in range(1, 21) if x % 2 != 0]\n",
    "print(odd_numbers)"
   ]
  },
  {
   "cell_type": "code",
   "execution_count": null,
   "id": "19c63af9-1dac-4865-9a41-bb1225158cc3",
   "metadata": {},
   "outputs": [],
   "source": [
    "##14.Create a list of even numbers from 1 to 20."
   ]
  },
  {
   "cell_type": "code",
   "execution_count": 75,
   "id": "321f711d-9873-4327-a804-f5ba2d8309b0",
   "metadata": {},
   "outputs": [
    {
     "name": "stdout",
     "output_type": "stream",
     "text": [
      "[2, 4, 6, 8, 10, 12, 14, 16, 18, 20]\n"
     ]
    }
   ],
   "source": [
    "even_numbers = []\n",
    "for x in range(2, 21, 2):\n",
    "    even_numbers.append(x)\n",
    "print(even_numbers)"
   ]
  },
  {
   "cell_type": "code",
   "execution_count": null,
   "id": "6328b029-cb9d-436d-9f1d-c59b0aea2ec9",
   "metadata": {},
   "outputs": [],
   "source": [
    "##15.Find the sum of all elements in a list."
   ]
  },
  {
   "cell_type": "code",
   "execution_count": 77,
   "id": "aa56d7f9-e50c-45bb-ab5d-c1170f566780",
   "metadata": {},
   "outputs": [
    {
     "name": "stdout",
     "output_type": "stream",
     "text": [
      "15\n"
     ]
    }
   ],
   "source": [
    "my_list = [1, 2, 3, 4, 5]\n",
    "total_sum = sum(my_list)\n",
    "print(total_sum)"
   ]
  },
  {
   "cell_type": "code",
   "execution_count": null,
   "id": "018ea109-8186-49ad-a0e4-6b3be655e5bd",
   "metadata": {},
   "outputs": [],
   "source": [
    "##16.Find the maximum value in a list."
   ]
  },
  {
   "cell_type": "code",
   "execution_count": 78,
   "id": "08b5ec30-65ca-49d4-b108-a730e365139f",
   "metadata": {},
   "outputs": [
    {
     "name": "stdout",
     "output_type": "stream",
     "text": [
      "20\n"
     ]
    }
   ],
   "source": [
    "my_list = [10, 5, 8, 20, 3]\n",
    "max_value = max(my_list)\n",
    "print(max_value)"
   ]
  },
  {
   "cell_type": "code",
   "execution_count": null,
   "id": "81795ad7-b1b1-41f3-a00c-b45394e993df",
   "metadata": {},
   "outputs": [],
   "source": [
    "##17Find the minimum value in a list."
   ]
  },
  {
   "cell_type": "code",
   "execution_count": 79,
   "id": "82d376b3-ead0-4cab-8b77-f8b46ecc9b32",
   "metadata": {},
   "outputs": [
    {
     "name": "stdout",
     "output_type": "stream",
     "text": [
      "3\n"
     ]
    }
   ],
   "source": [
    "my_list = [10, 5, 8, 20, 3]\n",
    "min_value = min(my_list)\n",
    "print(min_value)"
   ]
  },
  {
   "cell_type": "code",
   "execution_count": null,
   "id": "0fe7b685-5c99-4cb6-826b-285fd370dab9",
   "metadata": {},
   "outputs": [],
   "source": [
    "##18.Create a list of squares of numbers from 1 to 10."
   ]
  },
  {
   "cell_type": "code",
   "execution_count": 80,
   "id": "7224555e-90f4-469c-9b62-c9db966e3fa3",
   "metadata": {},
   "outputs": [
    {
     "name": "stdout",
     "output_type": "stream",
     "text": [
      "[1, 4, 9, 16, 25, 36, 49, 64, 81, 100]\n"
     ]
    }
   ],
   "source": [
    "squares_list = [x ** 2 for x in range(1, 11)]\n",
    "print(squares_list)"
   ]
  },
  {
   "cell_type": "code",
   "execution_count": null,
   "id": "c8289cb1-12f0-4def-ab52-dbf744bbd8d6",
   "metadata": {},
   "outputs": [],
   "source": [
    "##19. Create a list of random numbers."
   ]
  },
  {
   "cell_type": "code",
   "execution_count": 82,
   "id": "be2ece61-b4e8-4a2b-876b-d0b47f88703f",
   "metadata": {},
   "outputs": [
    {
     "name": "stdout",
     "output_type": "stream",
     "text": [
      "[47, 14, 47, 23, 100, 74, 34, 2, 74, 95]\n"
     ]
    }
   ],
   "source": [
    "import random\n",
    "\n",
    "# Define the range for random numbers (e.g., between 1 and 100)\n",
    "start_range = 1\n",
    "end_range = 100\n",
    "\n",
    "# Specify the number of random numbers you want in the list\n",
    "num_random_numbers = 10\n",
    "\n",
    "# Create a list of random integers\n",
    "random_numbers = [random.randint(start_range, end_range) for _ in range(num_random_numbers)]\n",
    "print(random_numbers)\n"
   ]
  },
  {
   "cell_type": "code",
   "execution_count": null,
   "id": "89097854-4b31-44ee-be07-fd6ff5a7436f",
   "metadata": {},
   "outputs": [],
   "source": [
    "##20.Remove duplicates from a list."
   ]
  },
  {
   "cell_type": "code",
   "execution_count": 84,
   "id": "98c5e084-11b6-49a1-afe1-33b3777b1fde",
   "metadata": {},
   "outputs": [
    {
     "name": "stdout",
     "output_type": "stream",
     "text": [
      "[1, 2, 3, 4, 5]\n"
     ]
    }
   ],
   "source": [
    "original_list = [1, 2, 2, 3, 4, 4, 5]\n",
    "\n",
    "# Initialize a new list to store unique values\n",
    "unique_list = []\n",
    "\n",
    "# Iterate through the original list\n",
    "for item in original_list:\n",
    "    if item not in unique_list:\n",
    "        unique_list.append(item)\n",
    "\n",
    "# unique_list now contains the original list with duplicates removed\n",
    "print(unique_list)"
   ]
  },
  {
   "cell_type": "code",
   "execution_count": null,
   "id": "840c4a25-99e7-4db3-9fb0-e238e31798ed",
   "metadata": {},
   "outputs": [],
   "source": [
    "##21.Find the common elements between two lists."
   ]
  },
  {
   "cell_type": "code",
   "execution_count": 86,
   "id": "d66d93da-2d00-42b2-86b9-ca3ad62de4ce",
   "metadata": {},
   "outputs": [
    {
     "name": "stdout",
     "output_type": "stream",
     "text": [
      "[3, 4, 5]\n"
     ]
    }
   ],
   "source": [
    "list1 = [1, 2, 3, 4, 5]\n",
    "list2 = [3, 4, 5, 6, 7]\n",
    "\n",
    "common_elements = []\n",
    "\n",
    "for item in list1:\n",
    "    if item in list2:\n",
    "        common_elements.append(item)\n",
    "list1 = [1, 2, 3, 4, 5]\n",
    "list2 = [3, 4, 5, 6, 7]\n",
    "\n",
    "set1 = set(list1)\n",
    "set2 = set(list2)\n",
    "\n",
    "common_elements = list(set1.intersection(set2))\n",
    "print(common_elements)\n"
   ]
  },
  {
   "cell_type": "code",
   "execution_count": null,
   "id": "7cd7a247-7d22-47db-9f34-0a14e3f341c5",
   "metadata": {},
   "outputs": [],
   "source": [
    "##22.Find the difference between two lists."
   ]
  },
  {
   "cell_type": "code",
   "execution_count": 2,
   "id": "c3ae05b9-b308-4bcc-a738-03aa289e77d1",
   "metadata": {},
   "outputs": [
    {
     "name": "stdout",
     "output_type": "stream",
     "text": [
      "[1, 2]\n"
     ]
    }
   ],
   "source": [
    "list1 = [1, 2, 3, 4, 5]\n",
    "list2 = [3, 4, 5, 6, 7]\n",
    "\n",
    "difference = [item for item in list1 if item not in list2]\n",
    "list1 = [1, 2, 3, 4, 5]\n",
    "list2 = [3, 4, 5, 6, 7]\n",
    "\n",
    "set1 = set(list1)\n",
    "set2 = set(list2)\n",
    "\n",
    "difference = list(set1.difference(set2))\n",
    "print(difference)"
   ]
  },
  {
   "cell_type": "code",
   "execution_count": 3,
   "id": "0ad93e20-892a-40fa-b5e2-6fe1f24d8ad3",
   "metadata": {},
   "outputs": [],
   "source": [
    "##23Merge two lists."
   ]
  },
  {
   "cell_type": "code",
   "execution_count": 4,
   "id": "13c28679-0f91-432a-808a-a9f5b2d44785",
   "metadata": {},
   "outputs": [
    {
     "name": "stdout",
     "output_type": "stream",
     "text": [
      "[1, 2, 3, 4, 5, 6]\n"
     ]
    }
   ],
   "source": [
    "list1 = [1, 2, 3]\n",
    "list2 = [4, 5, 6]\n",
    "\n",
    "merged_list = list1 + list2\n",
    "print(merged_list)\n",
    "#using + operator"
   ]
  },
  {
   "cell_type": "code",
   "execution_count": null,
   "id": "dea418e5-06b3-4b5b-9c27-6005a5754c78",
   "metadata": {},
   "outputs": [],
   "source": [
    "##24.Multiply all elements in a list by 2"
   ]
  },
  {
   "cell_type": "code",
   "execution_count": 5,
   "id": "5d726ec7-cc46-404f-ab72-fdfd68bcbc10",
   "metadata": {},
   "outputs": [
    {
     "name": "stdout",
     "output_type": "stream",
     "text": [
      "[2, 4, 6, 8, 10]\n"
     ]
    }
   ],
   "source": [
    "original_list = [1, 2, 3, 4, 5]\n",
    "\n",
    "# Using a list comprehension to multiply each element by 2\n",
    "multiplied_list = [x * 2 for x in original_list]\n",
    "print(multiplied_list)"
   ]
  },
  {
   "cell_type": "code",
   "execution_count": null,
   "id": "d232533a-8a2c-4809-85b5-91fbd46344bc",
   "metadata": {},
   "outputs": [],
   "source": [
    "##25.Filter out all even numbers from a list."
   ]
  },
  {
   "cell_type": "code",
   "execution_count": 6,
   "id": "a33736ba-c8bf-460b-8443-3367cce98ecc",
   "metadata": {},
   "outputs": [
    {
     "name": "stdout",
     "output_type": "stream",
     "text": [
      "[1, 3, 5, 7, 9]\n"
     ]
    }
   ],
   "source": [
    "original_list = [1, 2, 3, 4, 5, 6, 7, 8, 9, 10]\n",
    "\n",
    "# Using a list comprehension to filter out even numbers\n",
    "filtered_list = [x for x in original_list if x % 2 != 0]\n",
    "print(filtered_list)"
   ]
  },
  {
   "cell_type": "code",
   "execution_count": 7,
   "id": "b4a46133-83f1-4142-ab6d-c56413c5fd03",
   "metadata": {},
   "outputs": [],
   "source": [
    "##26.Convert a list of strings to a list of integers."
   ]
  },
  {
   "cell_type": "code",
   "execution_count": 8,
   "id": "71545439-9983-49ef-bae2-e4f387c84bb0",
   "metadata": {},
   "outputs": [
    {
     "name": "stdout",
     "output_type": "stream",
     "text": [
      "[1, 2, 3, 4, 5]\n"
     ]
    }
   ],
   "source": [
    "string_list = [\"1\", \"2\", \"3\", \"4\", \"5\"]\n",
    "\n",
    "# Using a list comprehension to convert strings to integers\n",
    "integer_list = [int(x) for x in string_list]\n",
    "print(integer_list)"
   ]
  },
  {
   "cell_type": "code",
   "execution_count": null,
   "id": "98d72ebe-0854-4fcb-9207-37566ff0d4e5",
   "metadata": {},
   "outputs": [],
   "source": [
    "##27.Convert a list of integers to a list of strings."
   ]
  },
  {
   "cell_type": "code",
   "execution_count": 9,
   "id": "1a5e1e63-523b-4d25-895b-8fa6a6c34a8a",
   "metadata": {},
   "outputs": [
    {
     "name": "stdout",
     "output_type": "stream",
     "text": [
      "['1', '2', '3', '4', '5']\n"
     ]
    }
   ],
   "source": [
    "integer_list = [1, 2, 3, 4, 5]\n",
    "\n",
    "# Using a list comprehension to convert integers to strings\n",
    "string_list = [str(x) for x in integer_list]\n",
    "print(string_list)"
   ]
  },
  {
   "cell_type": "code",
   "execution_count": null,
   "id": "842993c1-b0c1-49ce-9a46-a7bfb5422e7c",
   "metadata": {},
   "outputs": [],
   "source": [
    "##28.Flatten a nested list."
   ]
  },
  {
   "cell_type": "code",
   "execution_count": 15,
   "id": "8dc55e99-e1f2-40f8-b15e-b9a581c96f44",
   "metadata": {},
   "outputs": [
    {
     "name": "stdout",
     "output_type": "stream",
     "text": [
      "[1, 2, 3, 4, 5, 6, 7, 8]\n"
     ]
    }
   ],
   "source": [
    "nested_list = [[1, 2, 3], [4, 5], [6, 7, 8]]\n",
    "\n",
    "# Using list comprehension to flatten the nested list\n",
    "flattened_list = [item for sublist in nested_list for item in sublist]\n",
    "print(flattened_list)"
   ]
  },
  {
   "cell_type": "code",
   "execution_count": 16,
   "id": "59babc0a-27b6-4b96-8bdc-a9919e79f545",
   "metadata": {},
   "outputs": [],
   "source": [
    "##28.Create a list of the first 10 Fibonacci numbers."
   ]
  },
  {
   "cell_type": "code",
   "execution_count": 17,
   "id": "d7fd8177-ee89-41c1-8f47-691ceb40d820",
   "metadata": {},
   "outputs": [
    {
     "name": "stdout",
     "output_type": "stream",
     "text": [
      "[0, 1, 1, 2, 3, 5, 8, 13, 21, 34]\n"
     ]
    }
   ],
   "source": [
    "# Function to generate the first n Fibonacci numbers\n",
    "def generate_fibonacci(n):\n",
    "    fibonacci_list = [0, 1]\n",
    "    for i in range(2, n):\n",
    "        next_fibonacci = fibonacci_list[-1] + fibonacci_list[-2]\n",
    "        fibonacci_list.append(next_fibonacci)\n",
    "    return fibonacci_list\n",
    "\n",
    "# Generate the first 10 Fibonacci numbers\n",
    "first_10_fibonacci = generate_fibonacci(10)\n",
    "\n",
    "print(first_10_fibonacci)\n"
   ]
  },
  {
   "cell_type": "code",
   "execution_count": null,
   "id": "677eb2f8-33b2-46c7-8e37-dc556baddbee",
   "metadata": {},
   "outputs": [],
   "source": [
    "##29.Check if a list is sorted."
   ]
  },
  {
   "cell_type": "code",
   "execution_count": 18,
   "id": "bc954209-0d89-4689-bde4-892e8458260b",
   "metadata": {},
   "outputs": [
    {
     "name": "stdout",
     "output_type": "stream",
     "text": [
      "True\n",
      "False\n"
     ]
    }
   ],
   "source": [
    "def is_sorted(lst):\n",
    "    return all(lst[i] <= lst[i+1] for i in range(len(lst)-1))\n",
    "\n",
    "\n",
    "sorted_list = [1, 2, 3, 4, 5]\n",
    "unsorted_list = [5, 2, 8, 1, 3]\n",
    "\n",
    "print(is_sorted(sorted_list))   # Output: True\n",
    "print(is_sorted(unsorted_list)) # Output: False\n"
   ]
  },
  {
   "cell_type": "code",
   "execution_count": null,
   "id": "a6f511e2-413d-4e42-9261-bbb4b4fe2c1b",
   "metadata": {},
   "outputs": [],
   "source": [
    "##30.Create a list of the first 10 Fibonacci numbers"
   ]
  },
  {
   "cell_type": "code",
   "execution_count": 19,
   "id": "b7dae0c3-660a-4cdb-bb7e-995b58bed4f9",
   "metadata": {},
   "outputs": [
    {
     "name": "stdout",
     "output_type": "stream",
     "text": [
      "[0, 1, 1, 2, 3, 5, 8, 13, 21, 34]\n"
     ]
    }
   ],
   "source": [
    "# Function to generate the first n Fibonacci numbers\n",
    "def generate_fibonacci(n):\n",
    "    fibonacci_list = [0, 1]\n",
    "    for i in range(2, n):\n",
    "        next_fibonacci = fibonacci_list[-1] + fibonacci_list[-2]\n",
    "        fibonacci_list.append(next_fibonacci)\n",
    "    return fibonacci_list\n",
    "\n",
    "# Generate the first 10 Fibonacci numbers\n",
    "first_10_fibonacci = generate_fibonacci(10)\n",
    "\n",
    "print(first_10_fibonacci)\n"
   ]
  },
  {
   "cell_type": "code",
   "execution_count": null,
   "id": "af389c2f-4fc9-4208-8d96-1c068accc52f",
   "metadata": {},
   "outputs": [],
   "source": [
    "##31.Rotate a list to the left by `n` positions."
   ]
  },
  {
   "cell_type": "code",
   "execution_count": 20,
   "id": "5a67184b-750c-403e-b04c-758352c04cb5",
   "metadata": {},
   "outputs": [
    {
     "name": "stdout",
     "output_type": "stream",
     "text": [
      "[0, 1, 1, 2, 3, 5, 8, 13, 21, 34]\n"
     ]
    }
   ],
   "source": [
    "# Function to generate the first n Fibonacci numbers\n",
    "def generate_fibonacci(n):\n",
    "    fibonacci_list = [0, 1]\n",
    "    for i in range(2, n):\n",
    "        next_fibonacci = fibonacci_list[-1] + fibonacci_list[-2]\n",
    "        fibonacci_list.append(next_fibonacci)\n",
    "    return fibonacci_list\n",
    "\n",
    "# Generate the first 10 Fibonacci numbers\n",
    "first_10_fibonacci = generate_fibonacci(10)\n",
    "\n",
    "print(first_10_fibonacci)\n"
   ]
  },
  {
   "cell_type": "code",
   "execution_count": null,
   "id": "70f3d648-ab2b-473e-8027-8a8780f7d94f",
   "metadata": {},
   "outputs": [],
   "source": [
    "##32.Rotate a list to the right by `n` positions."
   ]
  },
  {
   "cell_type": "code",
   "execution_count": 21,
   "id": "cf64e2a2-c923-46a7-9b13-44e5a7fe49bd",
   "metadata": {},
   "outputs": [
    {
     "name": "stdout",
     "output_type": "stream",
     "text": [
      "[4, 5, 1, 2, 3]\n"
     ]
    }
   ],
   "source": [
    "def rotate_right(lst, n):\n",
    "    # Use slicing to rotate the list to the right\n",
    "    return lst[-n:] + lst[:-n]\n",
    "\n",
    "# Example usage:\n",
    "original_list = [1, 2, 3, 4, 5]\n",
    "n_positions = 2\n",
    "\n",
    "rotated_list = rotate_right(original_list, n_positions)\n",
    "print(rotated_list)\n"
   ]
  },
  {
   "cell_type": "code",
   "execution_count": null,
   "id": "0095a642-5399-4b7a-bcb4-c57f137fd393",
   "metadata": {},
   "outputs": [],
   "source": [
    "##33.Create a list of prime numbers up to 50."
   ]
  },
  {
   "cell_type": "code",
   "execution_count": 22,
   "id": "3bc9a114-e5f0-445d-af4b-da6d656b6135",
   "metadata": {},
   "outputs": [
    {
     "name": "stdout",
     "output_type": "stream",
     "text": [
      "[2, 3, 5, 7, 11, 13, 17, 19, 23, 29, 31, 37, 41, 43, 47]\n"
     ]
    }
   ],
   "source": [
    "def is_prime(num):\n",
    "    if num < 2:\n",
    "        return False\n",
    "    for i in range(2, int(num**0.5) + 1):\n",
    "        if num % i == 0:\n",
    "            return False\n",
    "    return True\n",
    "\n",
    "# Generate a list of prime numbers up to 50\n",
    "prime_numbers_up_to_50 = [num for num in range(2, 51) if is_prime(num)]\n",
    "\n",
    "print(prime_numbers_up_to_50)\n"
   ]
  },
  {
   "cell_type": "code",
   "execution_count": null,
   "id": "e1380a1e-8e42-438d-9589-8ba794eb37fa",
   "metadata": {},
   "outputs": [],
   "source": [
    "##34.Split a list into chunks of size `n`."
   ]
  },
  {
   "cell_type": "code",
   "execution_count": 23,
   "id": "52d87f74-8bf3-4cf2-a27e-ff1334eb784c",
   "metadata": {},
   "outputs": [
    {
     "name": "stdout",
     "output_type": "stream",
     "text": [
      "[[1, 2, 3], [4, 5, 6], [7, 8, 9]]\n"
     ]
    }
   ],
   "source": [
    "def split_into_chunks(lst, n):\n",
    "    return [lst[i:i + n] for i in range(0, len(lst), n)]\n",
    "\n",
    "# Example usage:\n",
    "original_list = [1, 2, 3, 4, 5, 6, 7, 8, 9]\n",
    "chunk_size = 3\n",
    "\n",
    "chunks = split_into_chunks(original_list, chunk_size)\n",
    "print(chunks)\n"
   ]
  },
  {
   "cell_type": "code",
   "execution_count": 24,
   "id": "b7588bda-bfab-48d2-beaf-36ebb1cbae4c",
   "metadata": {},
   "outputs": [],
   "source": [
    "##35.Find the second largest number in a list."
   ]
  },
  {
   "cell_type": "code",
   "execution_count": 25,
   "id": "1dc93c30-1784-44d4-850f-44e5fd229d2d",
   "metadata": {},
   "outputs": [
    {
     "name": "stdout",
     "output_type": "stream",
     "text": [
      "8\n"
     ]
    }
   ],
   "source": [
    "def second_largest(lst):\n",
    "    sorted_list = sorted(set(lst), reverse=True)\n",
    "    return sorted_list[1] if len(sorted_list) > 1 else None\n",
    "\n",
    "# Example usage:\n",
    "my_list = [5, 2, 8, 1, 3, 10]\n",
    "result = second_largest(my_list)\n",
    "print(result)\n"
   ]
  },
  {
   "cell_type": "code",
   "execution_count": null,
   "id": "e1cd68a7-fd0d-4ffa-bc9b-7c256142e259",
   "metadata": {},
   "outputs": [],
   "source": [
    "##36.Replace every element in a list with its square."
   ]
  },
  {
   "cell_type": "code",
   "execution_count": 26,
   "id": "62689e95-1e91-41df-8e08-4a2006a8aa9b",
   "metadata": {},
   "outputs": [
    {
     "name": "stdout",
     "output_type": "stream",
     "text": [
      "[1, 4, 9, 16, 25]\n"
     ]
    }
   ],
   "source": [
    "original_list = [1, 2, 3, 4, 5]\n",
    "\n",
    "# Using a list comprehension to replace each element with its square\n",
    "squared_list = [x ** 2 for x in original_list]\n",
    "\n",
    "print(squared_list)\n"
   ]
  },
  {
   "cell_type": "code",
   "execution_count": null,
   "id": "4b1bddd5-e9d0-41d0-804a-931491d9c452",
   "metadata": {},
   "outputs": [],
   "source": [
    "##37.Convert a list to a dictionary where list elements become keys and theirindices become values."
   ]
  },
  {
   "cell_type": "code",
   "execution_count": 27,
   "id": "39f8c206-9ae1-4bb2-8283-1cb4d2608e16",
   "metadata": {},
   "outputs": [
    {
     "name": "stdout",
     "output_type": "stream",
     "text": [
      "{'apple': 0, 'banana': 1, 'orange': 2, 'grape': 3}\n"
     ]
    }
   ],
   "source": [
    "original_list = ['apple', 'banana', 'orange', 'grape']\n",
    "\n",
    "# Using a dictionary comprehension to convert the list to a dictionary\n",
    "result_dict = {element: index for index, element in enumerate(original_list)}\n",
    "\n",
    "print(result_dict)\n"
   ]
  },
  {
   "cell_type": "code",
   "execution_count": null,
   "id": "ffedc801-ca41-4f7d-a91b-5ec451486a20",
   "metadata": {},
   "outputs": [],
   "source": [
    "##38.Shuffle the elements of a list randomly."
   ]
  },
  {
   "cell_type": "code",
   "execution_count": 28,
   "id": "36b256f0-0ea3-4281-9cc2-637833095c9a",
   "metadata": {},
   "outputs": [
    {
     "name": "stdout",
     "output_type": "stream",
     "text": [
      "[4, 5, 3, 2, 1]\n"
     ]
    }
   ],
   "source": [
    "import random\n",
    "\n",
    "original_list = [1, 2, 3, 4, 5]\n",
    "\n",
    "# Shuffle the list in-place\n",
    "random.shuffle(original_list)\n",
    "\n",
    "print(original_list)\n"
   ]
  },
  {
   "cell_type": "code",
   "execution_count": null,
   "id": "29834c5b-394f-4ddc-906f-421b78ff3d6b",
   "metadata": {},
   "outputs": [],
   "source": [
    "##39.Create a list of the first 10 factorial numbers."
   ]
  },
  {
   "cell_type": "code",
   "execution_count": 29,
   "id": "86942c7c-1f51-4a88-bc1b-34704e070f76",
   "metadata": {},
   "outputs": [
    {
     "name": "stdout",
     "output_type": "stream",
     "text": [
      "[1, 2, 6, 24, 120, 720, 5040, 40320, 362880, 3628800]\n"
     ]
    }
   ],
   "source": [
    "def factorial(n):\n",
    "    result = 1\n",
    "    for i in range(1, n + 1):\n",
    "        result *= i\n",
    "    return result\n",
    "\n",
    "# Generate a list of the first 10 factorial numbers\n",
    "factorial_numbers = [factorial(i) for i in range(1, 11)]\n",
    "\n",
    "print(factorial_numbers)\n"
   ]
  },
  {
   "cell_type": "code",
   "execution_count": 30,
   "id": "7eb53520-2e40-4ce4-9b3a-967160985839",
   "metadata": {},
   "outputs": [],
   "source": [
    "##40.Check if two lists have at least one element in common."
   ]
  },
  {
   "cell_type": "code",
   "execution_count": 31,
   "id": "d4de07c7-31ca-4aca-a0c2-284d4f43236c",
   "metadata": {},
   "outputs": [
    {
     "name": "stdout",
     "output_type": "stream",
     "text": [
      "True\n"
     ]
    }
   ],
   "source": [
    "list1 = [1, 2, 3, 4, 5]\n",
    "list2 = [5, 6, 7, 8, 9]\n",
    "\n",
    "# Check if the lists have at least one element in common\n",
    "common_elements_exist = any(element in list1 for element in list2)\n",
    "\n",
    "print(common_elements_exist)\n"
   ]
  },
  {
   "cell_type": "code",
   "execution_count": null,
   "id": "e4335b82-e9c3-45f0-9994-afdf5a38e6cd",
   "metadata": {},
   "outputs": [],
   "source": [
    "##41.Remove all elements from a list."
   ]
  },
  {
   "cell_type": "code",
   "execution_count": 32,
   "id": "cbbe552f-b7c5-4d9f-9f09-f54acfc3270f",
   "metadata": {},
   "outputs": [
    {
     "name": "stdout",
     "output_type": "stream",
     "text": [
      "[]\n"
     ]
    }
   ],
   "source": [
    "my_list = [1, 2, 3, 4, 5]\n",
    "\n",
    "# Remove all elements from the list by assigning an empty list\n",
    "my_list = []\n",
    "\n",
    "print(my_list)\n"
   ]
  },
  {
   "cell_type": "code",
   "execution_count": null,
   "id": "6fa5224b-6c99-457f-9233-59f40d2c86ae",
   "metadata": {},
   "outputs": [],
   "source": [
    "##42.Replace negative numbers in a list with 0."
   ]
  },
  {
   "cell_type": "code",
   "execution_count": 48,
   "id": "383d6fba-3bed-4b39-a982-468658ac95c4",
   "metadata": {},
   "outputs": [
    {
     "name": "stdout",
     "output_type": "stream",
     "text": [
      "Original List: [1, -2, 3, -4, 5, -6]\n",
      "Modified List: [1, 0, 3, 0, 5, 0]\n"
     ]
    }
   ],
   "source": [
    "def replace_negatives_with_zero(lst):\n",
    "    return [max(0, num) for num in lst]\n",
    "\n",
    "# Example usage:\n",
    "original_list = [1, -2, 3, -4, 5, -6]\n",
    "modified_list = replace_negatives_with_zero(original_list)\n",
    "\n",
    "print(\"Original List:\", original_list)\n",
    "print(\"Modified List:\", modified_list)\n"
   ]
  },
  {
   "cell_type": "code",
   "execution_count": null,
   "id": "c43c04b9-fbeb-454b-ba68-3db560c606ff",
   "metadata": {},
   "outputs": [],
   "source": [
    "##43.Convert a string into a list of words."
   ]
  },
  {
   "cell_type": "code",
   "execution_count": 49,
   "id": "44fa7d3a-0022-4e23-bd6c-680e565446bd",
   "metadata": {},
   "outputs": [
    {
     "name": "stdout",
     "output_type": "stream",
     "text": [
      "['This', 'is', 'a', 'sample', 'string.']\n"
     ]
    }
   ],
   "source": [
    "def string_to_list_of_words(s):\n",
    "    return s.split()\n",
    "\n",
    "# Example usage:\n",
    "my_string = \"This is a sample string.\"\n",
    "\n",
    "word_list = string_to_list_of_words(my_string)\n",
    "print(word_list)\n"
   ]
  },
  {
   "cell_type": "code",
   "execution_count": null,
   "id": "33740c17-d5b4-4a35-adeb-620339b16899",
   "metadata": {},
   "outputs": [],
   "source": [
    "##44.Convert a list of words into a string."
   ]
  },
  {
   "cell_type": "code",
   "execution_count": 50,
   "id": "7039e299-a406-474d-906a-bd95b82f813b",
   "metadata": {},
   "outputs": [
    {
     "name": "stdout",
     "output_type": "stream",
     "text": [
      "This is a sample string.\n"
     ]
    }
   ],
   "source": [
    "def list_of_words_to_string(word_list):\n",
    "    return ' '.join(word_list)\n",
    "\n",
    "# Example usage:\n",
    "my_word_list = ['This', 'is', 'a', 'sample', 'string.']\n",
    "\n",
    "result_string = list_of_words_to_string(my_word_list)\n",
    "print(result_string)\n"
   ]
  },
  {
   "cell_type": "code",
   "execution_count": null,
   "id": "9b7c396c-0dbf-40bc-88e5-9e3ca8647659",
   "metadata": {},
   "outputs": [],
   "source": [
    "##45.Create a list of the first `n` powers of 2."
   ]
  },
  {
   "cell_type": "code",
   "execution_count": 51,
   "id": "99952cf2-61db-4198-9e5e-0c5ed65391fa",
   "metadata": {},
   "outputs": [
    {
     "name": "stdout",
     "output_type": "stream",
     "text": [
      "[1, 2, 4, 8, 16]\n"
     ]
    }
   ],
   "source": [
    "def powers_of_two(n):\n",
    "    return [2 ** i for i in range(n)]\n",
    "\n",
    "# Example usage:\n",
    "n = 5\n",
    "\n",
    "powers_list = powers_of_two(n)\n",
    "print(powers_list)\n"
   ]
  },
  {
   "cell_type": "code",
   "execution_count": null,
   "id": "32ac465d-6a4f-4637-a332-5aa06d2fc774",
   "metadata": {},
   "outputs": [],
   "source": [
    "##46.Find the longest string in a list of strings."
   ]
  },
  {
   "cell_type": "code",
   "execution_count": 52,
   "id": "c48a998c-101c-4119-ac1c-55d5d82efc93",
   "metadata": {},
   "outputs": [
    {
     "name": "stdout",
     "output_type": "stream",
     "text": [
      "Longest string: strawberry\n"
     ]
    }
   ],
   "source": [
    "def longest_string(strings):\n",
    "    return max(strings, key=len)\n",
    "\n",
    "# Example usage:\n",
    "string_list = [\"apple\", \"banana\", \"kiwi\", \"strawberry\", \"orange\"]\n",
    "\n",
    "longest = longest_string(string_list)\n",
    "print(\"Longest string:\", longest)\n"
   ]
  },
  {
   "cell_type": "code",
   "execution_count": null,
   "id": "6fb48adf-aac0-4f40-9ccf-703f4f0ddd29",
   "metadata": {},
   "outputs": [],
   "source": [
    "##47.Find the shortest string in a list of strings."
   ]
  },
  {
   "cell_type": "code",
   "execution_count": 53,
   "id": "275aa5fe-860b-4f86-b3e4-5e9492489688",
   "metadata": {},
   "outputs": [
    {
     "name": "stdout",
     "output_type": "stream",
     "text": [
      "Shortest string: kiwi\n"
     ]
    }
   ],
   "source": [
    "def shortest_string(strings):\n",
    "    return min(strings, key=len)\n",
    "\n",
    "# Example usage:\n",
    "string_list = [\"apple\", \"banana\", \"kiwi\", \"strawberry\", \"orange\"]\n",
    "\n",
    "shortest = shortest_string(string_list)\n",
    "print(\"Shortest string:\", shortest)\n"
   ]
  },
  {
   "cell_type": "code",
   "execution_count": null,
   "id": "ebd86719-1155-484e-bf1b-399d164e0665",
   "metadata": {},
   "outputs": [],
   "source": [
    "##48.Create a list of the first `n` triangular numbers."
   ]
  },
  {
   "cell_type": "code",
   "execution_count": 54,
   "id": "578cfb3a-c65a-4bac-ab09-e3fa1d7be3ba",
   "metadata": {},
   "outputs": [
    {
     "name": "stdout",
     "output_type": "stream",
     "text": [
      "[1, 3, 6, 10, 15]\n"
     ]
    }
   ],
   "source": [
    "def triangular_numbers(n):\n",
    "    return [sum(range(1, i + 1)) for i in range(1, n + 1)]\n",
    "\n",
    "# Example usage:\n",
    "n = 5\n",
    "\n",
    "triangular_list = triangular_numbers(n)\n",
    "print(triangular_list)\n"
   ]
  },
  {
   "cell_type": "code",
   "execution_count": null,
   "id": "ecb95ade-af7d-4b1f-a2cb-cd154da4cbed",
   "metadata": {},
   "outputs": [],
   "source": [
    "##49.Check if a list contains another list as a subsequence."
   ]
  },
  {
   "cell_type": "code",
   "execution_count": 55,
   "id": "aa3dfec6-4c33-4ab7-bcda-4edda0b6e19f",
   "metadata": {},
   "outputs": [
    {
     "name": "stdout",
     "output_type": "stream",
     "text": [
      "True\n",
      "True\n"
     ]
    }
   ],
   "source": [
    "def is_subsequence(sublist, sequence):\n",
    "    # Iterator for the subsequence\n",
    "    sub_iter = iter(sublist)\n",
    "\n",
    "    # Check if each element in the subsequence is in the sequence\n",
    "    return all(item in sequence for item in sub_iter)\n",
    "\n",
    "# Example usage:\n",
    "sequence = [1, 2, 3, 4, 5, 6, 7]\n",
    "subsequence1 = [2, 4, 6]\n",
    "subsequence2 = [1, 3, 7]\n",
    "\n",
    "print(is_subsequence(subsequence1, sequence))  # Output: True\n",
    "print(is_subsequence(subsequence2, sequence))  # Output: False\n"
   ]
  },
  {
   "cell_type": "code",
   "execution_count": null,
   "id": "4d4c8be8-c0bb-4ac5-8e6f-d94be3be1788",
   "metadata": {},
   "outputs": [],
   "source": [
    "##50.Swap two elements in a list by their indices."
   ]
  },
  {
   "cell_type": "code",
   "execution_count": 56,
   "id": "58962f07-e2ab-4a59-8e93-3fb4ca0c29d6",
   "metadata": {},
   "outputs": [
    {
     "name": "stdout",
     "output_type": "stream",
     "text": [
      "Original List: [1, 2, 3, 4, 5]\n",
      "List after swapping: [1, 4, 3, 2, 5]\n"
     ]
    }
   ],
   "source": [
    "def swap_elements(lst, index1, index2):\n",
    "    # Check if indices are within the bounds of the list\n",
    "    if 0 <= index1 < len(lst) and 0 <= index2 < len(lst):\n",
    "        # Swap elements at index1 and index2\n",
    "        lst[index1], lst[index2] = lst[index2], lst[index1]\n",
    "    else:\n",
    "        print(\"Invalid indices.\")\n",
    "\n",
    "# Example usage:\n",
    "my_list = [1, 2, 3, 4, 5]\n",
    "\n",
    "print(\"Original List:\", my_list)\n",
    "\n",
    "# Swap elements at index 1 and index 3\n",
    "swap_elements(my_list, 1, 3)\n",
    "\n",
    "print(\"List after swapping:\", my_list)\n"
   ]
  },
  {
   "cell_type": "code",
   "execution_count": null,
   "id": "4abaceef-e924-4a3d-b15f-e40810bf74a8",
   "metadata": {},
   "outputs": [],
   "source": []
  },
  {
   "cell_type": "code",
   "execution_count": null,
   "id": "8748dc8b-81ab-4c65-9899-c20fd996ebc9",
   "metadata": {},
   "outputs": [],
   "source": [
    "##1.Create a tuple with integers from 1 to 5."
   ]
  },
  {
   "cell_type": "code",
   "execution_count": 58,
   "id": "8ad3bb15-a8d8-431d-8c43-5b0d009d9398",
   "metadata": {},
   "outputs": [
    {
     "name": "stdout",
     "output_type": "stream",
     "text": [
      "(1, 2, 3, 4, 5)\n"
     ]
    }
   ],
   "source": [
    "my_tuple = (1, 2, 3, 4, 5)\n",
    "print(my_tuple)"
   ]
  },
  {
   "cell_type": "code",
   "execution_count": null,
   "id": "04c6a7a8-7c16-4b76-a5c2-4dff31d92990",
   "metadata": {},
   "outputs": [],
   "source": [
    "##2.Access the third element of a tuple."
   ]
  },
  {
   "cell_type": "code",
   "execution_count": 59,
   "id": "a6792548-0d07-46b1-8356-25a8b70eb8e2",
   "metadata": {},
   "outputs": [
    {
     "name": "stdout",
     "output_type": "stream",
     "text": [
      "3\n"
     ]
    }
   ],
   "source": [
    "my_tuple = (1, 2, 3, 4, 5)\n",
    "third_element = my_tuple[2]\n",
    "\n",
    "print(third_element)\n"
   ]
  },
  {
   "cell_type": "code",
   "execution_count": null,
   "id": "5e64feb2-0d9a-4580-ac6a-ce3d14e5b130",
   "metadata": {},
   "outputs": [],
   "source": [
    "##3.Find the length of a tuple without using the `len()` function."
   ]
  },
  {
   "cell_type": "code",
   "execution_count": 60,
   "id": "82414f7d-f229-412b-82c1-a815c73fca20",
   "metadata": {},
   "outputs": [
    {
     "name": "stdout",
     "output_type": "stream",
     "text": [
      "5\n"
     ]
    }
   ],
   "source": [
    "my_tuple = (1, 2, 3, 4, 5)\n",
    "tuple_length = 0\n",
    "\n",
    "for _ in my_tuple:\n",
    "    tuple_length += 1\n",
    "\n",
    "print(tuple_length)\n"
   ]
  },
  {
   "cell_type": "code",
   "execution_count": null,
   "id": "e4c95361-23ee-480a-915b-43a013504aa2",
   "metadata": {},
   "outputs": [],
   "source": [
    "##4.Count the occurrences of an element in a tuple."
   ]
  },
  {
   "cell_type": "code",
   "execution_count": 61,
   "id": "689e9137-946e-40b0-a1bf-f2716e37a119",
   "metadata": {},
   "outputs": [
    {
     "name": "stdout",
     "output_type": "stream",
     "text": [
      "The element 2 appears 3 times in the tuple.\n"
     ]
    }
   ],
   "source": [
    "my_tuple = (1, 2, 3, 4, 2, 5, 2)\n",
    "element_to_count = 2\n",
    "\n",
    "element_count = my_tuple.count(element_to_count)\n",
    "\n",
    "print(f\"The element {element_to_count} appears {element_count} times in the tuple.\")\n"
   ]
  },
  {
   "cell_type": "code",
   "execution_count": null,
   "id": "157e27e0-5810-4908-bdff-c1dce9133a6b",
   "metadata": {},
   "outputs": [],
   "source": [
    "##5.Find the index of the first occurrence of an element in a tuple."
   ]
  },
  {
   "cell_type": "code",
   "execution_count": 62,
   "id": "c2b7434a-c2b7-4c56-b6df-3ee65eba9e3b",
   "metadata": {},
   "outputs": [
    {
     "name": "stdout",
     "output_type": "stream",
     "text": [
      "The first occurrence of 2 is at index 1.\n"
     ]
    }
   ],
   "source": [
    "my_tuple = (1, 2, 3, 4, 2, 5, 2)\n",
    "element_to_find = 2\n",
    "\n",
    "element_index = my_tuple.index(element_to_find)\n",
    "\n",
    "print(f\"The first occurrence of {element_to_find} is at index {element_index}.\")\n"
   ]
  },
  {
   "cell_type": "code",
   "execution_count": null,
   "id": "13467419-66e9-438b-a13d-9267bdc61344",
   "metadata": {},
   "outputs": [],
   "source": [
    "##6.Check if an element exists in a tuple."
   ]
  },
  {
   "cell_type": "code",
   "execution_count": 63,
   "id": "0ffdccae-e541-4e57-b9f7-5f1433f1551a",
   "metadata": {},
   "outputs": [
    {
     "name": "stdout",
     "output_type": "stream",
     "text": [
      "3 exists in the tuple.\n"
     ]
    }
   ],
   "source": [
    "my_tuple = (1, 2, 3, 4, 5)\n",
    "element_to_check = 3\n",
    "\n",
    "if element_to_check in my_tuple:\n",
    "    print(f\"{element_to_check} exists in the tuple.\")\n",
    "else:\n",
    "    print(f\"{element_to_check} does not exist in the tuple.\")\n"
   ]
  },
  {
   "cell_type": "code",
   "execution_count": null,
   "id": "fc7a85d0-0f4b-45aa-86e0-f445ab81183f",
   "metadata": {},
   "outputs": [],
   "source": [
    "##7.Convert a tuple to a list."
   ]
  },
  {
   "cell_type": "code",
   "execution_count": 64,
   "id": "bbd3b057-29ee-40bd-adcc-a66fe3339dc6",
   "metadata": {},
   "outputs": [
    {
     "name": "stdout",
     "output_type": "stream",
     "text": [
      "[1, 2, 3, 4, 5]\n"
     ]
    }
   ],
   "source": [
    "my_tuple = (1, 2, 3, 4, 5)\n",
    "my_list = list(my_tuple)\n",
    "\n",
    "print(my_list)\n"
   ]
  },
  {
   "cell_type": "code",
   "execution_count": null,
   "id": "96f25ff7-7eee-4424-a22f-25170206c317",
   "metadata": {},
   "outputs": [],
   "source": [
    "##8.Convert a list to a tuple."
   ]
  },
  {
   "cell_type": "code",
   "execution_count": 66,
   "id": "4780ee3b-bc2d-4c30-a9a2-53d558eeed81",
   "metadata": {},
   "outputs": [
    {
     "name": "stdout",
     "output_type": "stream",
     "text": [
      "(1, 2, 3, 4, 5)\n"
     ]
    }
   ],
   "source": [
    "my_list = [1, 2, 3, 4, 5]\n",
    "my_tuple = tuple(my_list)\n",
    "\n",
    "print(my_tuple)\n"
   ]
  },
  {
   "cell_type": "code",
   "execution_count": null,
   "id": "7aab98dd-78ba-4156-8227-ab61b19fccb0",
   "metadata": {},
   "outputs": [],
   "source": [
    "##9.Unpack the elements of a tuple into variables."
   ]
  },
  {
   "cell_type": "code",
   "execution_count": 67,
   "id": "e9111215-dbe0-4679-8179-4255be317c24",
   "metadata": {},
   "outputs": [
    {
     "name": "stdout",
     "output_type": "stream",
     "text": [
      "1\n",
      "2\n",
      "3\n",
      "4\n",
      "5\n"
     ]
    }
   ],
   "source": [
    "my_tuple = (1, 2, 3, 4, 5)\n",
    "var1, var2, var3, var4, var5 = my_tuple\n",
    "\n",
    "print(var1)\n",
    "print(var2)\n",
    "print(var3)\n",
    "print(var4)\n",
    "print(var5)\n"
   ]
  },
  {
   "cell_type": "code",
   "execution_count": 68,
   "id": "ce89871e-79f1-4ff3-b0ad-7e4d0988df0f",
   "metadata": {},
   "outputs": [],
   "source": [
    "##10.Create a tuple of even numbers from 1 to 10."
   ]
  },
  {
   "cell_type": "code",
   "execution_count": 71,
   "id": "462d15bd-5a76-48da-9420-a4ef2423e9cf",
   "metadata": {},
   "outputs": [
    {
     "name": "stdout",
     "output_type": "stream",
     "text": [
      "(2, 4, 6, 8, 10)\n"
     ]
    }
   ],
   "source": [
    "even_numbers_tuple = (2, 4, 6, 8, 10)\n",
    "print(even_numbers_tuple)"
   ]
  },
  {
   "cell_type": "code",
   "execution_count": null,
   "id": "af0841d2-cbb4-494a-812b-77676a4c4444",
   "metadata": {},
   "outputs": [],
   "source": [
    "##11.Create a tuple of odd numbers from 1 to 10."
   ]
  },
  {
   "cell_type": "code",
   "execution_count": 72,
   "id": "50c18f0a-9545-4f1f-8041-df44747ac6e7",
   "metadata": {},
   "outputs": [
    {
     "name": "stdout",
     "output_type": "stream",
     "text": [
      "(1, 3, 5, 7, 9)\n"
     ]
    }
   ],
   "source": [
    "odd_numbers_tuple = (1, 3, 5, 7, 9)\n",
    "print(odd_numbers_tuple)"
   ]
  },
  {
   "cell_type": "code",
   "execution_count": 73,
   "id": "75e3f364-806e-471b-bff2-f7156543b262",
   "metadata": {},
   "outputs": [],
   "source": [
    "##12.Concatenate two tuples."
   ]
  },
  {
   "cell_type": "code",
   "execution_count": 74,
   "id": "e8c815e8-850b-4874-a761-f70395e30cb5",
   "metadata": {},
   "outputs": [
    {
     "name": "stdout",
     "output_type": "stream",
     "text": [
      "(1, 2, 3, 4, 5, 6)\n"
     ]
    }
   ],
   "source": [
    "tuple1 = (1, 2, 3)\n",
    "tuple2 = (4, 5, 6)\n",
    "\n",
    "concatenated_tuple = tuple1 + tuple2\n",
    "\n",
    "print(concatenated_tuple)\n"
   ]
  },
  {
   "cell_type": "code",
   "execution_count": 75,
   "id": "ceee101b-d698-47f0-aeee-2441a8c0c7c7",
   "metadata": {},
   "outputs": [],
   "source": [
    "##13.Repeat a tuple three times."
   ]
  },
  {
   "cell_type": "code",
   "execution_count": 76,
   "id": "7da1cee4-c181-49db-8d3d-b42cb79e418e",
   "metadata": {},
   "outputs": [
    {
     "name": "stdout",
     "output_type": "stream",
     "text": [
      "(1, 2, 3, 1, 2, 3, 1, 2, 3)\n"
     ]
    }
   ],
   "source": [
    "original_tuple = (1, 2, 3)\n",
    "repeated_tuple = original_tuple * 3\n",
    "\n",
    "print(repeated_tuple)\n"
   ]
  },
  {
   "cell_type": "code",
   "execution_count": null,
   "id": "2108f023-e183-492e-9de6-4f0ea93ec3c2",
   "metadata": {},
   "outputs": [],
   "source": [
    "##14.Check if a tuple is empty."
   ]
  },
  {
   "cell_type": "code",
   "execution_count": 1,
   "id": "9843ed6c-4cbc-4ac7-88f6-c09cbf9a7540",
   "metadata": {},
   "outputs": [
    {
     "name": "stdout",
     "output_type": "stream",
     "text": [
      "The tuple is empty.\n"
     ]
    }
   ],
   "source": [
    "my_tuple = ()  # An empty tuple\n",
    "\n",
    "if not my_tuple:\n",
    "    print(\"The tuple is empty.\")\n",
    "else:\n",
    "    print(\"The tuple is not empty.\")\n"
   ]
  },
  {
   "cell_type": "code",
   "execution_count": 2,
   "id": "4a9d7725-4520-4947-8350-c3f98e354827",
   "metadata": {},
   "outputs": [],
   "source": [
    "##15.Create a nested tuple."
   ]
  },
  {
   "cell_type": "code",
   "execution_count": 3,
   "id": "6f1842c8-b722-44b8-a03e-e5d03931b04c",
   "metadata": {},
   "outputs": [
    {
     "name": "stdout",
     "output_type": "stream",
     "text": [
      "((1, 2, 3), ('a', 'b', 'c'), (True, False))\n"
     ]
    }
   ],
   "source": [
    "nested_tuple = ((1, 2, 3), ('a', 'b', 'c'), (True, False))\n",
    "\n",
    "print(nested_tuple)\n"
   ]
  },
  {
   "cell_type": "code",
   "execution_count": 4,
   "id": "8f6cbfae-52f5-4875-9b11-129a1c5abb8e",
   "metadata": {},
   "outputs": [],
   "source": [
    "##16.Access the first element of a nested tuple."
   ]
  },
  {
   "cell_type": "code",
   "execution_count": 5,
   "id": "8fc35151-8c61-47e2-87a7-7eda8f705f71",
   "metadata": {},
   "outputs": [
    {
     "name": "stdout",
     "output_type": "stream",
     "text": [
      "1\n"
     ]
    }
   ],
   "source": [
    "nested_tuple = ((1, 2, 3), ('a', 'b', 'c'), (True, False))\n",
    "\n",
    "# Access the first element of the nested tuple in one line\n",
    "first_element_nested = nested_tuple[0][0]\n",
    "\n",
    "print(first_element_nested)\n"
   ]
  },
  {
   "cell_type": "code",
   "execution_count": 6,
   "id": "92515141-2f1b-442f-abcf-0acdf0652ce3",
   "metadata": {},
   "outputs": [],
   "source": [
    "##17.Create a tuple with a single element."
   ]
  },
  {
   "cell_type": "code",
   "execution_count": 8,
   "id": "ea3adb52-912c-4163-a2b2-97e7d8ac28e8",
   "metadata": {},
   "outputs": [
    {
     "name": "stdout",
     "output_type": "stream",
     "text": [
      "(42,)\n"
     ]
    }
   ],
   "source": [
    "single_element_tuple = (42,)\n",
    "print(single_element_tuple)"
   ]
  },
  {
   "cell_type": "code",
   "execution_count": 9,
   "id": "5883290c-24ef-4149-8798-7cf9a7904d90",
   "metadata": {},
   "outputs": [],
   "source": [
    "##18.Compare two tuples."
   ]
  },
  {
   "cell_type": "code",
   "execution_count": 11,
   "id": "f2c35e17-3137-479e-8fa0-a52cd7e8fee6",
   "metadata": {},
   "outputs": [
    {
     "name": "stdout",
     "output_type": "stream",
     "text": [
      "tuple1 is less than tuple3.\n"
     ]
    }
   ],
   "source": [
    "tuple3 = (4, 5, 6)\n",
    "tuple1 = (1, 2, 3)\n",
    "\n",
    "# Check if tuple1 is less than tuple3\n",
    "if tuple1 < tuple3:\n",
    "    print(\"tuple1 is less than tuple3.\")\n",
    "else:\n",
    "    print(\"tuple1 is not less than tuple3.\")\n"
   ]
  },
  {
   "cell_type": "code",
   "execution_count": 12,
   "id": "90b33da2-8a23-403b-9d70-8abfc6e4de2c",
   "metadata": {},
   "outputs": [],
   "source": [
    "##19.Delete a tuple."
   ]
  },
  {
   "cell_type": "code",
   "execution_count": 19,
   "id": "461be298-eb38-4282-97b2-f0926bd3a185",
   "metadata": {},
   "outputs": [
    {
     "name": "stdout",
     "output_type": "stream",
     "text": [
      "Original Tuple: (1, 2, 3, 4, 5)\n"
     ]
    },
    {
     "ename": "NameError",
     "evalue": "name 'my_tuple' is not defined",
     "output_type": "error",
     "traceback": [
      "\u001b[0;31m---------------------------------------------------------------------------\u001b[0m",
      "\u001b[0;31mNameError\u001b[0m                                 Traceback (most recent call last)",
      "Cell \u001b[0;32mIn[19], line 11\u001b[0m\n\u001b[1;32m      7\u001b[0m \u001b[38;5;28;01mdel\u001b[39;00m my_tuple\n\u001b[1;32m      9\u001b[0m \u001b[38;5;66;03m# Try to access the tuple after deletion (will raise an error)\u001b[39;00m\n\u001b[1;32m     10\u001b[0m \u001b[38;5;66;03m# print(my_tuple)  # this line will result in an error\u001b[39;00m\n\u001b[0;32m---> 11\u001b[0m \u001b[38;5;28mprint\u001b[39m(\u001b[43mmy_tuple\u001b[49m)\n",
      "\u001b[0;31mNameError\u001b[0m: name 'my_tuple' is not defined"
     ]
    }
   ],
   "source": [
    "my_tuple = (1, 2, 3, 4, 5)\n",
    "\n",
    "# Output the original tuple\n",
    "print(\"Original Tuple:\", my_tuple)\n",
    "\n",
    "# Delete the entire tuple\n",
    "del my_tuple\n",
    "\n",
    "# Try to access the tuple after deletion (will raise an error)\n",
    "# print(my_tuple)  # this line will result in an error\n",
    "print(my_tuple)"
   ]
  },
  {
   "cell_type": "code",
   "execution_count": null,
   "id": "79069a6b-92c3-427d-be54-5237f5917430",
   "metadata": {},
   "outputs": [],
   "source": [
    "##20.Slice a tuple."
   ]
  },
  {
   "cell_type": "code",
   "execution_count": 25,
   "id": "47b45868-39dc-411c-8833-35d1e9f3c09b",
   "metadata": {},
   "outputs": [
    {
     "name": "stdout",
     "output_type": "stream",
     "text": [
      "Sliced Tuple (from the beginning): (2021, 2022, 2023)\n",
      "Sliced Tuple (to the end): ()\n"
     ]
    }
   ],
   "source": [
    "my_tuple = (2021,2022,2023)\n",
    "# Slice from the beginning to index 3 (exclusive)\n",
    "sliced_tuple_start = my_tuple[:3]\n",
    "\n",
    "# Slice from index 5 to the end\n",
    "sliced_tuple_end = my_tuple[5:]\n",
    "\n",
    "print(\"Sliced Tuple (from the beginning):\", sliced_tuple_start)\n",
    "print(\"Sliced Tuple (to the end):\", sliced_tuple_end)\n"
   ]
  },
  {
   "cell_type": "code",
   "execution_count": null,
   "id": "fcaee6cb-39f3-498f-8c6c-37012654f85c",
   "metadata": {},
   "outputs": [],
   "source": [
    "##21.Find the maximum value in a tuple."
   ]
  },
  {
   "cell_type": "code",
   "execution_count": 26,
   "id": "860dcb79-632c-4525-8f24-f2893cbae792",
   "metadata": {},
   "outputs": [
    {
     "name": "stdout",
     "output_type": "stream",
     "text": [
      "Original Tuple of Tuples: ((1, 5), (3, 8), (2, 12))\n",
      "Maximum Value based on the second element: (2, 12)\n"
     ]
    }
   ],
   "source": [
    "tuple_of_tuples = ((1, 5), (3, 8), (2, 12))\n",
    "\n",
    "# Find the maximum value based on the second element of each inner tuple\n",
    "max_value_based_on_second_element = max(tuple_of_tuples, key=lambda x: x[1])\n",
    "\n",
    "print(\"Original Tuple of Tuples:\", tuple_of_tuples)\n",
    "print(\"Maximum Value based on the second element:\", max_value_based_on_second_element)\n"
   ]
  },
  {
   "cell_type": "code",
   "execution_count": 27,
   "id": "b07332d3-d511-4988-9e7e-95ba30f3095e",
   "metadata": {},
   "outputs": [],
   "source": [
    "##22.Find the maximum value in a tuple."
   ]
  },
  {
   "cell_type": "code",
   "execution_count": 28,
   "id": "f2e87051-98db-4afe-9374-54e7e6503f3f",
   "metadata": {},
   "outputs": [
    {
     "name": "stdout",
     "output_type": "stream",
     "text": [
      "Original Tuple of Tuples: ((1, 5), (3, 8), (2, 12))\n",
      "Maximum Value based on the second element: (2, 12)\n"
     ]
    }
   ],
   "source": [
    "tuple_of_tuples = ((1, 5), (3, 8), (2, 12))\n",
    "\n",
    "# Find the maximum value based on the second element of each inner tuple\n",
    "max_value_based_on_second_element = max(tuple_of_tuples, key=lambda x: x[1])\n",
    "\n",
    "print(\"Original Tuple of Tuples:\", tuple_of_tuples)\n",
    "print(\"Maximum Value based on the second element:\", max_value_based_on_second_element)\n"
   ]
  },
  {
   "cell_type": "code",
   "execution_count": null,
   "id": "4e60e49f-b98c-40a2-8adf-fb5aac6762ef",
   "metadata": {},
   "outputs": [],
   "source": [
    "##23.Find the minimum value in a tuple."
   ]
  },
  {
   "cell_type": "code",
   "execution_count": 30,
   "id": "42ab72cd-d3f5-45bc-a9e1-8d970a350a88",
   "metadata": {},
   "outputs": [
    {
     "name": "stdout",
     "output_type": "stream",
     "text": [
      "Original Tuple of Tuples: ((1, 5), (3, 8), (2, 12))\n",
      "Minimum Value based on the second element: (1, 5)\n"
     ]
    }
   ],
   "source": [
    "tuple_of_tuples = ((1, 5), (3, 8), (2, 12))\n",
    "\n",
    "# Find the minimum value based on the second element of each inner tuple\n",
    "min_value_based_on_second_element = min(tuple_of_tuples, key=lambda x: x[1])\n",
    "\n",
    "print(\"Original Tuple of Tuples:\", tuple_of_tuples)\n",
    "print(\"Minimum Value based on the second element:\", min_value_based_on_second_element)\n"
   ]
  },
  {
   "cell_type": "code",
   "execution_count": null,
   "id": "92c37058-804f-49de-b2b6-6a0269526b65",
   "metadata": {},
   "outputs": [],
   "source": [
    "##24.Convert a tuple of characters to a string."
   ]
  },
  {
   "cell_type": "code",
   "execution_count": 31,
   "id": "2e46a568-03fa-49a4-b288-9785fa2c960e",
   "metadata": {},
   "outputs": [
    {
     "name": "stdout",
     "output_type": "stream",
     "text": [
      "Tuple of Mixed Types: ('a', 1, 'b', 2, 'c', 3)\n",
      "Resulting String: a1b2c3\n"
     ]
    }
   ],
   "source": [
    "tuple_of_mixed_types = ('a', 1, 'b', 2, 'c', 3)\n",
    "\n",
    "# Convert the tuple of mixed types to a string\n",
    "result_string_mixed = ''.join(str(item) for item in tuple_of_mixed_types)\n",
    "\n",
    "print(\"Tuple of Mixed Types:\", tuple_of_mixed_types)\n",
    "print(\"Resulting String:\", result_string_mixed)\n"
   ]
  },
  {
   "cell_type": "code",
   "execution_count": null,
   "id": "2eb7dcbe-c3ec-4296-aea7-c6104ba4f266",
   "metadata": {},
   "outputs": [],
   "source": [
    "##25.Create a tuple from multiple data types."
   ]
  },
  {
   "cell_type": "code",
   "execution_count": 33,
   "id": "a69a5b2a-e1fd-4564-90a3-168260c9a255",
   "metadata": {},
   "outputs": [
    {
     "name": "stdout",
     "output_type": "stream",
     "text": [
      "Mixed Data Type Tuple: (1, 'hello', 3.14, True, [5, 6, 7])\n",
      "First element: 1\n",
      "Second element: hello\n",
      "Last element: [5, 6, 7]\n"
     ]
    }
   ],
   "source": [
    "mixed_tuple = (1, 'hello', 3.14, True, [5, 6, 7])\n",
    "\n",
    "print(\"Mixed Data Type Tuple:\", mixed_tuple)\n",
    "print(\"First element:\", mixed_tuple[0])      # Output: 1\n",
    "print(\"Second element:\", mixed_tuple[1])     # Output: 'hello'\n",
    "print(\"Last element:\", mixed_tuple[-1])      # Output: [5, 6, 7]\n"
   ]
  },
  {
   "cell_type": "code",
   "execution_count": 34,
   "id": "ca203b5a-002c-4a3b-8136-96c91c091361",
   "metadata": {},
   "outputs": [],
   "source": [
    "##26.Check if two tuples are identical."
   ]
  },
  {
   "cell_type": "code",
   "execution_count": 36,
   "id": "95837e61-c0b5-4b49-9723-89243f15bb0e",
   "metadata": {},
   "outputs": [
    {
     "name": "stdout",
     "output_type": "stream",
     "text": [
      "The tuples are identical.\n"
     ]
    }
   ],
   "source": [
    "tuple1 = (1, 2, 3, 4)\n",
    "tuple2 = (1, 2, 3, 4)\n",
    "\n",
    "if tuple1 == tuple2:\n",
    "    print(\"The tuples are identical.\")\n",
    "else:\n",
    "    print(\"The tuples are not identical.\")\n"
   ]
  },
  {
   "cell_type": "code",
   "execution_count": 37,
   "id": "80ed5247-94f1-41de-a863-a781dee785f4",
   "metadata": {},
   "outputs": [],
   "source": [
    "##27.Sort the elements of a tuple."
   ]
  },
  {
   "cell_type": "code",
   "execution_count": 38,
   "id": "bb09cd90-e92c-46f3-be56-28430552c00c",
   "metadata": {},
   "outputs": [
    {
     "name": "stdout",
     "output_type": "stream",
     "text": [
      "Original Tuple: (3, 1, 4, 1, 5, 9, 2, 6, 5, 3, 5)\n",
      "Sorted Tuple: (1, 1, 2, 3, 3, 4, 5, 5, 5, 6, 9)\n"
     ]
    }
   ],
   "source": [
    "original_tuple = (3, 1, 4, 1, 5, 9, 2, 6, 5, 3, 5)\n",
    "\n",
    "# Create a new tuple with sorted elements\n",
    "sorted_tuple = tuple(sorted(original_tuple))\n",
    "\n",
    "print(\"Original Tuple:\", original_tuple)\n",
    "print(\"Sorted Tuple:\", sorted_tuple)\n"
   ]
  },
  {
   "cell_type": "code",
   "execution_count": null,
   "id": "a3a4cf5e-4eaf-4472-bba5-909144944ede",
   "metadata": {},
   "outputs": [],
   "source": [
    "##28.Convert a tuple of integers to a tuple of strings."
   ]
  },
  {
   "cell_type": "code",
   "execution_count": 39,
   "id": "f312d007-4e36-434c-adb7-3dea97ddbe72",
   "metadata": {},
   "outputs": [
    {
     "name": "stdout",
     "output_type": "stream",
     "text": [
      "Original Tuple of Integers: (1, 2, 3, 4, 5)\n",
      "Converted Tuple of Strings: ('1', '2', '3', '4', '5')\n"
     ]
    }
   ],
   "source": [
    "tuple_of_integers = (1, 2, 3, 4, 5)\n",
    "\n",
    "# Convert the tuple of integers to a tuple of strings\n",
    "tuple_of_strings = tuple(map(str, tuple_of_integers))\n",
    "\n",
    "print(\"Original Tuple of Integers:\", tuple_of_integers)\n",
    "print(\"Converted Tuple of Strings:\", tuple_of_strings)\n"
   ]
  },
  {
   "cell_type": "code",
   "execution_count": 40,
   "id": "b1ed0a0d-71b6-4258-a4af-95c7b1adee2c",
   "metadata": {},
   "outputs": [],
   "source": [
    "##29.Convert a tuple of strings to a tuple of integers."
   ]
  },
  {
   "cell_type": "code",
   "execution_count": 41,
   "id": "e82ac731-51c8-4cc1-afd4-441ce103655d",
   "metadata": {},
   "outputs": [
    {
     "name": "stdout",
     "output_type": "stream",
     "text": [
      "Original Tuple of Strings: ('1', '2', '3', '4', '5')\n",
      "Converted Tuple of Integers: (1, 2, 3, 4, 5)\n"
     ]
    }
   ],
   "source": [
    "tuple_of_strings = ('1', '2', '3', '4', '5')\n",
    "\n",
    "# Convert the tuple of strings to a tuple of integers\n",
    "tuple_of_integers = tuple(map(int, tuple_of_strings))\n",
    "\n",
    "print(\"Original Tuple of Strings:\", tuple_of_strings)\n",
    "print(\"Converted Tuple of Integers:\", tuple_of_integers)\n"
   ]
  },
  {
   "cell_type": "code",
   "execution_count": 42,
   "id": "ff8408e7-b153-4e0a-830d-e67dfcce24e9",
   "metadata": {},
   "outputs": [],
   "source": [
    "##30.Merge two tuples."
   ]
  },
  {
   "cell_type": "code",
   "execution_count": 44,
   "id": "6cac27c6-3fb6-4335-a161-c845f56ab439",
   "metadata": {},
   "outputs": [
    {
     "name": "stdout",
     "output_type": "stream",
     "text": [
      "Tuple 1: (1, 2, 3)\n",
      "Tuple 2: ('a', 'b', 'c')\n",
      "Merged Tuple: (1, 2, 3, 'a', 'b', 'c')\n"
     ]
    }
   ],
   "source": [
    "tuple1 = (1, 2, 3)\n",
    "tuple2 = ('a', 'b', 'c')\n",
    "\n",
    "# Merge the two tuples\n",
    "merged_tuple = tuple1 + tuple2\n",
    "\n",
    "print(\"Tuple 1:\", tuple1)\n",
    "print(\"Tuple 2:\", tuple2)\n",
    "print(\"Merged Tuple:\", merged_tuple)\n"
   ]
  },
  {
   "cell_type": "code",
   "execution_count": 45,
   "id": "e82cc0ca-341f-482c-9b28-583e2fdb8ae3",
   "metadata": {},
   "outputs": [],
   "source": [
    "##31.Flatten a nested tuple."
   ]
  },
  {
   "cell_type": "code",
   "execution_count": 47,
   "id": "b486d5d1-a0c6-42e6-99f3-ac914fe75bab",
   "metadata": {},
   "outputs": [
    {
     "name": "stdout",
     "output_type": "stream",
     "text": [
      "Nested Tuple: ((1, 2, 3), ('a', 'b', 'c'), (True, False))\n",
      "Flattened Tuple: (1, 2, 3, 'a', 'b', 'c', True, False)\n"
     ]
    }
   ],
   "source": [
    "def flatten_nested_tuple(nested_tuple):\n",
    "    flattened_tuple = ()\n",
    "    for item in nested_tuple:\n",
    "        if isinstance(item, tuple):\n",
    "            flattened_tuple += flatten_nested_tuple(item)\n",
    "        else:\n",
    "            flattened_tuple += (item,)\n",
    "    return flattened_tuple\n",
    "\n",
    "# Example of a nested tuple\n",
    "nested_tuple = ((1, 2, 3), ('a', 'b', 'c'), (True, False))\n",
    "\n",
    "# Flatten the nested tuple\n",
    "flattened_tuple = flatten_nested_tuple(nested_tuple)\n",
    "\n",
    "print(\"Nested Tuple:\", nested_tuple)\n",
    "print(\"Flattened Tuple:\", flattened_tuple)\n"
   ]
  },
  {
   "cell_type": "code",
   "execution_count": 48,
   "id": "c91dc8ae-f173-4991-88ea-1e7d0c54b2e0",
   "metadata": {},
   "outputs": [],
   "source": [
    "##32.Create a tuple of the first 5 prime numbers."
   ]
  },
  {
   "cell_type": "code",
   "execution_count": 49,
   "id": "1122700e-ed35-4225-8f08-98a0698e7a36",
   "metadata": {},
   "outputs": [
    {
     "name": "stdout",
     "output_type": "stream",
     "text": [
      "First Five Prime Numbers: (2, 3, 5, 7, 11)\n"
     ]
    }
   ],
   "source": [
    "first_five_primes = (2, 3, 5, 7, 11)\n",
    "\n",
    "print(\"First Five Prime Numbers:\", first_five_primes)\n"
   ]
  },
  {
   "cell_type": "code",
   "execution_count": 50,
   "id": "304fc3e4-058d-4901-aa5d-840a0be9cb1e",
   "metadata": {},
   "outputs": [],
   "source": [
    "##33.Check if a tuple is a palindrome."
   ]
  },
  {
   "cell_type": "code",
   "execution_count": 51,
   "id": "56d639fc-f22c-4fd8-9b0f-675ff98557cd",
   "metadata": {},
   "outputs": [
    {
     "name": "stdout",
     "output_type": "stream",
     "text": [
      "Is the first tuple a palindrome? True\n",
      "Is the second tuple a palindrome? False\n"
     ]
    }
   ],
   "source": [
    "def is_palindrome(my_tuple):\n",
    "    return my_tuple == my_tuple[::-1]\n",
    "\n",
    "# Example of a tuple that is a palindrome\n",
    "palindrome_tuple = (1, 2, 3, 2, 1)\n",
    "\n",
    "# Example of a tuple that is not a palindrome\n",
    "non_palindrome_tuple = (1, 2, 3, 4, 5)\n",
    "\n",
    "print(\"Is the first tuple a palindrome?\", is_palindrome(palindrome_tuple))\n",
    "print(\"Is the second tuple a palindrome?\", is_palindrome(non_palindrome_tuple))\n"
   ]
  },
  {
   "cell_type": "code",
   "execution_count": null,
   "id": "73e1a7c7-3b7f-49b0-ab54-b72a3a1c78e0",
   "metadata": {},
   "outputs": [],
   "source": [
    "##34.Create a tuple of squares of numbers from 1 to 5."
   ]
  },
  {
   "cell_type": "code",
   "execution_count": 52,
   "id": "d46a41f3-084e-4d50-bcf4-3dc8be18e7ec",
   "metadata": {},
   "outputs": [
    {
     "name": "stdout",
     "output_type": "stream",
     "text": [
      "Tuple of Squares: (1, 4, 9, 16, 25)\n"
     ]
    }
   ],
   "source": [
    "squares_tuple = tuple(x**2 for x in range(1, 6))\n",
    "\n",
    "print(\"Tuple of Squares:\", squares_tuple)\n"
   ]
  },
  {
   "cell_type": "code",
   "execution_count": null,
   "id": "835ed7c6-3340-4fc9-9182-42907813f96e",
   "metadata": {},
   "outputs": [],
   "source": [
    "##35.Filter out all even numbers from a tuple."
   ]
  },
  {
   "cell_type": "code",
   "execution_count": 53,
   "id": "2e136986-ec27-4d7b-add3-aff3cbbaf7d1",
   "metadata": {},
   "outputs": [
    {
     "name": "stdout",
     "output_type": "stream",
     "text": [
      "Original Tuple: (1, 2, 3, 4, 5, 6, 7, 8, 9, 10)\n",
      "Filtered Tuple (Odd numbers only): (1, 3, 5, 7, 9)\n"
     ]
    }
   ],
   "source": [
    "original_tuple = (1, 2, 3, 4, 5, 6, 7, 8, 9, 10)\n",
    "\n",
    "# Filter out even numbers\n",
    "filtered_tuple = tuple(x for x in original_tuple if x % 2 != 0)\n",
    "\n",
    "print(\"Original Tuple:\", original_tuple)\n",
    "print(\"Filtered Tuple (Odd numbers only):\", filtered_tuple)\n"
   ]
  },
  {
   "cell_type": "code",
   "execution_count": null,
   "id": "092aeff0-006c-4b8e-9190-cf0ca5a73aff",
   "metadata": {},
   "outputs": [],
   "source": [
    "##36.Multiply all elements in a tuple by 2."
   ]
  },
  {
   "cell_type": "code",
   "execution_count": 54,
   "id": "66476ea2-0008-4c9f-a99d-e289018e5993",
   "metadata": {},
   "outputs": [
    {
     "name": "stdout",
     "output_type": "stream",
     "text": [
      "Original Tuple: (1, 2, 3, 4, 5)\n",
      "Multiplied Tuple: (2, 4, 6, 8, 10)\n"
     ]
    }
   ],
   "source": [
    "original_tuple = (1, 2, 3, 4, 5)\n",
    "\n",
    "# Multiply all elements by 2\n",
    "multiplied_tuple = tuple(x * 2 for x in original_tuple)\n",
    "\n",
    "print(\"Original Tuple:\", original_tuple)\n",
    "print(\"Multiplied Tuple:\", multiplied_tuple)\n"
   ]
  },
  {
   "cell_type": "code",
   "execution_count": 55,
   "id": "89a73f46-c9b1-40fa-98d5-5dcea02eb8f8",
   "metadata": {},
   "outputs": [],
   "source": [
    "##37.Create a tuple of random numbers."
   ]
  },
  {
   "cell_type": "code",
   "execution_count": 56,
   "id": "42b1a1f8-dd7c-41b4-8b53-7c2c21201122",
   "metadata": {},
   "outputs": [
    {
     "name": "stdout",
     "output_type": "stream",
     "text": [
      "Random Tuple: (50, 2, 7, 76, 32)\n"
     ]
    }
   ],
   "source": [
    "import random\n",
    "\n",
    "# Generate a tuple of 5 random integers between 1 and 100\n",
    "random_tuple = tuple(random.randint(1, 100) for _ in range(5))\n",
    "\n",
    "print(\"Random Tuple:\", random_tuple)\n"
   ]
  },
  {
   "cell_type": "code",
   "execution_count": 57,
   "id": "cf49e901-da71-49b9-b3ec-4287a68e2937",
   "metadata": {},
   "outputs": [],
   "source": [
    "##38.Check if a tuple is sorted."
   ]
  },
  {
   "cell_type": "code",
   "execution_count": 58,
   "id": "3c08354b-e268-4293-93d7-222d83144af7",
   "metadata": {},
   "outputs": [
    {
     "name": "stdout",
     "output_type": "stream",
     "text": [
      "Is the first tuple sorted? True\n",
      "Is the second tuple sorted? False\n"
     ]
    }
   ],
   "source": [
    "def is_sorted(my_tuple):\n",
    "    return my_tuple == tuple(sorted(my_tuple))\n",
    "\n",
    "# Example of a sorted tuple\n",
    "sorted_tuple = (1, 2, 3, 4, 5)\n",
    "\n",
    "# Example of an unsorted tuple\n",
    "unsorted_tuple = (5, 3, 1, 4, 2)\n",
    "\n",
    "print(\"Is the first tuple sorted?\", is_sorted(sorted_tuple))\n",
    "print(\"Is the second tuple sorted?\", is_sorted(unsorted_tuple))\n"
   ]
  },
  {
   "cell_type": "code",
   "execution_count": 59,
   "id": "b7d0fb81-72bb-494b-82c3-0b1d085563b8",
   "metadata": {},
   "outputs": [],
   "source": [
    "##39.Rotate a tuple to the left by `n` positions."
   ]
  },
  {
   "cell_type": "code",
   "execution_count": 60,
   "id": "e83d93b0-d5a5-4ae6-b220-d1fef6f348c2",
   "metadata": {},
   "outputs": [
    {
     "name": "stdout",
     "output_type": "stream",
     "text": [
      "Original Tuple: (1, 2, 3, 4, 5)\n",
      "Rotated Tuple: (3, 4, 5, 1, 2)\n"
     ]
    }
   ],
   "source": [
    "def rotate_left(my_tuple, n):\n",
    "    length = len(my_tuple)\n",
    "    n = n % length  # Ensure n is within the length of the tuple\n",
    "    rotated_tuple = my_tuple[n:] + my_tuple[:n]\n",
    "    return rotated_tuple\n",
    "\n",
    "# Example tuple\n",
    "original_tuple = (1, 2, 3, 4, 5)\n",
    "\n",
    "# Rotate the tuple to the left by 2 positions\n",
    "rotated_tuple = rotate_left(original_tuple, 2)\n",
    "\n",
    "print(\"Original Tuple:\", original_tuple)\n",
    "print(\"Rotated Tuple:\", rotated_tuple)\n"
   ]
  },
  {
   "cell_type": "code",
   "execution_count": null,
   "id": "2ba09301-29b3-4e44-8aa0-23f8a8a8b53d",
   "metadata": {},
   "outputs": [],
   "source": [
    "##40.Rotate a tuple to the right by `n` positions."
   ]
  },
  {
   "cell_type": "code",
   "execution_count": 62,
   "id": "1f8124ad-ca57-40bb-8cd8-44be039f4c37",
   "metadata": {},
   "outputs": [
    {
     "name": "stdout",
     "output_type": "stream",
     "text": [
      "Original Tuple: (1, 2, 3, 4, 5)\n",
      "Rotated Tuple: (4, 5, 1, 2, 3)\n"
     ]
    }
   ],
   "source": [
    "def rotate_right(my_tuple, n):\n",
    "    length = len(my_tuple)\n",
    "    n = n % length  # Ensure n is within the length of the tuple\n",
    "    rotated_tuple = my_tuple[-n:] + my_tuple[:-n]\n",
    "    return rotated_tuple\n",
    "\n",
    "# Example tuple\n",
    "original_tuple = (1, 2, 3, 4, 5)\n",
    "\n",
    "# Rotate the tuple to the right by 2 positions\n",
    "rotated_tuple = rotate_right(original_tuple, 2)\n",
    "\n",
    "print(\"Original Tuple:\", original_tuple)\n",
    "print(\"Rotated Tuple:\", rotated_tuple)\n"
   ]
  },
  {
   "cell_type": "code",
   "execution_count": 63,
   "id": "bde3e092-4a09-43d6-974f-6e32f921ea90",
   "metadata": {},
   "outputs": [],
   "source": [
    "##41.Create a tuple of the first 5 Fibonacci numbers."
   ]
  },
  {
   "cell_type": "code",
   "execution_count": 64,
   "id": "6fe1d056-b593-478b-a598-fcb372975e7e",
   "metadata": {},
   "outputs": [
    {
     "name": "stdout",
     "output_type": "stream",
     "text": [
      "First 5 Fibonacci Numbers: (0, 1, 1, 2, 3)\n"
     ]
    }
   ],
   "source": [
    "def generate_fibonacci(n):\n",
    "    fibonacci_numbers = [0, 1]\n",
    "    while len(fibonacci_numbers) < n:\n",
    "        fibonacci_numbers.append(fibonacci_numbers[-1] + fibonacci_numbers[-2])\n",
    "    return tuple(fibonacci_numbers)\n",
    "\n",
    "# Create a tuple of the first 5 Fibonacci numbers\n",
    "first_five_fibonacci = generate_fibonacci(5)\n",
    "\n",
    "print(\"First 5 Fibonacci Numbers:\", first_five_fibonacci)\n"
   ]
  },
  {
   "cell_type": "code",
   "execution_count": 65,
   "id": "602b525a-7620-4f93-83ec-ba029d16d51e",
   "metadata": {},
   "outputs": [],
   "source": [
    "##42.Create a tuple from user input."
   ]
  },
  {
   "cell_type": "code",
   "execution_count": 66,
   "id": "1ef7dff6-dcac-4c89-8fcf-f30541317015",
   "metadata": {},
   "outputs": [
    {
     "name": "stdin",
     "output_type": "stream",
     "text": [
      "Enter the first element:  12\n",
      "Enter the second element:  13\n",
      "Enter the third element:  14\n"
     ]
    },
    {
     "name": "stdout",
     "output_type": "stream",
     "text": [
      "User Input Tuple: ('12', '13', '14')\n"
     ]
    }
   ],
   "source": [
    "# Get user input for each element of the tuple\n",
    "element1 = input(\"Enter the first element: \")\n",
    "element2 = input(\"Enter the second element: \")\n",
    "element3 = input(\"Enter the third element: \")\n",
    "\n",
    "# Create a tuple from user input\n",
    "user_input_tuple = (element1, element2, element3)\n",
    "\n",
    "print(\"User Input Tuple:\", user_input_tuple)\n"
   ]
  },
  {
   "cell_type": "code",
   "execution_count": 67,
   "id": "cbe8519e-4afe-4dfd-90df-63981fc082b4",
   "metadata": {},
   "outputs": [],
   "source": [
    "##43.Swap two elements in a tuple."
   ]
  },
  {
   "cell_type": "code",
   "execution_count": 69,
   "id": "cad8a9e3-1426-4891-ab83-edaef6728eff",
   "metadata": {},
   "outputs": [
    {
     "name": "stdout",
     "output_type": "stream",
     "text": [
      "Original Tuple: (1, 2, 3, 4, 5)\n",
      "Swapped Tuple: (1, 4, 3, 2, 5)\n"
     ]
    }
   ],
   "source": [
    "def swap_elements(my_tuple, index1, index2):\n",
    "    # Convert the tuple to a list\n",
    "    mutable_list = list(my_tuple)\n",
    "    \n",
    "    # Swap the elements in the list\n",
    "    mutable_list[index1], mutable_list[index2] = mutable_list[index2], mutable_list[index1]\n",
    "    \n",
    "    # Convert the list back to a tuple\n",
    "    swapped_tuple = tuple(mutable_list)\n",
    "    \n",
    "    return swapped_tuple\n",
    "\n",
    "# Example tuple\n",
    "original_tuple = (1, 2, 3, 4, 5)\n",
    "\n",
    "# Swap elements at index 1 and 3\n",
    "swapped_tuple = swap_elements(original_tuple, 1, 3)\n",
    "\n",
    "print(\"Original Tuple:\", original_tuple)\n",
    "print(\"Swapped Tuple:\", swapped_tuple)\n"
   ]
  },
  {
   "cell_type": "code",
   "execution_count": 70,
   "id": "b462a75f-776c-43b7-88f6-a3abd4c36c66",
   "metadata": {},
   "outputs": [],
   "source": [
    "##44.Reverse the elements of a tuple."
   ]
  },
  {
   "cell_type": "code",
   "execution_count": 72,
   "id": "2ca830d2-d6bb-4a45-8d64-1f836cdf599a",
   "metadata": {},
   "outputs": [
    {
     "name": "stdout",
     "output_type": "stream",
     "text": [
      "Original Tuple: (1, 2, 3, 4, 5)\n",
      "Reversed Tuple: (5, 4, 3, 2, 1)\n"
     ]
    }
   ],
   "source": [
    "original_tuple = (1, 2, 3, 4, 5)\n",
    "\n",
    "# Reverse the tuple in-place using a list\n",
    "reversed_list = list(original_tuple)\n",
    "reversed_list.reverse()\n",
    "reversed_tuple = tuple(reversed_list)\n",
    "\n",
    "print(\"Original Tuple:\", original_tuple)\n",
    "print(\"Reversed Tuple:\", reversed_tuple)\n"
   ]
  },
  {
   "cell_type": "code",
   "execution_count": 73,
   "id": "bbd2ea06-60d7-42f2-bee5-f1c205936a10",
   "metadata": {},
   "outputs": [],
   "source": [
    "##45.Create a tuple of the first `n` powers of 2."
   ]
  },
  {
   "cell_type": "code",
   "execution_count": 75,
   "id": "289612de-79d1-478f-86e4-1f0d41bb6040",
   "metadata": {},
   "outputs": [
    {
     "name": "stdout",
     "output_type": "stream",
     "text": [
      "Tuple of the first 5 powers of 2: (1, 2, 4, 8, 16)\n"
     ]
    }
   ],
   "source": [
    "n = 5  # Change this to the desired number of powers\n",
    "\n",
    "powers_of_two = tuple(2 ** i for i in range(n))\n",
    "\n",
    "print(f\"Tuple of the first {n} powers of 2:\", powers_of_two)\n"
   ]
  },
  {
   "cell_type": "code",
   "execution_count": 76,
   "id": "ed75f9f9-8d08-4c1b-9c31-8cfa81d77d36",
   "metadata": {},
   "outputs": [],
   "source": [
    "##46.Find the longest string in a tuple of strings."
   ]
  },
  {
   "cell_type": "code",
   "execution_count": 77,
   "id": "3512d93c-27fc-4b15-b51b-6533b7df6ab6",
   "metadata": {},
   "outputs": [
    {
     "name": "stdout",
     "output_type": "stream",
     "text": [
      "Original Tuple of Strings: ('apple', 'banana', 'orange', 'strawberry', 'kiwi')\n",
      "Longest String: strawberry\n"
     ]
    }
   ],
   "source": [
    "my_tuple = ('apple', 'banana', 'orange', 'strawberry', 'kiwi')\n",
    "\n",
    "# Find the longest string in the tuple\n",
    "longest_string = max(my_tuple, key=len)\n",
    "\n",
    "print(\"Original Tuple of Strings:\", my_tuple)\n",
    "print(\"Longest String:\", longest_string)\n"
   ]
  },
  {
   "cell_type": "code",
   "execution_count": null,
   "id": "24f4ae6e-a28b-40cd-ae9e-2ef1ddb0a317",
   "metadata": {},
   "outputs": [],
   "source": [
    "##47.Find the shortest string in a tuple of strings."
   ]
  },
  {
   "cell_type": "code",
   "execution_count": 78,
   "id": "0cf90df8-21e4-4b88-8da0-8e634dce6b11",
   "metadata": {},
   "outputs": [
    {
     "name": "stdout",
     "output_type": "stream",
     "text": [
      "Original Tuple of Strings: ('apple', 'banana', 'orange', 'strawberry', 'kiwi')\n",
      "Shortest String: kiwi\n"
     ]
    }
   ],
   "source": [
    "my_tuple = ('apple', 'banana', 'orange', 'strawberry', 'kiwi')\n",
    "\n",
    "# Find the shortest string in the tuple\n",
    "shortest_string = min(my_tuple, key=len)\n",
    "\n",
    "print(\"Original Tuple of Strings:\", my_tuple)\n",
    "print(\"Shortest String:\", shortest_string)\n"
   ]
  },
  {
   "cell_type": "code",
   "execution_count": null,
   "id": "d4201450-c665-4a53-8f7a-22c3c2eef6ca",
   "metadata": {},
   "outputs": [],
   "source": [
    "##48.Create a tuple of the first `n` triangular numbers."
   ]
  },
  {
   "cell_type": "code",
   "execution_count": 79,
   "id": "4fc56ef5-a73c-4b52-9368-b348bd11e35f",
   "metadata": {},
   "outputs": [
    {
     "name": "stdout",
     "output_type": "stream",
     "text": [
      "Tuple of Triangular Numbers: (1, 3, 6, 10, 15)\n"
     ]
    }
   ],
   "source": [
    "n = 5  # Replace with the desired number of triangular numbers\n",
    "\n",
    "# Create a tuple of the first n triangular numbers\n",
    "triangular_numbers_tuple = tuple((i * (i + 1)) // 2 for i in range(1, n + 1))\n",
    "\n",
    "print(\"Tuple of Triangular Numbers:\", triangular_numbers_tuple)\n"
   ]
  },
  {
   "cell_type": "code",
   "execution_count": null,
   "id": "a977ee8f-8b17-4910-b4b5-3d17164f8eed",
   "metadata": {},
   "outputs": [],
   "source": [
    "##49.Check if a tuple contains another tuple as a subsequence."
   ]
  },
  {
   "cell_type": "code",
   "execution_count": 80,
   "id": "b5334461-4e3d-41f7-a265-d784d5f62ded",
   "metadata": {},
   "outputs": [
    {
     "name": "stdout",
     "output_type": "stream",
     "text": [
      "Larger Tuple: (1, 2, 3, 4, 5, 6, 7, 8, 9)\n",
      "Smaller Tuple: (3, 4, 5)\n",
      "Is Smaller Tuple a Subsequence? True\n"
     ]
    }
   ],
   "source": [
    "def is_subsequence(sub, my_tuple):\n",
    "    sub_len = len(sub)\n",
    "    for i in range(len(my_tuple) - sub_len + 1):\n",
    "        if my_tuple[i:i + sub_len] == sub:\n",
    "            return True\n",
    "    return False\n",
    "\n",
    "# Example tuples\n",
    "larger_tuple = (1, 2, 3, 4, 5, 6, 7, 8, 9)\n",
    "smaller_tuple = (3, 4, 5)\n",
    "\n",
    "# Check if smaller_tuple is a subsequence of larger_tuple\n",
    "result = is_subsequence(smaller_tuple, larger_tuple)\n",
    "\n",
    "print(\"Larger Tuple:\", larger_tuple)\n",
    "print(\"Smaller Tuple:\", smaller_tuple)\n",
    "print(\"Is Smaller Tuple a Subsequence?\", result)\n"
   ]
  },
  {
   "cell_type": "code",
   "execution_count": 81,
   "id": "2eb03360-e536-4e80-b79c-7fc282c86dee",
   "metadata": {},
   "outputs": [],
   "source": [
    "##50.Create a tuple of alternating 1s and 0s of length `n`."
   ]
  },
  {
   "cell_type": "code",
   "execution_count": 82,
   "id": "ed448167-6362-477f-9448-df3989d295a0",
   "metadata": {},
   "outputs": [
    {
     "name": "stdout",
     "output_type": "stream",
     "text": [
      "Alternating Tuple: (1, 0, 1, 0, 1, 0, 1, 0)\n"
     ]
    }
   ],
   "source": [
    "n = 8  # Replace with the desired length\n",
    "\n",
    "# Create a tuple of alternating 1s and 0s\n",
    "alternating_tuple = tuple(1 if i % 2 == 0 else 0 for i in range(n))\n",
    "\n",
    "print(\"Alternating Tuple:\", alternating_tuple)\n"
   ]
  },
  {
   "cell_type": "code",
   "execution_count": null,
   "id": "a03f37ab-8004-4e03-b7dd-5a754c7a3da1",
   "metadata": {},
   "outputs": [],
   "source": [
    "####Set Based Practice Problem#####"
   ]
  },
  {
   "cell_type": "code",
   "execution_count": 83,
   "id": "739a4df4-981d-45b7-92a1-5940a95694f4",
   "metadata": {},
   "outputs": [],
   "source": [
    "##1Create a set with integers from 1 to 5."
   ]
  },
  {
   "cell_type": "code",
   "execution_count": 85,
   "id": "98c97691-ae0a-4fc0-8595-c97cbdd8e091",
   "metadata": {},
   "outputs": [
    {
     "name": "stdout",
     "output_type": "stream",
     "text": [
      "{1, 2, 3, 4, 5}\n"
     ]
    }
   ],
   "source": [
    "my_set = set([1, 2, 3, 4, 5])\n",
    "print(my_set)\n"
   ]
  },
  {
   "cell_type": "code",
   "execution_count": 86,
   "id": "9eae3c56-e00b-43b0-ba94-27af20c785c6",
   "metadata": {},
   "outputs": [],
   "source": [
    "##2.Add an element to a set."
   ]
  },
  {
   "cell_type": "code",
   "execution_count": 87,
   "id": "80512616-91d1-4312-8783-e199f07661df",
   "metadata": {},
   "outputs": [
    {
     "name": "stdout",
     "output_type": "stream",
     "text": [
      "{1, 2, 3, 4, 5, 6}\n"
     ]
    }
   ],
   "source": [
    "my_set = {1, 2, 3, 4, 5}\n",
    "\n",
    "# Adding an element to the set\n",
    "my_set.add(6)\n",
    "\n",
    "print(my_set)\n"
   ]
  },
  {
   "cell_type": "code",
   "execution_count": 88,
   "id": "b2376624-cfea-4ca5-92ac-19e91a760be0",
   "metadata": {},
   "outputs": [],
   "source": [
    "##3.Remove an element from a set."
   ]
  },
  {
   "cell_type": "code",
   "execution_count": 89,
   "id": "05c02b9f-bac5-4f79-ad34-6dff3ee45469",
   "metadata": {},
   "outputs": [
    {
     "name": "stdout",
     "output_type": "stream",
     "text": [
      "{1, 2, 4, 5}\n"
     ]
    }
   ],
   "source": [
    "my_set = {1, 2, 3, 4, 5}\n",
    "\n",
    "# Removing an element from the set\n",
    "my_set.remove(3)\n",
    "\n",
    "print(my_set)\n"
   ]
  },
  {
   "cell_type": "code",
   "execution_count": null,
   "id": "16629d83-86f7-4189-baaa-449955477f62",
   "metadata": {},
   "outputs": [],
   "source": [
    "##4.Check if an element exists in a set."
   ]
  },
  {
   "cell_type": "code",
   "execution_count": 90,
   "id": "3452cb6f-8493-4777-9123-7e78c786f63f",
   "metadata": {},
   "outputs": [
    {
     "name": "stdout",
     "output_type": "stream",
     "text": [
      "3 exists in the set.\n"
     ]
    }
   ],
   "source": [
    "my_set = {1, 2, 3, 4, 5}\n",
    "\n",
    "# Check if an element exists in the set\n",
    "element_to_check = 3\n",
    "\n",
    "if element_to_check in my_set:\n",
    "    print(f\"{element_to_check} exists in the set.\")\n",
    "else:\n",
    "    print(f\"{element_to_check} does not exist in the set.\")\n"
   ]
  },
  {
   "cell_type": "code",
   "execution_count": 91,
   "id": "4da1429f-d60f-40fa-8bfc-56e11686f41f",
   "metadata": {},
   "outputs": [],
   "source": [
    "##5.Find the length of a set without using the `len()` function."
   ]
  },
  {
   "cell_type": "code",
   "execution_count": 92,
   "id": "7405f356-db59-47cd-a19c-0cd24d08db93",
   "metadata": {},
   "outputs": [
    {
     "name": "stdout",
     "output_type": "stream",
     "text": [
      "Length of the set: 5\n"
     ]
    }
   ],
   "source": [
    "my_set = {1, 2, 3, 4, 5}\n",
    "\n",
    "# Find the length of the set without using len()\n",
    "set_length = 0\n",
    "for _ in my_set:\n",
    "    set_length += 1\n",
    "\n",
    "print(\"Length of the set:\", set_length)\n"
   ]
  },
  {
   "cell_type": "code",
   "execution_count": 93,
   "id": "45170938-879c-46e4-887a-f7bba36e8d94",
   "metadata": {},
   "outputs": [],
   "source": [
    "##6.Clear all elements from a set."
   ]
  },
  {
   "cell_type": "code",
   "execution_count": 94,
   "id": "04830185-978c-4856-b298-edb6c51e7174",
   "metadata": {},
   "outputs": [
    {
     "name": "stdout",
     "output_type": "stream",
     "text": [
      "Set after clearing: set()\n"
     ]
    }
   ],
   "source": [
    "my_set = {1, 2, 3, 4, 5}\n",
    "\n",
    "# Clear all elements from the set\n",
    "my_set.clear()\n",
    "\n",
    "print(\"Set after clearing:\", my_set)\n"
   ]
  },
  {
   "cell_type": "code",
   "execution_count": null,
   "id": "843b1504-9e42-431f-a03c-3f133e1da7bd",
   "metadata": {},
   "outputs": [],
   "source": [
    "##7.Create a set of even numbers from 1 to 10."
   ]
  },
  {
   "cell_type": "code",
   "execution_count": 95,
   "id": "fc5b893b-b262-424b-9a4d-025f544f70a5",
   "metadata": {},
   "outputs": [
    {
     "name": "stdout",
     "output_type": "stream",
     "text": [
      "{2, 4, 6, 8, 10}\n"
     ]
    }
   ],
   "source": [
    "even_numbers_set = set(range(2, 11, 2))\n",
    "print(even_numbers_set)\n"
   ]
  },
  {
   "cell_type": "code",
   "execution_count": 96,
   "id": "ce8a8cd8-0daf-4142-8a2d-fd93fc10e329",
   "metadata": {},
   "outputs": [],
   "source": [
    "##8.Create a set of odd numbers from 1 to 10."
   ]
  },
  {
   "cell_type": "code",
   "execution_count": 97,
   "id": "2430f59e-45ac-463b-909c-924bc2af899e",
   "metadata": {},
   "outputs": [
    {
     "name": "stdout",
     "output_type": "stream",
     "text": [
      "{1, 3, 5, 7, 9}\n"
     ]
    }
   ],
   "source": [
    "odd_numbers_set = set(range(1, 11, 2))\n",
    "print(odd_numbers_set)\n"
   ]
  },
  {
   "cell_type": "code",
   "execution_count": null,
   "id": "9cc8ac0b-1607-4a66-873c-81ec0d7be61d",
   "metadata": {},
   "outputs": [],
   "source": [
    "###9.Find the union of two sets."
   ]
  },
  {
   "cell_type": "code",
   "execution_count": 98,
   "id": "aa51cbd6-7ff1-489e-a8f5-24f7f9ac89e4",
   "metadata": {},
   "outputs": [
    {
     "name": "stdout",
     "output_type": "stream",
     "text": [
      "Union using union() method: {1, 2, 3, 4, 5, 6, 7}\n",
      "Union using | operator: {1, 2, 3, 4, 5, 6, 7}\n"
     ]
    }
   ],
   "source": [
    "set1 = {1, 2, 3, 4, 5}\n",
    "set2 = {3, 4, 5, 6, 7}\n",
    "\n",
    "# Using union() method\n",
    "union_set_method = set1.union(set2)\n",
    "print(\"Union using union() method:\", union_set_method)\n",
    "\n",
    "# Using | operator\n",
    "union_set_operator = set1 | set2\n",
    "print(\"Union using | operator:\", union_set_operator)\n"
   ]
  },
  {
   "cell_type": "code",
   "execution_count": null,
   "id": "1e069bc6-c00a-41b0-95de-4821be532cff",
   "metadata": {},
   "outputs": [],
   "source": [
    "##10.Find the intersection of two sets."
   ]
  },
  {
   "cell_type": "code",
   "execution_count": 99,
   "id": "b8725442-48d1-44ad-b939-60bdee8eac69",
   "metadata": {},
   "outputs": [
    {
     "name": "stdout",
     "output_type": "stream",
     "text": [
      "Intersection using intersection() method: {3, 4, 5}\n",
      "Intersection using & operator: {3, 4, 5}\n"
     ]
    }
   ],
   "source": [
    "set1 = {1, 2, 3, 4, 5}\n",
    "set2 = {3, 4, 5, 6, 7}\n",
    "\n",
    "# Using intersection() method\n",
    "intersection_set_method = set1.intersection(set2)\n",
    "print(\"Intersection using intersection() method:\", intersection_set_method)\n",
    "\n",
    "# Using & operator\n",
    "intersection_set_operator = set1 & set2\n",
    "print(\"Intersection using & operator:\", intersection_set_operator)\n"
   ]
  },
  {
   "cell_type": "code",
   "execution_count": null,
   "id": "c62ad12a-3549-4186-8c8c-9bbf8b9f2cf8",
   "metadata": {},
   "outputs": [],
   "source": [
    "##11.Find the difference between two sets."
   ]
  },
  {
   "cell_type": "code",
   "execution_count": 100,
   "id": "e197a1d9-38a3-45fa-a695-85283fd92482",
   "metadata": {},
   "outputs": [
    {
     "name": "stdout",
     "output_type": "stream",
     "text": [
      "Difference using difference() method: {1, 2}\n",
      "Difference using - operator: {1, 2}\n"
     ]
    }
   ],
   "source": [
    "set1 = {1, 2, 3, 4, 5}\n",
    "set2 = {3, 4, 5, 6, 7}\n",
    "\n",
    "# Using difference() method\n",
    "difference_set_method = set1.difference(set2)\n",
    "print(\"Difference using difference() method:\", difference_set_method)\n",
    "\n",
    "# Using - operator\n",
    "difference_set_operator = set1 - set2\n",
    "print(\"Difference using - operator:\", difference_set_operator)\n"
   ]
  },
  {
   "cell_type": "code",
   "execution_count": null,
   "id": "69295af6-4e93-4131-8eef-2afcec94b6b8",
   "metadata": {},
   "outputs": [],
   "source": [
    "##12.Check if a set is a subset of another set."
   ]
  },
  {
   "cell_type": "code",
   "execution_count": 101,
   "id": "4694594e-56f8-44ad-a3e3-75979c15b7fe",
   "metadata": {},
   "outputs": [
    {
     "name": "stdout",
     "output_type": "stream",
     "text": [
      "Using issubset() method: True\n",
      "Using <= operator: True\n"
     ]
    }
   ],
   "source": [
    "set1 = {1, 2, 3, 4, 5}\n",
    "set2 = {2, 4}\n",
    "\n",
    "# Using issubset() method\n",
    "is_subset_method = set2.issubset(set1)\n",
    "print(\"Using issubset() method:\", is_subset_method)\n",
    "\n",
    "# Using <= operator\n",
    "is_subset_operator = set2 <= set1\n",
    "print(\"Using <= operator:\", is_subset_operator)\n"
   ]
  },
  {
   "cell_type": "code",
   "execution_count": null,
   "id": "6b850de5-968e-4bac-bac5-efb33b59089e",
   "metadata": {},
   "outputs": [],
   "source": [
    "##13.Check if a set is a superset of another set."
   ]
  },
  {
   "cell_type": "code",
   "execution_count": 102,
   "id": "5d16a163-b0d7-4655-830e-9b21423c359e",
   "metadata": {},
   "outputs": [
    {
     "name": "stdout",
     "output_type": "stream",
     "text": [
      "Using issuperset() method: True\n",
      "Using >= operator: True\n"
     ]
    }
   ],
   "source": [
    "set1 = {1, 2, 3, 4, 5}\n",
    "set2 = {2, 4}\n",
    "\n",
    "# Using issuperset() method\n",
    "is_superset_method = set1.issuperset(set2)\n",
    "print(\"Using issuperset() method:\", is_superset_method)\n",
    "\n",
    "# Using >= operator\n",
    "is_superset_operator = set1 >= set2\n",
    "print(\"Using >= operator:\", is_superset_operator)\n"
   ]
  },
  {
   "cell_type": "code",
   "execution_count": null,
   "id": "4027c3a0-109e-4394-8ae5-34487ed938f6",
   "metadata": {},
   "outputs": [],
   "source": [
    "##14.create a set from a list"
   ]
  },
  {
   "cell_type": "code",
   "execution_count": 2,
   "id": "b42939cb-93e4-4082-8f02-a4e8c7dcfeec",
   "metadata": {},
   "outputs": [
    {
     "name": "stdout",
     "output_type": "stream",
     "text": [
      "{1, 2, 3, 4, 5}\n"
     ]
    }
   ],
   "source": [
    "# Sample list\n",
    "my_list = [1, 2, 3, 4, 5]\n",
    "\n",
    "# Creating a set from the list\n",
    "my_set = set(my_list)\n",
    "\n",
    "# Displaying the set\n",
    "print(my_set)\n"
   ]
  },
  {
   "cell_type": "code",
   "execution_count": null,
   "id": "a6aacde8-a278-44dd-9935-ca280e3ea773",
   "metadata": {},
   "outputs": [],
   "source": [
    "##15.Convert a set to a list."
   ]
  },
  {
   "cell_type": "code",
   "execution_count": 3,
   "id": "6b93be18-28bf-47d8-9aca-6ec42c5c76b3",
   "metadata": {},
   "outputs": [
    {
     "name": "stdout",
     "output_type": "stream",
     "text": [
      "[1, 2, 3, 4, 5]\n"
     ]
    }
   ],
   "source": [
    "# Sample set\n",
    "my_set = {1, 2, 3, 4, 5}\n",
    "\n",
    "# Converting the set to a list\n",
    "my_list = list(my_set)\n",
    "\n",
    "# Displaying the list\n",
    "print(my_list)\n"
   ]
  },
  {
   "cell_type": "code",
   "execution_count": null,
   "id": "6a428a25-5944-46ea-a332-0d4612e1dec0",
   "metadata": {},
   "outputs": [],
   "source": [
    "##16.Remove a random element from a set."
   ]
  },
  {
   "cell_type": "code",
   "execution_count": 4,
   "id": "f1370a18-885f-4c6c-ba9e-b847875ec09f",
   "metadata": {},
   "outputs": [
    {
     "name": "stdout",
     "output_type": "stream",
     "text": [
      "Updated Set: {2, 3, 4, 5}\n",
      "Removed Element: 1\n"
     ]
    }
   ],
   "source": [
    "# Sample set\n",
    "my_set = {1, 2, 3, 4, 5}\n",
    "\n",
    "# Removing a random element\n",
    "removed_element = my_set.pop()\n",
    "\n",
    "# Displaying the updated set and the removed element\n",
    "print(\"Updated Set:\", my_set)\n",
    "print(\"Removed Element:\", removed_element)\n"
   ]
  },
  {
   "cell_type": "code",
   "execution_count": null,
   "id": "1bde6e32-887c-42b2-956c-1270faf075fb",
   "metadata": {},
   "outputs": [],
   "source": [
    "##17. Pop an element from a set."
   ]
  },
  {
   "cell_type": "code",
   "execution_count": 6,
   "id": "24ca710d-879f-44bc-9a52-1930a12c8400",
   "metadata": {},
   "outputs": [
    {
     "name": "stdout",
     "output_type": "stream",
     "text": [
      "Updated Set: {2, 3, 4, 5}\n",
      "Popped Element: 1\n"
     ]
    }
   ],
   "source": [
    "# Sample set\n",
    "my_set = {1, 2, 3, 4, 5}\n",
    "\n",
    "# Pop an element from the set\n",
    "popped_element = my_set.pop()\n",
    "\n",
    "# Displaying the updated set and the popped element\n",
    "print(\"Updated Set:\", my_set)\n",
    "print(\"Popped Element:\", popped_element)\n"
   ]
  },
  {
   "cell_type": "code",
   "execution_count": null,
   "id": "4c3c5a33-26cc-4cc5-8725-25461383c3ac",
   "metadata": {},
   "outputs": [],
   "source": [
    "##18.Check if two sets have no elements in common"
   ]
  },
  {
   "cell_type": "code",
   "execution_count": 7,
   "id": "a878e6cf-3df6-48b3-9c90-2f467f16a07e",
   "metadata": {},
   "outputs": [
    {
     "name": "stdout",
     "output_type": "stream",
     "text": [
      "Are the sets disjoint? True\n"
     ]
    }
   ],
   "source": [
    "# Sample sets\n",
    "set1 = {1, 2, 3}\n",
    "set2 = {4, 5, 6}\n",
    "\n",
    "# Check if the sets have no elements in common\n",
    "are_disjoint = set1.isdisjoint(set2)\n",
    "\n",
    "# Display the result\n",
    "print(\"Are the sets disjoint?\", are_disjoint)\n"
   ]
  },
  {
   "cell_type": "code",
   "execution_count": 8,
   "id": "51f5b2df-4668-467f-bfee-f6bd4e2e1854",
   "metadata": {},
   "outputs": [],
   "source": [
    "##19.Find the symmetric difference between two sets"
   ]
  },
  {
   "cell_type": "code",
   "execution_count": 9,
   "id": "8af56557-df2e-49e0-8d3a-228b7633a300",
   "metadata": {},
   "outputs": [
    {
     "name": "stdout",
     "output_type": "stream",
     "text": [
      "Symmetric Difference: {1, 2, 5, 6}\n"
     ]
    }
   ],
   "source": [
    "# Sample sets\n",
    "set1 = {1, 2, 3, 4}\n",
    "set2 = {3, 4, 5, 6}\n",
    "\n",
    "# Find the symmetric difference using the method\n",
    "symmetric_diff = set1.symmetric_difference(set2)\n",
    "\n",
    "# Display the result\n",
    "print(\"Symmetric Difference:\", symmetric_diff)\n"
   ]
  },
  {
   "cell_type": "code",
   "execution_count": 10,
   "id": "d7af099d-28a7-4f2c-8f7c-d3c8e96667e7",
   "metadata": {},
   "outputs": [],
   "source": [
    "##20.Update a set with elements from another set"
   ]
  },
  {
   "cell_type": "code",
   "execution_count": 11,
   "id": "16acbe3f-c83c-4134-98b8-cb3a996c01d4",
   "metadata": {},
   "outputs": [
    {
     "name": "stdout",
     "output_type": "stream",
     "text": [
      "Updated Set1: {1, 2, 3, 4, 5}\n"
     ]
    }
   ],
   "source": [
    "# Initial sets\n",
    "set1 = {1, 2, 3}\n",
    "set2 = {3, 4, 5}\n",
    "\n",
    "# Update set1 with elements from set2\n",
    "set1.update(set2)\n",
    "\n",
    "# Display the updated set1\n",
    "print(\"Updated Set1:\", set1)\n"
   ]
  },
  {
   "cell_type": "code",
   "execution_count": null,
   "id": "f65ebae8-d066-4924-b3bc-1254c2cbd0ff",
   "metadata": {},
   "outputs": [],
   "source": [
    "##21.Create a set of the first 5 prime numbers"
   ]
  },
  {
   "cell_type": "code",
   "execution_count": 13,
   "id": "9cbfca5d-7273-428d-9e5d-0f2e373abbf0",
   "metadata": {},
   "outputs": [
    {
     "name": "stdout",
     "output_type": "stream",
     "text": [
      "Set of the first 5 prime numbers: {2, 3, 5, 7, 11}\n"
     ]
    }
   ],
   "source": [
    "# Create a set of the first 5 prime numbers\n",
    "prime_numbers = {2, 3, 5, 7, 11}\n",
    "\n",
    "# Display the set\n",
    "print(\"Set of the first 5 prime numbers:\", prime_numbers)\n"
   ]
  },
  {
   "cell_type": "code",
   "execution_count": 14,
   "id": "f23676c6-58b5-4054-b741-8a2b33d77264",
   "metadata": {},
   "outputs": [],
   "source": [
    "##22.Check if two sets are identical"
   ]
  },
  {
   "cell_type": "code",
   "execution_count": 16,
   "id": "3dece9df-216f-414c-ab66-7ce8e2806fef",
   "metadata": {},
   "outputs": [
    {
     "name": "stdout",
     "output_type": "stream",
     "text": [
      "Are the sets identical? True\n"
     ]
    }
   ],
   "source": [
    "# Sample sets\n",
    "set1 = {1, 2, 3}\n",
    "set2 = {3, 2, 1}\n",
    "\n",
    "# Check if the sets are identical\n",
    "are_identical = set1 == set2\n",
    "\n",
    "# Display the result\n",
    "print(\"Are the sets identical?\", are_identical)\n"
   ]
  },
  {
   "cell_type": "code",
   "execution_count": 17,
   "id": "2d340cb5-8aa9-412b-a4db-61af7ab40e93",
   "metadata": {},
   "outputs": [],
   "source": [
    "##23.Create a frozen set"
   ]
  },
  {
   "cell_type": "code",
   "execution_count": 18,
   "id": "a4b37b79-dec0-4de1-ad84-bfd28dc2240f",
   "metadata": {},
   "outputs": [
    {
     "name": "stdout",
     "output_type": "stream",
     "text": [
      "Frozen Set: frozenset({1, 2, 3, 4, 5})\n"
     ]
    }
   ],
   "source": [
    "# Create a frozen set\n",
    "my_frozen_set = frozenset([1, 2, 3, 4, 5])\n",
    "\n",
    "# Display the frozen set\n",
    "print(\"Frozen Set:\", my_frozen_set)\n"
   ]
  },
  {
   "cell_type": "code",
   "execution_count": 1,
   "id": "1cb2f6fb-3165-42b3-bb04-647da4d1e6b3",
   "metadata": {},
   "outputs": [],
   "source": [
    "##24.Check if a set is disjoint with another set."
   ]
  },
  {
   "cell_type": "code",
   "execution_count": 3,
   "id": "847aa370-ed78-4c9c-894a-a20877a46e82",
   "metadata": {},
   "outputs": [
    {
     "name": "stdout",
     "output_type": "stream",
     "text": [
      "True\n"
     ]
    }
   ],
   "source": [
    "# Define two sets\n",
    "set1 = {1, 2, 3}\n",
    "set2 = {4, 5, 6}\n",
    "\n",
    "# Check if the sets are disjoint\n",
    "disjoint_check = set1.isdisjoint(set2)\n",
    "\n",
    "# Print \n",
    "print(disjoint_check)\n"
   ]
  },
  {
   "cell_type": "code",
   "execution_count": 4,
   "id": "85baf532-f28c-4539-ba9a-2c33132a0586",
   "metadata": {},
   "outputs": [],
   "source": [
    "##25.Filter out all even numbers from a set."
   ]
  },
  {
   "cell_type": "code",
   "execution_count": 7,
   "id": "388bef3f-2f3d-4fc1-bec1-9442d7e246bb",
   "metadata": {},
   "outputs": [
    {
     "name": "stdout",
     "output_type": "stream",
     "text": [
      "{1, 3, 5, 7, 9}\n"
     ]
    }
   ],
   "source": [
    "# Original set\n",
    "original_set = {1, 2, 3, 4, 5, 6, 7, 8, 9, 10}\n",
    "\n",
    "# Use filter() to filter out even numbers\n",
    "filtered_set = set(filter(lambda x: x % 2 != 0, original_set))\n",
    "\n",
    "# Print the filtered set\n",
    "print(filtered_set)\n"
   ]
  },
  {
   "cell_type": "code",
   "execution_count": null,
   "id": "6e845a5f-8997-412b-a545-67a99787a0d8",
   "metadata": {},
   "outputs": [],
   "source": [
    "##27.Multiply all elements in a set by 2."
   ]
  },
  {
   "cell_type": "code",
   "execution_count": 8,
   "id": "e64e40fd-1192-4697-ab76-b4c9e8d5057d",
   "metadata": {},
   "outputs": [
    {
     "name": "stdout",
     "output_type": "stream",
     "text": [
      "{2, 4, 6, 8, 10}\n"
     ]
    }
   ],
   "source": [
    "# Original set\n",
    "original_set = {1, 2, 3, 4, 5}\n",
    "\n",
    "# Create a new set with elements multiplied by 2\n",
    "new_set = {x * 2 for x in original_set}\n",
    "\n",
    "# Print the new set\n",
    "print(new_set)\n"
   ]
  },
  {
   "cell_type": "code",
   "execution_count": 10,
   "id": "462874e6-3a33-4974-aaea-c0d1bfd21c20",
   "metadata": {},
   "outputs": [],
   "source": [
    "##28.Create a set of random numbers."
   ]
  },
  {
   "cell_type": "code",
   "execution_count": 12,
   "id": "a26a0312-a0c8-48bd-af9d-003ec41b0b07",
   "metadata": {},
   "outputs": [
    {
     "name": "stdout",
     "output_type": "stream",
     "text": [
      "{2, 5, 6, 8, 10}\n"
     ]
    }
   ],
   "source": [
    "import random\n",
    "\n",
    "# Generate a set of 5 random numbers between 1 and 10\n",
    "random_set = set(random.sample(range(1, 11), 5))\n",
    "\n",
    "# Print the random set\n",
    "print(random_set)\n"
   ]
  },
  {
   "cell_type": "code",
   "execution_count": 17,
   "id": "91cf915a-1653-46da-83c1-ff6f19d402a1",
   "metadata": {},
   "outputs": [],
   "source": [
    "##29.Check if a set is empty."
   ]
  },
  {
   "cell_type": "code",
   "execution_count": 19,
   "id": "8d7085e0-3ca6-4cb4-a146-6e1ae41ca39e",
   "metadata": {},
   "outputs": [
    {
     "name": "stdout",
     "output_type": "stream",
     "text": [
      "The set is empty.\n"
     ]
    }
   ],
   "source": [
    "# Define a set\n",
    "my_set = set()\n",
    "\n",
    "# Check if the set is empty\n",
    "if len(my_set) == 0:\n",
    "    print(\"The set is empty.\")\n",
    "else:\n",
    "    print(\"The set is not empty.\")\n"
   ]
  },
  {
   "cell_type": "code",
   "execution_count": 22,
   "id": "4b0f7032-3de4-4ea3-8727-198c65e8d88f",
   "metadata": {},
   "outputs": [],
   "source": [
    "##30.Create a nested set (hint: use frozenset)."
   ]
  },
  {
   "cell_type": "code",
   "execution_count": 24,
   "id": "499cc560-7aa0-4a9b-b3e6-51320b1c1a44",
   "metadata": {},
   "outputs": [
    {
     "name": "stdout",
     "output_type": "stream",
     "text": [
      "frozenset({frozenset({1, 2, 3}), frozenset({4, 5, 6}), frozenset({8, 9, 7})})\n"
     ]
    }
   ],
   "source": [
    "# Create a nested frozenset directly\n",
    "nested_set = frozenset([\n",
    "    frozenset({1, 2, 3}),\n",
    "    frozenset({4, 5, 6}),\n",
    "    frozenset({7, 8, 9})\n",
    "])\n",
    "\n",
    "# Print the nested set\n",
    "print(nested_set)\n"
   ]
  },
  {
   "cell_type": "code",
   "execution_count": null,
   "id": "f574f937-bf6d-4867-839a-f68ad6f8f550",
   "metadata": {},
   "outputs": [],
   "source": [
    "##31.remove an element from a set using discard method"
   ]
  },
  {
   "cell_type": "code",
   "execution_count": 25,
   "id": "85600e40-6902-457a-a324-d639e8c29c3f",
   "metadata": {},
   "outputs": [
    {
     "name": "stdout",
     "output_type": "stream",
     "text": [
      "{1, 2, 4, 5}\n"
     ]
    }
   ],
   "source": [
    "# Define a set\n",
    "my_set = {1, 2, 3, 4, 5}\n",
    "\n",
    "# Remove the element 3 using the discard method\n",
    "my_set.discard(3)\n",
    "\n",
    "# Print the modified set\n",
    "print(my_set)\n"
   ]
  },
  {
   "cell_type": "code",
   "execution_count": 26,
   "id": "6172e4ff-bcfd-4ed0-a114-abbc26fef572",
   "metadata": {},
   "outputs": [],
   "source": [
    "##32.compare two sets"
   ]
  },
  {
   "cell_type": "code",
   "execution_count": 28,
   "id": "dc81aeaa-8a2d-4045-9162-62298aed6064",
   "metadata": {},
   "outputs": [
    {
     "name": "stdout",
     "output_type": "stream",
     "text": [
      "The sets are equal.\n"
     ]
    }
   ],
   "source": [
    "set1 = {1, 2, 3}\n",
    "set2 = {3, 2, 1}\n",
    "\n",
    "if set1 == set2:\n",
    "    print(\"The sets are equal.\")\n",
    "else:\n",
    "    print(\"The sets are not equal.\")\n"
   ]
  },
  {
   "cell_type": "code",
   "execution_count": 29,
   "id": "ef24ca3e-7134-4e90-961e-a34780f58ecd",
   "metadata": {},
   "outputs": [],
   "source": [
    "##33.create a set from string"
   ]
  },
  {
   "cell_type": "code",
   "execution_count": 32,
   "id": "ce3a88fb-6e84-42ff-a489-74a3de00a549",
   "metadata": {},
   "outputs": [
    {
     "name": "stdout",
     "output_type": "stream",
     "text": [
      "{'e', 'o', 'h', 'l'}\n"
     ]
    }
   ],
   "source": [
    "# Create a set from a string\n",
    "my_string = \"hello\"\n",
    "my_set = set(my_string)\n",
    "\n",
    "# Print the set\n",
    "print(my_set)\n"
   ]
  },
  {
   "cell_type": "code",
   "execution_count": 33,
   "id": "f8eb8572-0759-4e46-82cb-8c455d277db0",
   "metadata": {},
   "outputs": [],
   "source": [
    "##34.Convert a set of strings to a set of integers."
   ]
  },
  {
   "cell_type": "code",
   "execution_count": 35,
   "id": "e9a768f0-2ae6-4ef7-9177-41a21de4c802",
   "metadata": {},
   "outputs": [
    {
     "name": "stdout",
     "output_type": "stream",
     "text": [
      "{1, 2, 3, 4, 5}\n"
     ]
    }
   ],
   "source": [
    "# Set of strings\n",
    "set_of_strings = {'1', '2', '3', '4', '5'}\n",
    "\n",
    "# Convert the set of strings to a set of integers\n",
    "set_of_integers = set(map(int, set_of_strings))\n",
    "\n",
    "# Print the set of integers\n",
    "print(set_of_integers)\n"
   ]
  },
  {
   "cell_type": "code",
   "execution_count": 36,
   "id": "32bd4292-9a1e-42d5-bbc2-386559afc9ec",
   "metadata": {},
   "outputs": [],
   "source": [
    "##35.Convert a set of integers to a set of strings."
   ]
  },
  {
   "cell_type": "code",
   "execution_count": 38,
   "id": "72fa3cc9-d674-4793-85cf-a7263a752cf2",
   "metadata": {},
   "outputs": [
    {
     "name": "stdout",
     "output_type": "stream",
     "text": [
      "{'1', '2', '5', '3', '4'}\n"
     ]
    }
   ],
   "source": [
    "# Set of integers\n",
    "set_of_integers = {1, 2, 3, 4, 5}\n",
    "\n",
    "# Convert the set of integers to a set of strings\n",
    "set_of_strings = set(map(str, set_of_integers))\n",
    "\n",
    "# Print the set of strings\n",
    "print(set_of_strings)\n"
   ]
  },
  {
   "cell_type": "code",
   "execution_count": 39,
   "id": "f04ccd83-dabc-4740-8cd1-eed894a84ee1",
   "metadata": {},
   "outputs": [],
   "source": [
    "##36.Create a set from a tuple."
   ]
  },
  {
   "cell_type": "code",
   "execution_count": 41,
   "id": "fc995423-ef8e-4b36-89e3-3eaac1eb6c77",
   "metadata": {},
   "outputs": [
    {
     "name": "stdout",
     "output_type": "stream",
     "text": [
      "{1, 2, 3, 4, 5}\n"
     ]
    }
   ],
   "source": [
    "# Tuple of elements\n",
    "my_tuple = (1, 2, 3, 4, 5)\n",
    "\n",
    "# Convert the tuple to a set\n",
    "my_set = set(my_tuple)\n",
    "\n",
    "# Print the set\n",
    "print(my_set)\n"
   ]
  },
  {
   "cell_type": "code",
   "execution_count": 42,
   "id": "803ce27a-4475-4681-9249-b5f93432add4",
   "metadata": {},
   "outputs": [],
   "source": [
    "##37.Convert a set to a tuple."
   ]
  },
  {
   "cell_type": "code",
   "execution_count": 44,
   "id": "1b3c1617-7986-4e86-853a-d7754c41b5bb",
   "metadata": {},
   "outputs": [
    {
     "name": "stdout",
     "output_type": "stream",
     "text": [
      "(1, 2, 3, 4, 5)\n"
     ]
    }
   ],
   "source": [
    "# Set of elements\n",
    "my_set = {1, 2, 3, 4, 5}\n",
    "\n",
    "# Convert the set to a tuple\n",
    "my_tuple = tuple(my_set)\n",
    "\n",
    "# Print the tuple\n",
    "print(my_tuple)\n"
   ]
  },
  {
   "cell_type": "code",
   "execution_count": 45,
   "id": "a8885202-a5d7-4fde-bdfa-16cf042fc6d9",
   "metadata": {},
   "outputs": [],
   "source": [
    "##38.Find the maximum value in a set."
   ]
  },
  {
   "cell_type": "code",
   "execution_count": 47,
   "id": "3cf45a0e-5241-40ac-95ab-c667fe0aed02",
   "metadata": {},
   "outputs": [
    {
     "name": "stdout",
     "output_type": "stream",
     "text": [
      "Maximum value: 10\n"
     ]
    }
   ],
   "source": [
    "# Set of elements\n",
    "my_set = {4, 8, 2, 10, 5}\n",
    "\n",
    "# Convert the set to a list and find the maximum value\n",
    "max_value = max(list(my_set))\n",
    "\n",
    "# Print the maximum value\n",
    "print(\"Maximum value:\", max_value)\n"
   ]
  },
  {
   "cell_type": "code",
   "execution_count": 48,
   "id": "d3f97992-5cb2-4188-93c9-421cc64b233c",
   "metadata": {},
   "outputs": [],
   "source": [
    "##39.Find the minimum value in a set."
   ]
  },
  {
   "cell_type": "code",
   "execution_count": 50,
   "id": "92f250ac-224e-4532-a8b6-2e4429606beb",
   "metadata": {},
   "outputs": [
    {
     "name": "stdout",
     "output_type": "stream",
     "text": [
      "Minimum value: 2\n"
     ]
    }
   ],
   "source": [
    "# Set of elements\n",
    "my_set = {4, 8, 2, 10, 5}\n",
    "\n",
    "# Convert the set to a list and find the minimum value\n",
    "min_value = min(list(my_set))\n",
    "\n",
    "# Print the minimum value\n",
    "print(\"Minimum value:\", min_value)\n"
   ]
  },
  {
   "cell_type": "code",
   "execution_count": 51,
   "id": "e71029dd-8ce3-4b97-8234-3c89df8eb2ab",
   "metadata": {},
   "outputs": [],
   "source": [
    "##40.Create a set from user input."
   ]
  },
  {
   "cell_type": "code",
   "execution_count": 54,
   "id": "f1042f0d-562f-42af-abd4-15dd5edf5c22",
   "metadata": {},
   "outputs": [
    {
     "name": "stdin",
     "output_type": "stream",
     "text": [
      "Enter elements for the set (comma-separated):  4,7\n"
     ]
    },
    {
     "name": "stdout",
     "output_type": "stream",
     "text": [
      "User set: {'4', '7'}\n"
     ]
    }
   ],
   "source": [
    "# Take user input for elements (comma-separated)\n",
    "user_input = input(\"Enter elements for the set (comma-separated): \")\n",
    "\n",
    "# Split the input string into a list and convert it to a set\n",
    "user_set = set(user_input.split(','))\n",
    "\n",
    "# Print the set\n",
    "print(\"User set:\", user_set)\n"
   ]
  },
  {
   "cell_type": "code",
   "execution_count": null,
   "id": "3c343586-6a34-43f2-bfa0-f0e5f37cd5ba",
   "metadata": {},
   "outputs": [],
   "source": [
    "##41.Check if the intersection of two sets is empty."
   ]
  },
  {
   "cell_type": "code",
   "execution_count": 56,
   "id": "3dd5bf28-b061-4262-8ed3-ca21ded546dd",
   "metadata": {},
   "outputs": [
    {
     "name": "stdout",
     "output_type": "stream",
     "text": [
      "The sets have no common elements (intersection is empty).\n"
     ]
    }
   ],
   "source": [
    "# Define two sets\n",
    "set1 = {1, 2, 3}\n",
    "set2 = {4, 5, 6}\n",
    "\n",
    "# Check if the intersection is empty\n",
    "if set1.isdisjoint(set2):\n",
    "    print(\"The sets have no common elements (intersection is empty).\")\n",
    "else:\n",
    "    print(\"The sets have common elements.\")\n"
   ]
  },
  {
   "cell_type": "code",
   "execution_count": 57,
   "id": "45d550ad-90d8-4295-ab38-01e5f86f1ba2",
   "metadata": {},
   "outputs": [],
   "source": [
    "##42.Create a set of the first 5 Fibonacci numbers."
   ]
  },
  {
   "cell_type": "code",
   "execution_count": 59,
   "id": "b697128a-84a3-41ea-842f-0b0462465ac1",
   "metadata": {},
   "outputs": [
    {
     "name": "stdout",
     "output_type": "stream",
     "text": [
      "Set of the first 5 Fibonacci numbers: {0, 1, 2, 3}\n"
     ]
    }
   ],
   "source": [
    "# Function to generate the first n Fibonacci numbers\n",
    "def generate_fibonacci(n):\n",
    "    fibonacci_set = set()\n",
    "    a, b = 0, 1\n",
    "    for _ in range(n):\n",
    "        fibonacci_set.add(a)\n",
    "        a, b = b, a + b\n",
    "    return fibonacci_set\n",
    "\n",
    "# Create a set of the first 5 Fibonacci numbers\n",
    "fibonacci_numbers = generate_fibonacci(5)\n",
    "\n",
    "# Print the set\n",
    "print(\"Set of the first 5 Fibonacci numbers:\", fibonacci_numbers)\n"
   ]
  },
  {
   "cell_type": "code",
   "execution_count": 60,
   "id": "54ae8ccf-dbd8-42e8-a3cc-a4ea68a55e2f",
   "metadata": {},
   "outputs": [],
   "source": [
    "##43.Remove duplicates from a list using sets."
   ]
  },
  {
   "cell_type": "code",
   "execution_count": 62,
   "id": "38e51574-84f6-4d1e-a3c3-dd51810a63fc",
   "metadata": {},
   "outputs": [
    {
     "name": "stdout",
     "output_type": "stream",
     "text": [
      "Original list: [1, 2, 2, 3, 4, 4, 5]\n",
      "List with duplicates removed: [1, 2, 3, 4, 5]\n"
     ]
    }
   ],
   "source": [
    "# Original list with duplicates\n",
    "original_list = [1, 2, 2, 3, 4, 4, 5]\n",
    "\n",
    "# Use a set to remove duplicates\n",
    "unique_list = list(set(original_list))\n",
    "\n",
    "# Print the unique list\n",
    "print(\"Original list:\", original_list)\n",
    "print(\"List with duplicates removed:\", unique_list)\n"
   ]
  },
  {
   "cell_type": "code",
   "execution_count": 63,
   "id": "6c070019-fe31-46e6-8c11-4685bb1f57d0",
   "metadata": {},
   "outputs": [],
   "source": [
    "##44.Check if two sets have the same elements, regardless of their count."
   ]
  },
  {
   "cell_type": "code",
   "execution_count": 65,
   "id": "efadb927-8815-443f-b9dc-c2354b0aa9f5",
   "metadata": {},
   "outputs": [
    {
     "name": "stdout",
     "output_type": "stream",
     "text": [
      "The sets have the same elements.\n"
     ]
    }
   ],
   "source": [
    "# Define two sets\n",
    "set1 = {1, 2, 3, 4, 5}\n",
    "set2 = {5, 4, 3, 2, 1}\n",
    "\n",
    "# Check if the sets have the same elements\n",
    "if set1 == set2:\n",
    "    print(\"The sets have the same elements.\")\n",
    "else:\n",
    "    print(\"The sets do not have the same elements.\")\n"
   ]
  },
  {
   "cell_type": "code",
   "execution_count": 66,
   "id": "da06362e-e518-4efd-bc5a-341e6e5f055a",
   "metadata": {},
   "outputs": [],
   "source": [
    "##45.Create a set of the first `n` powers of 2."
   ]
  },
  {
   "cell_type": "code",
   "execution_count": 70,
   "id": "42592662-6b23-4d6a-9068-e406f3869559",
   "metadata": {},
   "outputs": [
    {
     "name": "stdout",
     "output_type": "stream",
     "text": [
      "Set of the first 5 powers of 2: {1, 2, 4, 8, 16}\n"
     ]
    }
   ],
   "source": [
    "# Function to generate the first n powers of 2\n",
    "def generate_powers_of_2(n):\n",
    "    return {2**i for i in range(n)}\n",
    "\n",
    "# Specify the value of n\n",
    "n = 5\n",
    "\n",
    "# Create a set of the first n powers of 2\n",
    "powers_of_2_set = generate_powers_of_2(n)\n",
    "\n",
    "# Print the set\n",
    "print(f\"Set of the first {n} powers of 2:\", powers_of_2_set)\n"
   ]
  },
  {
   "cell_type": "code",
   "execution_count": 71,
   "id": "245ab0c1-3fe5-48e2-a81a-21eb67cd5fae",
   "metadata": {},
   "outputs": [],
   "source": [
    "##46.Find the common elements between a set and a list."
   ]
  },
  {
   "cell_type": "code",
   "execution_count": 73,
   "id": "5f57fb0b-70a7-4e94-88a2-7b5231a90bbb",
   "metadata": {},
   "outputs": [
    {
     "name": "stdout",
     "output_type": "stream",
     "text": [
      "Common elements: {3, 4, 5}\n"
     ]
    }
   ],
   "source": [
    "# Define a set and a list\n",
    "my_set = {1, 2, 3, 4, 5}\n",
    "my_list = [3, 4, 5, 6, 7]\n",
    "\n",
    "# Find the common elements using the intersection method\n",
    "common_elements = my_set.intersection(my_list)\n",
    "\n",
    "# Print the common elements\n",
    "print(\"Common elements:\", common_elements)\n"
   ]
  },
  {
   "cell_type": "code",
   "execution_count": 74,
   "id": "616f7d45-58c4-4939-b7b0-10d4165ade37",
   "metadata": {},
   "outputs": [],
   "source": [
    "##47.Create a set of the first `n` triangular numbers."
   ]
  },
  {
   "cell_type": "code",
   "execution_count": 77,
   "id": "1ad2c4e6-cfa4-4ba0-898f-4d6d9d2d3836",
   "metadata": {},
   "outputs": [
    {
     "name": "stdout",
     "output_type": "stream",
     "text": [
      "Set of the first 5 triangular numbers: {1, 3, 6, 10, 15}\n"
     ]
    }
   ],
   "source": [
    "# Function to generate the first n triangular numbers\n",
    "def generate_triangular_numbers(n):\n",
    "    return {(i * (i + 1)) // 2 for i in range(1, n + 1)}\n",
    "\n",
    "# Specify the value of n\n",
    "n = 5\n",
    "\n",
    "# Create a set of the first n triangular numbers\n",
    "triangular_numbers_set = generate_triangular_numbers(n)\n",
    "\n",
    "# Print the set\n",
    "print(f\"Set of the first {n} triangular numbers:\", triangular_numbers_set)\n"
   ]
  },
  {
   "cell_type": "code",
   "execution_count": 78,
   "id": "06a77bab-ffaf-40be-8510-78b82be5fda7",
   "metadata": {},
   "outputs": [],
   "source": [
    "##48.Check if a set contains another set as a subset."
   ]
  },
  {
   "cell_type": "code",
   "execution_count": 80,
   "id": "31b6a3ac-341e-42f6-b436-bd490edc2b2b",
   "metadata": {},
   "outputs": [
    {
     "name": "stdout",
     "output_type": "stream",
     "text": [
      "set2 is a subset of set1.\n"
     ]
    }
   ],
   "source": [
    "# Define two sets\n",
    "set1 = {1, 2, 3, 4, 5}\n",
    "set2 = {2, 4}\n",
    "\n",
    "# Check if set2 is a subset of set1\n",
    "if set2.issubset(set1):\n",
    "    print(\"set2 is a subset of set1.\")\n",
    "else:\n",
    "    print(\"set2 is not a subset of set1.\")\n"
   ]
  },
  {
   "cell_type": "code",
   "execution_count": 81,
   "id": "dc5d9f93-01c1-47c7-8f3d-71ce604dd2b7",
   "metadata": {},
   "outputs": [],
   "source": [
    "##49.Create a set of alternating 1s and 0s of length `n`."
   ]
  },
  {
   "cell_type": "code",
   "execution_count": 83,
   "id": "5565ce12-5930-44ec-8d50-6e6035016368",
   "metadata": {},
   "outputs": [
    {
     "name": "stdout",
     "output_type": "stream",
     "text": [
      "Set of alternating 1s and 0s of length 8: {0, 1}\n"
     ]
    }
   ],
   "source": [
    "# Function to generate a set of alternating 1s and 0s\n",
    "def generate_alternating_set(n):\n",
    "    return {i % 2 for i in range(n)}\n",
    "\n",
    "# Specify the value of n\n",
    "n = 8\n",
    "\n",
    "# Create a set of alternating 1s and 0s\n",
    "alternating_set = generate_alternating_set(n)\n",
    "\n",
    "# Print the set\n",
    "print(f\"Set of alternating 1s and 0s of length {n}:\", alternating_set)\n"
   ]
  },
  {
   "cell_type": "code",
   "execution_count": 84,
   "id": "2943e624-6546-41c2-8f3f-ada7ac2d60cd",
   "metadata": {},
   "outputs": [],
   "source": [
    "##50.Merge multiple sets into one."
   ]
  },
  {
   "cell_type": "code",
   "execution_count": 86,
   "id": "7a887b9d-d7f2-4828-a2c9-f6ef6ea61ef8",
   "metadata": {},
   "outputs": [
    {
     "name": "stdout",
     "output_type": "stream",
     "text": [
      "Merged set: {1, 2, 3, 4, 5, 6, 7}\n"
     ]
    }
   ],
   "source": [
    "# Define multiple sets\n",
    "set1 = {1, 2, 3}\n",
    "set2 = {3, 4, 5}\n",
    "set3 = {5, 6, 7}\n",
    "\n",
    "# Merge sets using the union method\n",
    "merged_set = set1.union(set2, set3)\n",
    "\n",
    "# Print the merged set\n",
    "print(\"Merged set:\", merged_set)\n"
   ]
  },
  {
   "cell_type": "code",
   "execution_count": null,
   "id": "dc7d3dcb-2415-4861-813d-8b66671dc264",
   "metadata": {},
   "outputs": [],
   "source": []
  }
 ],
 "metadata": {
  "kernelspec": {
   "display_name": "Python 3 (ipykernel)",
   "language": "python",
   "name": "python3"
  },
  "language_info": {
   "codemirror_mode": {
    "name": "ipython",
    "version": 3
   },
   "file_extension": ".py",
   "mimetype": "text/x-python",
   "name": "python",
   "nbconvert_exporter": "python",
   "pygments_lexer": "ipython3",
   "version": "3.10.8"
  }
 },
 "nbformat": 4,
 "nbformat_minor": 5
}
